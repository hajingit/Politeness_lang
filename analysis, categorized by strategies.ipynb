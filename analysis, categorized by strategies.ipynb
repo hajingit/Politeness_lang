{
 "cells": [
  {
   "cell_type": "code",
<<<<<<< HEAD
   "execution_count": 4,
=======
   "execution_count": 1,
>>>>>>> d721be8a44327d7b5e42ae30213622356d6a563d
   "metadata": {},
   "outputs": [],
   "source": [
    "import json\n",
    "import numpy as np\n",
    "import matplotlib.pyplot as plt\n",
    "%matplotlib inline\n",
    "from scipy import stats\n",
    "\n",
    "import pprint"
   ]
  },
  {
   "cell_type": "markdown",
   "metadata": {},
   "source": [
    "### reading data"
   ]
  },
  {
   "cell_type": "code",
<<<<<<< HEAD
   "execution_count": 5,
=======
   "execution_count": 2,
>>>>>>> d721be8a44327d7b5e42ae30213622356d6a563d
   "metadata": {},
   "outputs": [],
   "source": [
    "with open(\"sort_in_strategies.json\") as fin:\n",
    "    t = fin.read()"
   ]
  },
  {
   "cell_type": "code",
<<<<<<< HEAD
   "execution_count": 6,
=======
   "execution_count": 3,
>>>>>>> d721be8a44327d7b5e42ae30213622356d6a563d
   "metadata": {},
   "outputs": [],
   "source": [
    "data = json.loads(t)\n",
    "#pprint.pprint(data)"
   ]
  },
  {
   "cell_type": "markdown",
   "metadata": {},
   "source": [
    "### preprocess"
   ]
  },
  {
   "cell_type": "code",
<<<<<<< HEAD
   "execution_count": 7,
=======
   "execution_count": 4,
>>>>>>> d721be8a44327d7b5e42ae30213622356d6a563d
   "metadata": {},
   "outputs": [],
   "source": [
    "data_np = {}\n",
    "for strategy, sentences in data.items():\n",
    "    temp_data = np.zeros((len(sentences), 2))\n",
    "    for i, sentence in enumerate(sentences):\n",
    "        temp_data[i][0] = sentence[\"ch_mean\"]\n",
    "        temp_data[i][1] = sentence[\"en_mean\"]\n",
    "    data_np[strategy] = temp_data"
   ]
  },
  {
   "cell_type": "markdown",
   "metadata": {},
   "source": [
    "### strategy-wise t-test and p-value"
   ]
  },
  {
   "cell_type": "code",
   "execution_count": 8,
   "metadata": {},
   "outputs": [
    {
     "name": "stdout",
     "output_type": "stream",
     "text": [
      "feature_politeness_==2nd_person==\n",
      "Ttest_indResult(statistic=5.013216824635514, pvalue=6.518243610949175e-07)\n",
      "feature_politeness_==HASHEDGE==\n",
      "Ttest_indResult(statistic=2.739274862402433, pvalue=0.0064343462420056305)\n",
      "feature_politeness_==HASPOSITIVE==\n",
      "Ttest_indResult(statistic=3.086263283994011, pvalue=0.0021374904860140373)\n",
      "feature_politeness_==Direct_question==\n",
      "Ttest_indResult(statistic=1.283687864637568, pvalue=0.20045901594645588)\n",
      "feature_politeness_==Factuality==\n",
      "Ttest_indResult(statistic=2.191478158625658, pvalue=0.033518621452833186)\n",
      "feature_politeness_==SUBJUNCTIVE==\n",
      "Ttest_indResult(statistic=5.014347806120296, pvalue=1.303276349218317e-06)\n",
      "feature_politeness_==HASNEGATIVE==\n",
      "Ttest_indResult(statistic=3.0162522921268438, pvalue=0.0027304133210836606)\n",
      "feature_politeness_==1st_person==\n",
      "Ttest_indResult(statistic=3.1550730557465334, pvalue=0.0017162019489397353)\n",
      "feature_politeness_==Hedges==\n",
      "Ttest_indResult(statistic=1.1460968851679547, pvalue=0.2531964558566462)\n",
      "feature_politeness_==Deference==\n",
      "Ttest_indResult(statistic=-0.8994778200196156, pvalue=0.3817363721135466)\n",
      "feature_politeness_==1st_person_pl.==\n",
      "Ttest_indResult(statistic=0.3621535216623026, pvalue=0.7181055474843834)\n",
      "feature_politeness_==1st_person_start==\n",
      "Ttest_indResult(statistic=3.619283982231555, pvalue=0.00033770997548749303)\n",
      "feature_politeness_==Gratitude==\n",
      "Ttest_indResult(statistic=1.123977386679805, pvalue=0.2654994858002409)\n",
      "feature_politeness_==Direct_start==\n",
      "Ttest_indResult(statistic=1.414161093228222, pvalue=0.15944352508152426)\n",
      "feature_politeness_==Indirect_(greeting)==\n",
      "Ttest_indResult(statistic=0.8484440302741157, pvalue=0.39793813516882603)\n",
      "feature_politeness_==Please==\n",
      "Ttest_indResult(statistic=3.354114335141079, pvalue=0.0011577073134843934)\n",
      "feature_politeness_==Apologizing==\n",
      "Ttest_indResult(statistic=0.9394824992203271, pvalue=0.35410995921164967)\n",
      "feature_politeness_==INDICATIVE==\n",
      "Ttest_indResult(statistic=2.2908682703168695, pvalue=0.023402470248640277)\n",
      "feature_politeness_==2nd_person_start==\n",
      "Ttest_indResult(statistic=0.5104055598758728, pvalue=0.6115233399390849)\n",
      "feature_politeness_==Please_start==\n",
      "Ttest_indResult(statistic=0.6180871124071112, pvalue=0.5503347660048314)\n"
     ]
    }
   ],
   "source": [
    "for strategy, arr in data_np.items():\n",
    "    ttest_result = stats.ttest_ind(arr[:, 0], arr[:, 1])\n",
    "    print(f\"{strategy}\")\n",
    "    print(ttest_result)"
   ]
  },
  {
   "cell_type": "markdown",
   "metadata": {},
   "source": [
    "### test"
   ]
  },
  {
   "cell_type": "code",
   "execution_count": 17,
   "metadata": {},
   "outputs": [
    {
     "name": "stdout",
     "output_type": "stream",
     "text": [
      "feature_politeness_==2nd_person==\n",
      "Ttest_indResult(statistic=5.013216824635514, pvalue=6.518243610949175e-07)\n",
      "1.0886732031492625\n",
      "feature_politeness_==HASHEDGE==\n",
      "Ttest_indResult(statistic=2.739274862402433, pvalue=0.0064343462420056305)\n",
      "0.8194027672708034\n",
      "feature_politeness_==HASPOSITIVE==\n",
      "Ttest_indResult(statistic=3.086263283994011, pvalue=0.0021374904860140373)\n",
      "0.876601300899889\n",
      "feature_politeness_==Direct_question==\n",
      "Ttest_indResult(statistic=1.283687864637568, pvalue=0.20045901594645588)\n",
      "0.5116263431526961\n",
      "feature_politeness_==Factuality==\n",
      "Ttest_indResult(statistic=2.191478158625658, pvalue=0.033518621452833186)\n",
      "2.081382242962718\n",
      "feature_politeness_==SUBJUNCTIVE==\n",
      "Ttest_indResult(statistic=5.014347806120296, pvalue=1.303276349218317e-06)\n",
      "2.4664096464826306\n",
      "feature_politeness_==HASNEGATIVE==\n",
      "Ttest_indResult(statistic=3.0162522921268438, pvalue=0.0027304133210836606)\n",
      "1.0685205834452063\n",
      "feature_politeness_==1st_person==\n",
      "Ttest_indResult(statistic=3.1550730557465334, pvalue=0.0017162019489397353)\n",
      "0.9232561492933593\n",
      "feature_politeness_==Hedges==\n",
      "Ttest_indResult(statistic=1.1460968851679547, pvalue=0.2531964558566462)\n",
      "0.5010044557663302\n",
      "feature_politeness_==Deference==\n",
      "Ttest_indResult(statistic=-0.8994778200196156, pvalue=0.3817363721135466)\n",
      "-1.0705908098154593\n",
      "feature_politeness_==1st_person_pl.==\n",
      "Ttest_indResult(statistic=0.3621535216623026, pvalue=0.7181055474843834)\n",
      "0.28194886479112835\n",
      "feature_politeness_==1st_person_start==\n",
      "Ttest_indResult(statistic=3.619283982231555, pvalue=0.00033770997548749303)\n",
      "1.0976497418972668\n",
      "feature_politeness_==Gratitude==\n",
      "Ttest_indResult(statistic=1.123977386679805, pvalue=0.2654994858002409)\n",
      "0.668202756874023\n",
      "feature_politeness_==Direct_start==\n",
      "Ttest_indResult(statistic=1.414161093228222, pvalue=0.15944352508152426)\n",
      "0.8224367357387736\n",
      "feature_politeness_==Indirect_(greeting)==\n",
      "Ttest_indResult(statistic=0.8484440302741157, pvalue=0.39793813516882603)\n",
      "0.4060263575638756\n",
      "feature_politeness_==Please==\n",
      "Ttest_indResult(statistic=3.354114335141079, pvalue=0.0011577073134843934)\n",
      "2.5634920654144695\n",
      "feature_politeness_==Apologizing==\n",
      "Ttest_indResult(statistic=0.9394824992203271, pvalue=0.35410995921164967)\n",
      "0.9576278494464026\n",
      "feature_politeness_==INDICATIVE==\n",
      "Ttest_indResult(statistic=2.2908682703168695, pvalue=0.023402470248640277)\n",
      "1.0785070639607066\n",
      "feature_politeness_==2nd_person_start==\n",
      "Ttest_indResult(statistic=0.5104055598758728, pvalue=0.6115233399390849)\n",
      "0.4434102895584973\n",
      "feature_politeness_==Please_start==\n",
      "Ttest_indResult(statistic=0.6180871124071112, pvalue=0.5503347660048314)\n",
      "0.9952380309502282\n"
     ]
    }
   ],
   "source": [
    "for strategy, arr in data_np.items():\n",
    "    mean_diff = arr[:,0].mean() - arr[:,1].mean()\n",
    "    print(f\"{strategy}\")\n",
    "    ttest_result = stats.ttest_ind(arr[:, 0], arr[:, 1])\n",
    "    print(ttest_result)    \n",
    "    print(mean_diff)"
   ]
  },
  {
   "cell_type": "markdown",
   "metadata": {},
   "source": [
    "### plot"
   ]
  },
  {
   "cell_type": "code",
   "execution_count": 5,
   "metadata": {},
   "outputs": [
    {
     "data": {
      "image/png": "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\n",
      "text/plain": [
       "<Figure size 1080x504 with 1 Axes>"
      ]
     },
     "metadata": {},
     "output_type": "display_data"
    }
   ],
   "source": [
    "fig, ax = plt.subplots()\n",
    "\n",
    "fig.set_size_inches((15, 7))\n",
    "\n",
    "plt.xticks(rotation=70)\n",
    "\n",
    "keys = []\n",
    "ch_vals = []\n",
    "en_vals = []\n",
    "for strategy, arr in data_np.items():\n",
    "    keys.append(strategy)\n",
    "    ch_vals.append(arr[:, 0].mean())\n",
    "    en_vals.append(arr[:, 1].mean())\n",
    "\n",
    "ch_vals = np.array(ch_vals)\n",
    "en_vals = np.array(en_vals)\n",
    "y_pos = np.arange(len(keys))\n",
    "ax.bar(y_pos-0.2, ch_vals, width=0.2, align='edge', alpha=0.5, label=\"CH\")\n",
    "ax.bar(y_pos+0.2, en_vals, width=0.2, align='edge', alpha=0.5, label=\"EN\")\n",
    "ax.set_xticks(y_pos - 0.2)\n",
    "ax.set_xticklabels(keys)\n",
    "ax.set_ylabel('mean')\n",
    "ax.legend()\n",
    "\n",
    "plt.show()"
   ]
  },
  {
   "cell_type": "code",
   "execution_count": 15,
   "metadata": {},
   "outputs": [
    {
     "data": {
      "text/plain": [
       "Text(0,0.5,'Frequency')"
      ]
     },
     "execution_count": 15,
     "metadata": {},
     "output_type": "execute_result"
    },
    {
     "data": {
      "image/png": "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\n",
      "text/plain": [
       "<Figure size 432x288 with 1 Axes>"
      ]
     },
     "metadata": {},
     "output_type": "display_data"
    }
   ],
   "source": [
    "target = \"feature_politeness_==Please_start==\"\n",
    "arr = data_np[target]\n",
    "\n",
    "plt.hist(arr[:, 0], histtype='step', rwidth=0.01, label=\"CH\")\n",
    "plt.hist(arr[:, 1], histtype='step', rwidth=0.01, label=\"EN\")\n",
    "plt.legend()\n",
    "plt.title(f\"Distribution of mean ratings in {target}\")\n",
    "plt.xlabel(\"Mean Ratings for each message\")\n",
    "plt.ylabel(\"Frequency\")"
   ]
  },
  {
   "cell_type": "code",
   "execution_count": null,
   "metadata": {},
   "outputs": [],
   "source": []
  },
  {
   "cell_type": "code",
   "execution_count": null,
   "metadata": {},
   "outputs": [],
   "source": []
  },
  {
   "cell_type": "code",
   "execution_count": 19,
   "metadata": {},
   "outputs": [
    {
     "name": "stdout",
     "output_type": "stream",
     "text": [
      "[{'Num': 6,\n",
      "  'Request': 'Good work on the canal junctions! Where appropriate, do you '\n",
      "             'think we should give the nearest pedestrian access point, from '\n",
      "             'the road (as opposed to canal) network?',\n",
      "  'ch_mean': 8.0,\n",
      "  'en_mean': 7.25},\n",
      " {'Num': 78,\n",
      "  'Request': 'What would the recommended sequencing be, then?... Good Article '\n",
      "             'then Feautred Article recommendation?',\n",
      "  'ch_mean': -0.4000000059604645,\n",
      "  'en_mean': -0.1111111119389534},\n",
      " {'Num': 212,\n",
      "  'Request': 'Great job. Will it be done by next week?',\n",
      "  'ch_mean': 3.200000047683716,\n",
      "  'en_mean': 7.44444465637207},\n",
      " {'Num': 265,\n",
      "  'Request': 'Good idea.... Perhaps though you could also make a list of kings '\n",
      "             'on that page??',\n",
      "  'ch_mean': 3.4000000953674316,\n",
      "  'en_mean': 4.75},\n",
      " {'Num': 286,\n",
      "  'Request': 'Nice work so far on your rewrite of \"The One After the '\n",
      "             'Superbowl\". Are you planning on including info about the Diet '\n",
      "             'Coke fiasco?',\n",
      "  'ch_mean': 2.0,\n",
      "  'en_mean': 8.25},\n",
      " {'Num': 1010,\n",
      "  'Request': 'Interesting illustration on the PrIze law page of a Zeppelin '\n",
      "             'taking a Norwegian vessel as a prize in 1917.  I wonder whether '\n",
      "             'you could point me to a source for more information on this '\n",
      "             'incident?',\n",
      "  'ch_mean': 3.625,\n",
      "  'en_mean': 3.7142856121063232},\n",
      " {'Num': 1018,\n",
      "  'Request': 'Good find. Do you have a cite for the second para?',\n",
      "  'ch_mean': 3.142857074737549,\n",
      "  'en_mean': 5.142857074737549},\n",
      " {'Num': 1202,\n",
      "  'Request': \"Excellent, thank you! Can you also delete the 'url' from en and \"\n",
      "             \"move hooks from the 'url' to 'url'?\",\n",
      "  'ch_mean': 6.44444465637207,\n",
      "  'en_mean': 4.857142925262451},\n",
      " {'Num': 1258,\n",
      "  'Request': 'Great Article RaveenS, Do u want me to add this to the template '\n",
      "             '(Sri Lankan Conflict)? I think it should be included in the '\n",
      "             \"''see also'' section what do you suggest?\",\n",
      "  'ch_mean': 5.25,\n",
      "  'en_mean': 3.0}]\n"
     ]
    }
   ],
   "source": [
    "import pprint\n",
    "pprint.pprint(json.loads(t)['feature_politeness_==Deference=='])"
   ]
  },
  {
   "cell_type": "code",
   "execution_count": 2,
   "metadata": {},
   "outputs": [
    {
     "name": "stdout",
     "output_type": "stream",
     "text": [
      "{'score_impolite': 0.632821357716149,\n",
      " 'score_polite': 0.3671786422838511,\n",
      " 'sentences': [{'impolite_index': {1, 4},\n",
      "                'involved_index': {1, 3, 4},\n",
      "                'polite_index': [],\n",
      "                'tokens': ['what', 'are', 'you', 'doing', '?']}],\n",
      " 'strategies': ['feature_politeness_==2nd_person==',\n",
      "                'feature_politeness_==Direct_question==']}\n"
     ]
    }
   ],
   "source": [
    "import pprint\n",
    "from politeness.api_util import get_scores_strategies_token_indices\n",
    "ret = get_scores_strategies_token_indices(\"what are you doing?\")\n",
    "pprint.pprint(ret)"
   ]
  },
  {
   "cell_type": "code",
   "execution_count": null,
   "metadata": {},
   "outputs": [],
   "source": []
  }
 ],
 "metadata": {
  "kernelspec": {
   "display_name": "Python 3",
   "language": "python",
   "name": "python3"
  },
  "language_info": {
   "codemirror_mode": {
    "name": "ipython",
    "version": 3
   },
   "file_extension": ".py",
   "mimetype": "text/x-python",
   "name": "python",
   "nbconvert_exporter": "python",
   "pygments_lexer": "ipython3",
   "version": "3.6.5"
  }
 },
 "nbformat": 4,
 "nbformat_minor": 2
}
