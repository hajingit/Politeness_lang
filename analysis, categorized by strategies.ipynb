{
 "cells": [
  {
   "cell_type": "code",
<<<<<<< HEAD
   "execution_count": 4,
=======
   "execution_count": 1,
<<<<<<< HEAD
   "metadata": {
    "collapsed": true
   },
=======
>>>>>>> d721be8a44327d7b5e42ae30213622356d6a563d
   "metadata": {},
>>>>>>> origin/master
   "outputs": [],
   "source": [
    "import json\n",
    "import numpy as np\n",
    "import matplotlib.pyplot as plt\n",
    "%matplotlib inline\n",
    "from scipy import stats\n",
    "\n",
    "import pprint"
   ]
  },
  {
   "cell_type": "markdown",
   "metadata": {},
   "source": [
    "### reading data"
   ]
  },
  {
   "cell_type": "code",
<<<<<<< HEAD
   "execution_count": 5,
=======
   "execution_count": 2,
<<<<<<< HEAD
   "metadata": {
    "collapsed": true
   },
=======
>>>>>>> d721be8a44327d7b5e42ae30213622356d6a563d
   "metadata": {},
>>>>>>> origin/master
   "outputs": [],
   "source": [
    "with open(\"sort_in_strategies.json\") as fin:\n",
    "    t = fin.read()"
   ]
  },
  {
   "cell_type": "code",
<<<<<<< HEAD
   "execution_count": 6,
=======
   "execution_count": 3,
<<<<<<< HEAD
   "metadata": {
    "collapsed": true
   },
=======
>>>>>>> d721be8a44327d7b5e42ae30213622356d6a563d
   "metadata": {},
>>>>>>> origin/master
   "outputs": [],
   "source": [
    "data = json.loads(t)\n",
    "#pprint.pprint(data)"
   ]
  },
  {
   "cell_type": "markdown",
   "metadata": {},
   "source": [
    "### preprocess"
   ]
  },
  {
   "cell_type": "code",
<<<<<<< HEAD
   "execution_count": 7,
=======
   "execution_count": 4,
<<<<<<< HEAD
   "metadata": {
    "collapsed": true
   },
=======
>>>>>>> d721be8a44327d7b5e42ae30213622356d6a563d
   "metadata": {},
>>>>>>> origin/master
   "outputs": [],
   "source": [
    "data_np = {}\n",
    "for strategy, sentences in data.items():\n",
    "    temp_data = np.zeros((len(sentences), 2))\n",
    "    for i, sentence in enumerate(sentences):\n",
    "        temp_data[i][0] = sentence[\"ch_mean\"]\n",
    "        temp_data[i][1] = sentence[\"en_mean\"]\n",
    "    data_np[strategy] = temp_data"
   ]
  },
  {
   "cell_type": "markdown",
   "metadata": {},
   "source": [
    "### strategy-wise t-test and p-value"
   ]
  },
  {
   "cell_type": "code",
<<<<<<< HEAD
   "execution_count": 5,
=======
   "execution_count": 8,
>>>>>>> origin/master
   "metadata": {},
   "outputs": [
    {
     "name": "stdout",
     "output_type": "stream",
     "text": [
      "2nd person\n",
      "Ttest_indResult(statistic=5.013216824635514, pvalue=6.518243610949175e-07)\n",
      "HASHEDGE\n",
      "Ttest_indResult(statistic=2.739274862402433, pvalue=0.0064343462420056305)\n",
      "HASPOSITIVE\n",
      "Ttest_indResult(statistic=3.086263283994011, pvalue=0.0021374904860140373)\n",
      "Direct question\n",
      "Ttest_indResult(statistic=1.283687864637568, pvalue=0.20045901594645588)\n",
      "Factuality\n",
      "Ttest_indResult(statistic=2.191478158625658, pvalue=0.033518621452833186)\n",
      "SUBJUNCTIVE\n",
      "Ttest_indResult(statistic=5.014347806120296, pvalue=1.303276349218317e-06)\n",
      "HASNEGATIVE\n",
      "Ttest_indResult(statistic=3.0162522921268438, pvalue=0.0027304133210836606)\n",
      "1st person\n",
      "Ttest_indResult(statistic=3.1550730557465334, pvalue=0.0017162019489397353)\n",
      "Hedges\n",
      "Ttest_indResult(statistic=1.1460968851679547, pvalue=0.2531964558566462)\n",
      "Deference\n",
      "Ttest_indResult(statistic=-0.8994778200196156, pvalue=0.3817363721135466)\n",
      "1st person pl.\n",
      "Ttest_indResult(statistic=0.3621535216623026, pvalue=0.7181055474843834)\n",
      "1st person start\n",
      "Ttest_indResult(statistic=3.619283982231555, pvalue=0.00033770997548749303)\n",
      "Gratitude\n",
      "Ttest_indResult(statistic=1.123977386679805, pvalue=0.2654994858002409)\n",
      "Direct start\n",
      "Ttest_indResult(statistic=1.414161093228222, pvalue=0.15944352508152426)\n",
      "Indirect (greeting)\n",
      "Ttest_indResult(statistic=0.8484440302741157, pvalue=0.39793813516882603)\n",
      "Please\n",
      "Ttest_indResult(statistic=3.354114335141079, pvalue=0.0011577073134843934)\n",
      "Apologizing\n",
      "Ttest_indResult(statistic=0.9394824992203271, pvalue=0.35410995921164967)\n",
      "INDICATIVE\n",
      "Ttest_indResult(statistic=2.2908682703168695, pvalue=0.023402470248640277)\n",
      "2nd person start\n",
      "Ttest_indResult(statistic=0.5104055598758728, pvalue=0.6115233399390849)\n",
      "Please start\n",
      "Ttest_indResult(statistic=0.6180871124071112, pvalue=0.5503347660048314)\n"
     ]
    }
   ],
   "source": [
    "for strategy, arr in data_np.items():\n",
    "    ttest_result = stats.ttest_ind(arr[:, 0], arr[:, 1])\n",
    "    print(f\"{strategy}\")\n",
    "    print(ttest_result)"
   ]
  },
  {
   "cell_type": "markdown",
   "metadata": {},
   "source": [
    "### test"
   ]
  },
  {
   "cell_type": "code",
   "execution_count": 17,
   "metadata": {},
   "outputs": [
    {
     "name": "stdout",
     "output_type": "stream",
     "text": [
      "feature_politeness_==2nd_person==\n",
      "Ttest_indResult(statistic=5.013216824635514, pvalue=6.518243610949175e-07)\n",
      "1.0886732031492625\n",
      "feature_politeness_==HASHEDGE==\n",
      "Ttest_indResult(statistic=2.739274862402433, pvalue=0.0064343462420056305)\n",
      "0.8194027672708034\n",
      "feature_politeness_==HASPOSITIVE==\n",
      "Ttest_indResult(statistic=3.086263283994011, pvalue=0.0021374904860140373)\n",
      "0.876601300899889\n",
      "feature_politeness_==Direct_question==\n",
      "Ttest_indResult(statistic=1.283687864637568, pvalue=0.20045901594645588)\n",
      "0.5116263431526961\n",
      "feature_politeness_==Factuality==\n",
      "Ttest_indResult(statistic=2.191478158625658, pvalue=0.033518621452833186)\n",
      "2.081382242962718\n",
      "feature_politeness_==SUBJUNCTIVE==\n",
      "Ttest_indResult(statistic=5.014347806120296, pvalue=1.303276349218317e-06)\n",
      "2.4664096464826306\n",
      "feature_politeness_==HASNEGATIVE==\n",
      "Ttest_indResult(statistic=3.0162522921268438, pvalue=0.0027304133210836606)\n",
      "1.0685205834452063\n",
      "feature_politeness_==1st_person==\n",
      "Ttest_indResult(statistic=3.1550730557465334, pvalue=0.0017162019489397353)\n",
      "0.9232561492933593\n",
      "feature_politeness_==Hedges==\n",
      "Ttest_indResult(statistic=1.1460968851679547, pvalue=0.2531964558566462)\n",
      "0.5010044557663302\n",
      "feature_politeness_==Deference==\n",
      "Ttest_indResult(statistic=-0.8994778200196156, pvalue=0.3817363721135466)\n",
      "-1.0705908098154593\n",
      "feature_politeness_==1st_person_pl.==\n",
      "Ttest_indResult(statistic=0.3621535216623026, pvalue=0.7181055474843834)\n",
      "0.28194886479112835\n",
      "feature_politeness_==1st_person_start==\n",
      "Ttest_indResult(statistic=3.619283982231555, pvalue=0.00033770997548749303)\n",
      "1.0976497418972668\n",
      "feature_politeness_==Gratitude==\n",
      "Ttest_indResult(statistic=1.123977386679805, pvalue=0.2654994858002409)\n",
      "0.668202756874023\n",
      "feature_politeness_==Direct_start==\n",
      "Ttest_indResult(statistic=1.414161093228222, pvalue=0.15944352508152426)\n",
      "0.8224367357387736\n",
      "feature_politeness_==Indirect_(greeting)==\n",
      "Ttest_indResult(statistic=0.8484440302741157, pvalue=0.39793813516882603)\n",
      "0.4060263575638756\n",
      "feature_politeness_==Please==\n",
      "Ttest_indResult(statistic=3.354114335141079, pvalue=0.0011577073134843934)\n",
      "2.5634920654144695\n",
      "feature_politeness_==Apologizing==\n",
      "Ttest_indResult(statistic=0.9394824992203271, pvalue=0.35410995921164967)\n",
      "0.9576278494464026\n",
      "feature_politeness_==INDICATIVE==\n",
      "Ttest_indResult(statistic=2.2908682703168695, pvalue=0.023402470248640277)\n",
      "1.0785070639607066\n",
      "feature_politeness_==2nd_person_start==\n",
      "Ttest_indResult(statistic=0.5104055598758728, pvalue=0.6115233399390849)\n",
      "0.4434102895584973\n",
      "feature_politeness_==Please_start==\n",
      "Ttest_indResult(statistic=0.6180871124071112, pvalue=0.5503347660048314)\n",
      "0.9952380309502282\n"
     ]
    }
   ],
   "source": [
    "for strategy, arr in data_np.items():\n",
    "    mean_diff = arr[:,0].mean() - arr[:,1].mean()\n",
    "    print(f\"{strategy}\")\n",
    "    ttest_result = stats.ttest_ind(arr[:, 0], arr[:, 1])\n",
    "    print(ttest_result)    \n",
    "    print(mean_diff)"
   ]
  },
  {
   "cell_type": "markdown",
   "metadata": {},
   "source": [
    "### plot"
   ]
  },
  {
   "cell_type": "code",
   "execution_count": 7,
   "metadata": {},
   "outputs": [
    {
     "data": {
      "image/png": "iVBORw0KGgoAAAANSUhEUgAAA3oAAAIkCAYAAABIoFlLAAAABHNCSVQICAgIfAhkiAAAAAlwSFlz\nAAALEgAACxIB0t1+/AAAIABJREFUeJzs3Xm8XHV9//HXhywEAUEhChogVIksoiwRFNQKirKpxaVK\ncV8QLRb5iQsVFVcEF2i11UZxoVpxxX2LCu4KQQFBFEWloiARF0ABIX5+f3zOwJAm4ZLcmTP58no+\nHjySO3Nzz4e5M+ec93eNzESSJEmS1I51+i5AkiRJkjS9DHqSJEmS1BiDniRJkiQ1xqAnSZIkSY0x\n6EmSJElSYwx6kiRJktQYg54kSZIkNcagJ0mSJEmNMehJkiRJUmNm9l3AbbHpppvm/Pnz+y5DkiRJ\nknpx9tln/y4z597a961VQW/+/PksWbKk7zIkSZIkqRcRcclUvs+hm5IkSZLUGIOeJEmSJDXGoCdJ\nkiRJjVmr5uhJkiRJ0q254YYbuPTSS7nuuuv6LmW1zZkzh3nz5jFr1qzV+vcGPUmSJElNufTSS9lw\nww2ZP38+EdF3ObdZZnLllVdy6aWXsvXWW6/Wz3DopiRJkqSmXHfddWyyySZrZcgDiAg22WSTNeqR\nNOhJkiRJas7aGvIG1rR+g54kSZIkNcY5epIkSZKaduLii6b15x25z4Jb/Z7LL7+cF7zgBZx11lls\nvPHG3PWud+Wkk07iMY95DOeff/5N33fssceywQYbcNRRR01rjQY9SZIkSZpGmclBBx3EU5/6VE49\n9VQAzj33XH7729+OrQaHbkqSJEnSNDr99NOZNWsWhx122E2P3fe+92WLLbYYWw326EmSJEnSNDr/\n/PPZddddV/jcxRdfzE477XTT15dffvm0D9uEnoNeRPwSuBpYBtyYmQv7rEeSJEmSRuke97gH55xz\nzk1fH3vssSM5ziQM3dwrM3cy5EmSJElqwQ477MDZZ5/daw2TEPQkSZIkqRl77703119/PYsWLbrp\nsfPOO49f/epXY6uh7zl6CXw5IpYB/5WZi5b/hog4FDgUYMsttxxzeZIkSZLWdlPZDmE6RQSnnXYa\nL3jBCzj++OOZM2cO8+fP56STThpfDZk5toP9n4NH3D0zfx0RdwEWA8/PzK+v7PsXLlyYS5YsGV+B\nkiRJktY6F154Idttt13fZayxFf1/RMTZU5n21uvQzcz8dffnFcBpwG591iNJkiRJLeht6GZErA+s\nk5lXd39/OPDqvuqRJEn9OHHxRat8ftxDriSpBX3O0bsrcFpEDOr4n8z8Qo/1SJJuD04/btXP73X0\neOqQJGmEegt6mflz4L59HV+SJEmSWuX2CpIkSZLUGIOeJEmSJDWm7330JEmSJGm0bm1+9m01hfnc\nM2bMYMcdd7zp6yc+8Ym89KUv5SEPeQjXXHMNg23jlixZwlFHHcUZZ5wxrSUa9CRJkiRpmq233nqc\nc845K3zuiiuu4POf/zz77bffyI7v0E1JkiRJGqMXvehFvO51rxvpMQx6kiRJkjTNrr32Wnbaaaeb\n/vvQhz5003MPeMADmD17NqeffvrIju/QTUmSJEmaZqsauglwzDHH8NrXvpbjjz9+JMe3R0+SJEmS\nxmzvvffm2muv5bvf/e5Ifr5BT5IkSZJ6cMwxx3DCCSeM5Gc7dFOSJElS26awHcJ0G8zRG9h33315\nwxvecIvv2X///Zk7d+5Ijm/QkyRJkqRptmzZshU+vvx+eWefffZIju/QTUmSJElqjEFPkiRJkhpj\n0JMkSZLUnMzsu4Q1sqb1G/QkSZIkNWXOnDlceeWVa23Yy0yuvPJK5syZs9o/w8VYJEmSJDVl3rx5\nXHrppSxdurTvUlbbnDlzmDdv3mr/e4OeJEmSpKbMmjWLrbfeuu8yeuXQTUmSJElqjEFPkiRJkhpj\n0JMkSZKkxhj0JEmSJKkxBj1JkiRJaoxBT5IkSZIaY9CTJEmSpMYY9CRJkiSpMQY9SZIkSWqMQU+S\nJEmSGmPQkyRJkqTGGPQkSZIkqTEGPUmSJElqjEFPkiRJkhozs+8CJEmSVtvpx636+b2OHk8dkjRh\n7NGTJEmSpMYY9CRJkiSpMQY9SZIkSWqMQU+SJEmSGmPQkyRJkqTGGPQkSZIkqTEGPUmSJElqjEFP\nkiRJkhpj0JMkSZKkxhj0JEmSJKkxM/suQJIkSRqHExdftMrnj9xnwZgqkUav9x69iJgRET+IiM/0\nXYskSZIktaD3oAccAVzYdxGSJEmS1Ipeg15EzAMOAN7VZx2SJEmS1JK+e/ROAl4M/G1l3xARh0bE\nkohYsnTp0vFVJkmSJElrqd6CXkQcCFyRmWev6vsyc1FmLszMhXPnzh1TdZIkSZK09uqzR29P4FER\n8UvgVGDviHh/j/VIkiRJUhN6C3qZeXRmzsvM+cATga9m5pP6qkeSJEmSWtH3HD1JkiRJ0jSbiA3T\nM/MM4Iyey5AkSZKkJtijJ0mSJEmNmYgePUmSpurExRet8vkj91kwpkokSZpc9uhJkiRJUmMMepIk\nSZLUGIOeJEmSJDXGoCdJkiRJjTHoSZIkSVJjDHqSJEmS1BiDniRJkiQ1xqAnSZIkSY0x6EmSJElS\nYwx6kiRJktQYg54kSZIkNcagJ0mSJEmNMehJkiRJUmMMepIkSZLUGIOeJEmSJDXGoCdJkiRJjTHo\nSZIkSVJjDHqSJEmS1BiDniRJkiQ1xqAnSZIkSY0x6EmSJElSYwx6kiRJktSYmX0XIKkNJy6+aJXP\nH7nPgjFVIkmSJHv0JEmSJKkxBj1JkiRJaoxBT5IkSZIaY9CTJEmSpMYY9CRJkiSpMQY9SZIkSWqM\nQU+SJEmSGmPQkyRJkqTGGPQkSZIkqTEGPUmSJElqjEFPkiRJkhpj0JMkSZKkxhj0JEmSJKkxBj1J\nkiRJaszMvguQJEmS1gqnH7fy5/Y6enx1SFNgj54kSZIkNcagJ0mSJEmN6S3oRcSciDgzIs6NiAsi\n4lV91SJJkiRJLelzjt71wN6ZeU1EzAK+GRGfz8zv9liTJEmSJK31egt6mZnANd2Xs7r/sq96JEmS\nJKkVvc7Ri4gZEXEOcAWwODO/t4LvOTQilkTEkqVLl46/SEmSJElay/Qa9DJzWWbuBMwDdouIe6/g\nexZl5sLMXDh37tzxFylJkiRJa5mJWHUzM/8InA7s23ctkiRJkrS263PVzbkRsXH39/WAfYAf91WP\nJEmSJLWiz1U3NwfeFxEzqMD54cz8TI/1SJIkSVIT+lx18zxg576OL0mSJEmtmog5epIkSZKk6WPQ\nkyRJkqTGGPQkSZIkqTF9LsYiSZKk1XTi4otW+tyR+ywYYyWSJpE9epIkSZLUGIOeJEmSJDXGoCdJ\nkiRJjTHoSZIkSVJjDHqSJEmS1BiDniRJkiQ1xqAnSZIkSY0x6EmSJElSYwx6kiRJktQYg54kSZIk\nNcagJ0mSJEmNMehJkiRJUmNm9l2AJEmS2nHi4otW+fyR+ywYUyXS7Zs9epIkSZLUGIOeJEmSJDXG\noCdJkiRJjTHoSZIkSVJjDHqSJEmS1BiDniRJkiQ1xqAnSZIkSY1xHz1JkqTbm9OPW/Xzex09njok\njYw9epIkSZLUGIOeJEmSJDXGoCdJkiRJjTHoSZIkSVJjDHqSJEmS1BiDniRJkiQ1xqAnSZIkSY0x\n6EmSJElSYwx6kiRJktQYg54kSZIkNcagJ0mSJEmNMehJkiRJUmMMepIkSZLUmJl9FyBJkkbvxMUX\nrfL5I/dZMKZKJEnjYI+eJEmSJDXGoCdJkiRJjTHoSZIkSVJjegt6EbFFRJweET+KiAsi4oi+apEk\nSZKklvS5GMuNwAsz8/sRsSFwdkQszswf9ViTJEmSJK31euvRy8zLMvP73d+vBi4E7t5XPZIkSZLU\niomYoxcR84Gdge/1W4kkSZIkrf1630cvIjYAPga8IDOvWsHzhwKHAmy55ZZjrk6SRsu9zSRJ0ij0\nGvQiYhYV8j6QmR9f0fdk5iJgEcDChQtzjOVpxFZ1g+vNrSRJkrT6+lx1M4CTgQsz8y191SFJkiRJ\nrelzjt6ewJOBvSPinO6//XusR5IkSZKa0NvQzcz8JhB9HV+SJEmSWjURq25KkiRJkqaPQU+SJEmS\nGtP79gotcHl0SZIkSZPEHj1JkiRJaoxBT5IkSZIa49BNSZIkqWdOBdJ0s0dPkiRJkhpj0JMkSZKk\nxhj0JEmSJKkxBj1JkiRJaoxBT5IkSZIaY9CTJEmSpMa4vULjXKpXkiRJuv0x6EmSNE1sXJMkTQqH\nbkqSJElSYwx6kiRJktQYg54kSZIkNcagJ0mSJEmNcTEWSdIKrWphERcVkSRpstmjJ0mSJEmNMehJ\nkiRJUmMMepIkSZLUGIOeJEmSJDXGoCdJkiRJjTHoSZIkSVJjDHqSJEmS1BiDniRJkiQ1xqAnSZIk\nSY2Z2XcBkiSpc/pxq35+r6PHU4ckaa035aAXEXsA84f/TWaeMoKaJEmSJElrYEpBLyL+G7gHcA6w\nrHs4AYOeJEmSJE2YqfboLQS2z8wcZTGSJEmSpDU31cVYzgc2G2UhkiRJkqTpMdUevU2BH0XEmcD1\ngwcz81EjqUqSJEmStNqmGvSOHWURkjRKJy6+aJXPH7nPgjFVIkmSNB5TCnqZ+bVRFyJJkiRJmh5T\nmqMXEfePiLMi4pqI+GtELIuIq0ZdnCRJkiTptpvqYixvAw4GfgqsBzwL+I9RFSVJkiRJWn1TDXpk\n5s+AGZm5LDPfA+w7urIkSZIkSatrqoux/CUiZgPnRMQJwGXchpAoSZIkSRqfqYa1J3ffezjwZ2AL\n4LGjKkqSJEmStPqmuurmJRGxHrB5Zr5qxDVJt+7041b9/F5Hj6cOSZIkaQJNddXNRwLnAF/ovt4p\nIj41ysIkSZIkSavntmyYvhtwBkBmnhMRW6/pwSPi3cCBwBWZee81/XmSdLtiz7YkSVqJqQa9GzLz\nTxEx/FhOw/HfS23dcMo0/CxJ0qQwhLZnVb9Tf5+SNHGmuhjLBRHxT8CMiNgmIt4KfHtND56ZXwd+\nv6Y/R5IkSZJ0s6kGvecDOwDXA/8D/Ak4YlRFDYuIQyNiSUQsWbp06TgOKUmSJElrtakGve27/2YC\nc4BHA2eNqqhhmbkoMxdm5sK5c+eO45CSJEmStFab6hy9DwBHAecDfxtdOZIkSZKkNTXVoLc0Mz89\n0kok3b650IMkSdK0mWrQe2VEvAv4CjVPD4DM/PiaHDwiPgg8BNg0Ii4FXpmZJ6/Jz5QkSZKk27up\nBr2nA9sCs7h56GYCaxT0MvPgNfn3kiRJkqT/a6pB736Zea+RViJJkiRJmhZTXXXz2xGx/UgrkSRJ\nkiRNi6n26N0fOCcifkHN0QsgM/M+I6tM/VvV4hjgAhmSJEnShJpq0Nt3pFVIkiRJkqbNlIJeZl4y\n6kIkSZIkSdNjqnP0JEmSJElriakO3dQouVG0JEmSpGlkj54kSZIkNcYePUmSJGlt5krpWgF79CRJ\nkiSpMQY9SZIkSWqMQzclSZIkrdSJiy9a5fNH7rNgTJXotrBHT5IkSZIaY9CTJEmSpMY4dFOSJGkl\nVjVkzeFqkiaZPXqSJEmS1BiDniRJkiQ1xqAnSZIkSY0x6EmSJElSY1yMRVqLuI+NJEmSpsIePUmS\nJElqjEFPkiRJkhpj0JMkSZKkxhj0JEmSJKkxBj1JkiRJaoxBT5IkSZIaY9CTJEmSpMYY9CRJkiSp\nMQY9SZIkSWqMQU+SJEmSGmPQkyRJkqTGGPQkSZIkqTEGPUmSJElqzMy+C5AkSZLUqNOPW/Xzex09\nnjpuh+zRkyRJkqTGGPQkSZIkqTEGPUmSJElqjHP0JGlVnFsgSZLWQvboSZIkSVJjDHqSJEmS1BiD\nniRJkiQ1xqAnSZIkSY3pNehFxL4R8ZOI+FlEvLTPWiRJkiSpFb2tuhkRM4D/APYBLgXOiohPZeaP\n+qpJAjhx8UWrfP7IfRaMqRJJkiRp9fTZo7cb8LPM/Hlm/hU4FXh0j/VIkiRJUhMiM/s5cMTjgH0z\n81nd108Gds/Mw5f7vkOBQwG23HLLXS+55JKx1yrdJpO879ok1yZJrfGcK43cqkZi3eoorLX0MxoR\nZ2fmwlv7volfjCUzF2XmwsxcOHfu3L7LkSRJkqSJ12fQ+zWwxdDX87rHJEmSJElroM+gdxawTURs\nHRGzgScCn+qxHkmSJElqQm+rbmbmjRFxOPBFYAbw7sy8oK96JEmSJKkVvQU9gMz8HPC5PmuQJEmS\npNZM/GIskiRJkqTbxqAnSZIkSY0x6EmSJElSYwx6kiRJktQYg54kSZIkNcagJ0mSJEmN6XV7BUmS\npGbtdXTfFUi6HbNHT5IkSZIaY9CTJEmSpMYY9CRJkiSpMQY9SZIkSWqMQU+SJEmSGmPQkyRJkqTG\nGPQkSZIkqTEGPUmSJElqjEFPkiRJkhpj0JMkSZKkxhj0JEmSJKkxM/suQGrOXkf3XYEkSZJu5+zR\nkyRJkqTGGPQkSZIkqTEGPUmSJElqjEFPkiRJkhpj0JMkSZKkxhj0JEmSJKkxBj1JkiRJaoxBT5Ik\nSZIaY9CTJEmSpMYY9CRJkiSpMQY9SZIkSWqMQU+SJEmSGmPQkyRJkqTGGPQkSZIkqTEGPUmSJElq\njEFPkiRJkhpj0JMkSZKkxhj0JEmSJKkxBj1JkiRJaoxBT5IkSZIaY9CTJEmSpMYY9CRJkiSpMQY9\nSZIkSWqMQU+SJEmSGtNL0IuIx0fEBRHxt4hY2EcNkiRJktSqvnr0zgceA3y9p+NLkiRJUrNm9nHQ\nzLwQICL6OLwkSZIkNW3i5+hFxKERsSQilixdurTvciRJkiRp4o2sRy8ivgxstoKnXpaZn5zqz8nM\nRcAigIULF+Y0lSdJkiRJzRpZ0MvMh43qZ0uSJEmSVm7ih25KkiRJkm6bvrZXOCgiLgUeAHw2Ir7Y\nRx2SJEmS1KK+Vt08DTitj2NLkiRJUuscuilJkiRJjTHoSZIkSVJjDHqSJEmS1BiDniRJkiQ1xqAn\nSZIkSY0x6EmSJElSYwx6kiRJktQYg54kSZIkNcagJ0mSJEmNMehJkiRJUmMMepIkSZLUGIOeJEmS\nJDXGoCdJkiRJjTHoSZIkSVJjDHqSJEmS1BiDniRJkiQ1xqAnSZIkSY0x6EmSJElSYwx6kiRJktQY\ng54kSZIkNcagJ0mSJEmNMehJkiRJUmMMepIkSZLUmJl9FyBpjPY6uu8KJEmSNAb26EmSJElSYwx6\nkiRJktQYg54kSZIkNcagJ0mSJEmNMehJkiRJUmMMepIkSZLUGIOeJEmSJDXGoCdJkiRJjXHDdEmS\nJElrpSP3WdB3CRPLHj1JkiRJaoxBT5IkSZIaY9CTJEmSpMYY9CRJkiSpMQY9SZIkSWqMQU+SJEmS\nGmPQkyRJkqTGGPQkSZIkqTEGPUmSJElqTC9BLyLeGBE/jojzIuK0iNi4jzokSZIkqUV99egtBu6d\nmfcBLgKO7qkOSZIkSWpOL0EvM7+UmTd2X34XmNdHHZIkSZLUokmYo/cM4PMrezIiDo2IJRGxZOnS\npWMsS5IkSZLWTjNH9YMj4svAZit46mWZ+cnue14G3Ah8YGU/JzMXAYsAFi5cmCMoVZIkSZKaMrKg\nl5kPW9XzEfE04EDgoZlpgJMkSZKkaTKyoLcqEbEv8GLg7zPzL33UIEmSJEmt6muO3tuADYHFEXFO\nRLyjpzokSZIkqTm99Ohl5j37OK4kSZIk3R5MwqqbkiRJkqRpZNCTJEmSpMYY9CRJkiSpMQY9SZIk\nSWqMQU+SJEmSGmPQkyRJkqTGGPQkSZIkqTEGPUmSJElqjEFPkiRJkhpj0JMkSZKkxhj0JEmSJKkx\nBj1JkiRJaoxBT5IkSZIaY9CTJEmSpMYY9CRJkiSpMQY9SZIkSWqMQU+SJEmSGmPQkyRJkqTGGPQk\nSZIkqTEGPUmSJElqjEFPkiRJkhpj0JMkSZKkxhj0JEmSJKkxBj1JkiRJaoxBT5IkSZIaY9CTJEmS\npMYY9CRJkiSpMQY9SZIkSWqMQU+SJEmSGmPQkyRJkqTGGPQkSZIkqTEGPUmSJElqzMy+C5AkSZKk\nsdvr6L4rGCl79CRJkiSpMQY9SZIkSWqMQU+SJEmSGmPQkyRJkqTGGPQkSZIkqTEGPUmSJElqjEFP\nkiRJkhpj0JMkSZKkxhj0JEmSJKkxBj1JkiRJakwvQS8iXhMR50XEORHxpYi4Wx91SJIkSVKL+urR\ne2Nm3iczdwI+A7yipzokSZIkqTm9BL3MvGroy/WB7KMOSZIkSWrRzL4OHBGvA54C/AnYaxXfdyhw\nKMCWW245nuIkSZIkaS0WmaPpTIuILwObreCpl2XmJ4e+72hgTma+8tZ+5sKFC3PJkiXTWKUkSZIk\nrT0i4uzMXHhr3zeyHr3MfNgUv/UDwOeAWw16kiRJkqRb19eqm9sMfflo4Md91CFJkiRJLeprjt4b\nIuJewN+AS4DDeqpDkiRJkprTS9DLzMf2cVxJkiRJuj0Y2WIsoxARS6kewEmzKfC7votYCWu77Sa1\nLrC21WVtq2dSa5vUusDaVpe1rZ5JrW1S6wJrW13WNlm2ysy5t/ZNa1XQm1QRsWQqK9/0wdpuu0mt\nC6xtdVnb6pnU2ia1LrC21WVtq2dSa5vUusDaVpe1rZ16WYxFkiRJkjQ6Bj1JkiRJaoxBb3os6ruA\nVbC2225S6wJrW13WtnomtbZJrQusbXVZ2+qZ1NomtS6wttVlbWsh5+hJkiRJUmPs0ZMkSZKkxhj0\nJEmSJKkxBj1pLRcR0f3p51kjM3ifqU2D80dE3K370993Y/ydSrc/3hiOWETM6LuGYRFx34hYt+86\nViYi7tj9OfEXpIiY3XcNAJmZERGZ+be+a1mRiNhl0j4HwyLiHhExp+86Jl0OTeheGz6fus1mdX++\nPSL2GZxXeq2ICqCTUMfyImLziNi57zpui3RRBo1YRGwTEQf1XQdAROwfEdv1XUffDHrTbKhV9GkR\n8VLghRHxjxFxj55LIyI2B16Rmdd3X8/tuaQVeU9ELOhuMiY5kD4FeF1EvCsinhARd+ixloXAkojY\nvq8aViYidgOOyMxl3Q3bpn3XNKwL628FBr2ivQe+7gbycRNyzhiczx7Snc+AybphHOrRnhkR60fE\nRhGxXt91rU26BrZXRsTHgR2AL8PNv+eIeEwf5+OI2DQz/zZUR++BLyIWdNfOVwL36B4bfE5mrerf\n9iUiHhURJ0fEOyLiGRFxSETsNvicjGM0yCT87qYqOn3XARARr4uILfqu49ZExP0j4iHAa4GZyz23\n0bhGHHW/ut0jYkPgSOCy7vHZ3Z8T2+g8Kga9aZaZf+uGvhwLrAfMBnYHnhsRr46IO/dY3pOBPwJE\nxEOBfxk80X041u+rsK6GHYHNMvOi7kN5wqT0msEtbih3Ao4DzgZ+ABwEfLq7kI498GXmEmpp4SMj\n4r7jPv6teCpw8dDfDxk8ERGzJ+CG/PHADZl5bffanTj85KCHedSGbhR3Aj5Kvac+GxHfjIjDI2Lj\ncdSxotK6P5/FzeeOf4mI0yJiv55qWpkjgf+hQkrvIXlg+RvGofPI4M/7j+smaGUy8yrgBOAvwAzg\n7Ih4c0Rs152X3zxoIByloc/BDhHxEuCrEbGoeyz6bmDobhK3Bl5PfUY3i4i7D42meGxE/F1vBa5A\nd+7Yhjq3XQTcC9gVOBh4FNR9ywiOO6P7c5eI+BfgRxFx5HQfZ00N1bl3RLwiIrbOTvf4On19PqMa\n55+Qmb/qvj5yku6JBrrXJ4FnAPsAe3ev5+D6fhgwrnuT9YH7AxcC9wMeHBHrZeZfu+dfHxEbjKmW\niWDQm0ZDLQW7A/+ema8E/p26+bgAuCozf99XfcDDgdd1f38mcOXQc/sBTxx7Rbf0FOBL3d8PBu46\n+HBGxF27C3+fBjdsfwe8ITNPBU4GDqeC/VmZ+ZeeavsgdWJ7TUTs21MNK7IzN7/nngz8Yui5JwOP\nGHtFt/SPwFu6vz8ZuGrwRETsDvzTmOoY3MA+BvhyZh5C3Yy9jbqh/PCY6rhlUdUTuy6wMDPfERHP\nAnYCzgEO7/umdnDzH9Wb/Tjg2cBc4OKIuHNEvGACGhNeGxEf7Vq7b+ol6+reBHh+38Ouu9fxj8AV\nwG7U9WED4NNUo9Zbuu8bdWv44Bz7wq6WjwPXdI89PiIePOLj35oEvg78huopuCtwbES8NiKeTp3r\nLu+xvv8jM/+YmW/OzPMz8y2Z+RLgTcCZwFMi4gsRscsoDt39+Wrgf4Hv0/X0RI1ympQhdYPP3n7A\ni4BzI+JrEXFYRKzf9Sj39fk8hPoM0DWsHTR0TzQrIvbsqa7/IzO/B3wT+Cp1v/sc4NSIeCt1Xr5g\nTHVck5n/BrwHeD91LvtO1OirlwM7Z+Y1q/whjTHoTaPMXNb99dnA4yLi3pl5VWaenZnvAf4T+hnC\n0J1U9wYeFBF3B7bKzJOGvuX/0f8F6gDqYgDwWCq8DDwVmD/ugoYNneyfS72Od8vM6zLzd5n5Dca4\nYedQK+SCiJhP3dx+C/gicHxEPCsiZq78J4xeRDyCalk7sOupmpGZnxr6ln8GftZ9bx+fiU2A/YH7\nRcTWwB5US/3AC8dVy1BPxQ3AryJiRmb+OTNPzcyHUmGvr2EnM6melXdTn8vjMvNV1Ofxkh7qWZG9\ngFOBBcB3M/NaYHvg4O7vfTqZ6tX+94g4LyJOiIh7A2TmlV2o721o21BY3gr4u8xcmpk/yMznZOY9\nqc/pO7pvH+kNb9ewEMCOwHuBPYGPdU8/Dth8lMefguzeT+sBr6Bel89TDUS7AO/vsbFvhYauFftF\nzZ+akZm/ycwPZuYBwIeo2qdVN7rpzsBdMvMTVAPpR7unnwFsMt3HvK2G3vt3A7ajems3Bz5ABdQL\nI+I/I+JOPZV4CPDz7u+PBd419Nwzqfu2STC4fj0YODkz30Z9Pv6Luka8JjP/Oq7rV9QQ6scCR2fm\no6n7x0up3uzjxlHDJOn1RrBF3UXqP4GnU60Zl1EXqlO7FtO+5rdcQgXQhwOvAu4UEQ/LzC93H771\nMvOzPdRXh+RNAAAgAElEQVQFQNSw0TOAIyLiYOom7fyIWLcbMjRobetN97udSQ0NeyjwtYj4KnBK\nZn5rnK1+Q40KB1C/18VU2JsHnAf8A/BnbhmWx+1s4EnUxepBwLKIeFBmfqMLVksz83zo7TOxLtWL\nvDPwPupC/4iIOD0zlwJ3B/57XMVExLZUr/o1wIyI+Dp1cfpzZv4ZbvF7H5vM/HNEvJ76DJ6VmT+N\niJcB3+tuzGf0UVdX2+B9833gYcC/Aa/pHnsMdRPeq8z8OfAS4CURsSvVc/zxiPgtVd/xmbmsx2GJ\nQd2oPZ26LmyTmT8dPJmZlwz9fRw1zqDOWy/oDvmtqDlx9wI+M4bjr1QXCjYCHpCZL+4e/ng3PPKq\nvntml9cFmWXdEMDnADcC346IHwM/yMzLqNd6n4jYLDOnu7E3gU9GxHOAX2TmL6LmHm+Wmd+c5mPd\nZkPv50cAMzPzd93XiyLiAuozsQ51/frUCn7EyHQNkRcACyLiVVSj5LsG4ZS6Bzl5nDWtTPe5uDNw\n98z8fPfYTyLip5n5uaHvG+l1IiLW6T6DDwK+lZlXd8c9Fzh3lMeeZNHftaVt3XChOwMPoOa3XJeZ\n/9BvVaXrAXo08EhgQ6oF6/OZ+Zwea3oK8AXqQvQPVCC9E3UDdznwxMx8QF/1rUjXCvgMqofvc5n5\n7DEdd0Z38V4f2DUzv971Lv6mC6OzqTlK7wWelzWHb6yiFjV5M7X4z5URsQ01H2Q/4A5UqHpDZh7f\nV1CIiKOA0zLz4m7o357UcMm5VOvzpZn5yDHVMvidbkANnXsSsBXwa+Bdmfn1cdQxVM+gpXsO1bvy\nWOCTmfmd7j12GHBmZp49dHHtVUQ8jwpRi4H7AMuAw7ub2b5qWqfr2ZhL9WDcGbg4M38bEY8DHpqZ\nz+2rvmHdOfhfqZ7aTwJv60YqjOv4C4GfZ+bvo4ZNv43qoX0PdZ26NjMPH1c9K6hv8Jl4IHVu+yp1\njr2ox5C+SkPnlZdTr+UfqLm2O1JDY7+UmR9b1c+YhhqeSs3//DPVELMQ+FVm/usoj3tbdEH4ddR1\n/KPdaJg3UXMalwL/MOh5H2NN2wFXA1tSPWU7AL+ifm/XAP8vMydmAbaIeBDwTuCX1JSlbw86N3qo\n5RhqRM7rgfd2Dbe3Wwa9aRYRz6RC1I+oE8QHMvPyiNg4M//Yx01tRCygen5+Mty60j23K3VT+a7M\nHMsY6hWJiPcBdwT+NTMv7B67L/VaHkC9jv/eV31dPTOolvl7AhsBPwbe0gWZzTPzsnH8frvesA2o\nFto7DV+Ahm+6I+J04IA+hhJFxGbU6lsbUj0W3+8en01Nyn4CNQTwyqEWynHWtz5wEjXf7LXUXKRZ\nwKbUhXV/qvHj22OqJ6gei4dSN2Kf6uo5HPhaZn5tnK/T0A3iv1LhZCuqxfugrufx53nz5PZeDNV4\nBDWv8YIuLDwAOB84f1Iu8FGrWW5K1TWbugl699DzvS80MtAN4TyM6olfnxrmP9I5Ld2N9muoG9mL\ngc9SwyF3pT6LXwDOzf6H4Q6GpO9F9fhfRtX8S+pzetUq/mlvut6pnTLzhq738VHUaIZlVK/yv8H0\n9NgOBeJNgftk5le78+0BVGPah4FzBqMUJkXU3PaXUT3cPwW2oBbrOpkKC+Pu0fsK8CfgyMy8pDvv\n3o9qhNyVOr9NUli+F9WAuxt1zVhGhdL3Do8KGFMtu1CLwuxKncMuBr4GfHxSzrPjZNCbBkOtto8E\njqDGJc+hbmi3Ap47NCSgj/pOAX4IfDAzL42IRwN/D7yv69KeCBFxNNXj815qOOSNQ8/Nyswbeqpr\ncEP5ZGrxjpOpi/uBVO/PC4ZrHUM9u1E9iU+i5gV+BPh9N1TiCKon6mMRcafM/MO46lpBnRtTwXgX\n4E2ZubivWlYmIp4G7EvNrfnM0OOzxxFkht5bj6d6hr8HbEa13r45Mz806hpupb5vUMNJjwW+mpkf\njIgTqJuMU/qsDW4KyBcC+2bmL4cen5mZN/YZoIauC3sBL8zMA7tha9tTwxL/KzN7WWRnBTVuCzyQ\nWjTjh4Ne0IjYNjN/POpe2+5csSsVoPYA/kotevJd4DvA9ZPQazwsasn7Panr/N2o+UC/6beq/ytq\nftk7qRvd9w+uCRHxLWqO1zHAs3Oahm0OndNeD1ydmcd1768HA5/NzF9Px3HW1NB7/07AvYG/dCMU\ntqEanc+lQsIJfYx2itoe4GiqUfcNg/dWN8piO+CXfV7fV2Tod/93VIPbblRD71g/F0ONDTO7GvYG\n7pmZTxtnHZPCoDcNht5UJ1EXyZO7x2dToe8rmfn+nmpbl7pYPmjQKhsRZ1CtyjtQc5Ne0mdL6XAv\nWEQcQrU0fiwzx7a4yaoMXRA+BrwnMz/TnWzXp36/nxrXTW908yi6G8ZndA9vTbWc/QR4OXXTe944\n6pmKbkjYoVQr/UkT0io/+MzOoML7K4BvA68eZ+vjUB1fpoLd57vH96E+B8dm5sWr/CGjq+3O1MT1\nY4GPZuae3eM/AA7JzB/1FaSGXrdHAodl5gGDcB4Rd6Eaix7dV+NQV+PgvPFqag70i4ae+2dqJdOn\n91XfUC3rUsNdf0CNEvgaNTf009SN+dhew4j4BLWoVFJzaPejRsa8NTO/Oq46VlDX4Ab2gVTP+87A\nN6hr++8i4p6Z+bO+6luZoc/JXtRc7h9QIWZTamrEs6gh2NM+BDAizqFu9udT6wIA/J5q9JiY3ryI\n+B41r31T6rX5KvCNrCkRM6n75LGeR4beb5tT16aHUcMh35vdvLNJMFTnP1FDg/el7jc/kjW3dpyj\nUAbv9cdRi5etA/x3dqPYorZY6P3eow+uujkNht7I3wGeEREP73pT/koN8RvsDdTH6/0oajz8NVEb\nCm9EDYHZIzM3ouZy9bovSw4NdczMD1C9QAdFxIlR8+B6NdSS/GFqP8Sds1bbvJIaojDY42Ycv99H\nd0Mk7gJ8MzNfRvUOnEkNk3xe3yEvat+hmzYO7kLwc6iejKO6XpheDT6zWYtgfJDqzbgIeFqMcWXL\n7sI0m5qL96ehxxdTN0i9bTCftRXMt+huDqPbrgD4XWb+qPueXloKh457PnBN95kc9MDuTy2M0VvI\ng5tWHQxqhcbnRu09eHDU0Mj7AKdB9T72Ud/Q+eofqd6LV1A3aa+gWsGfRw2/Glc996RW/XxjZr6J\nmtf1n9TN90XjqmNFhq5Rb6bmke9BbQH0iYg4Fej9nLYig8aszDydmnN2I9Vb+nNq38nDGcGCXREx\njwroh1Eh77OZ+Y9U8Ot9D7PBNSgi7g/8IWt+/XOp4cNzgFdExEaZeWMf55HB+y0zL8uaw/s86l7t\n78ddy6oMfS5eQjUMLaPued8bEb+hPicjNxTytgVeSm0HcyDwjoj4Y9SK0bfbXi1X3ZxGmfmhrjX5\nYcAjuzfdtdQ+eiPZlHQKLgP+FDcPRftTRLwZbhqTviwz/7TKnzBCEbE3dWP2bSo0bUK1KH+F6k24\nW0Qc3NewnagJ0f8LXAd8gmrJPbYb7vErarjH6TC23+9pmXlFRLwI2DEiDqBWt/xKZv7vGI4/FS8C\n7hI1N/Q71I3uptRmzK+i5p69oq/iurAymxqu83vqJnIbapj1vtTFdO9x1dP1Qn0U+EhEfIYairsB\nsHHW3kS96IbtnRIRP6FuCL9D3RQe0z3f22qbQy6l5tO8NSIupc5329HNOZoQb6Retz2pYbDvosLz\nxwByjMO+hw2dr/agzm2HUotzfC8i3ghs3YXVcS22cyOwNGpT7Q9lLS71FeDQzLx0DMdfoaGbyIdQ\n4eVUqnHtSdQCHptRi5xMjKGelvtRjQx/R4Xmjwy/lt3onp+u5Mes7rEja4rIG6ll7X+Yme+LmjLy\n68z87XQebzWtQ4WSHaj7DbKGrl7e9fBtkJl/6mPEQkTs0NW2MbVP4/ep991s4L8i4gvUdKBe50gP\ndKNPLqFGFM3JzKd3o3j2pNs7bwyv42Dl4GdSo9TmUlOTDo+Id1KrvF43wuNPNIPeGhq6CDyJWnb/\nvcBDqNf209QCKL3NFcnMb0bE84EPRsTxmXnmUCA4FPjcKv75OGxBDdF5KrWAzWZUL+Ri4BTgr32F\nvM4h1NC1f6BuKk+kQstmVA/aYrjlIiijEjU37w7UMM2TqCFEu1EXqwdHxNXAi7K2o+hF1LyCOwFn\nUSf/rahFa66meiFfTPee6zEo3EC9jmdQK8DNp+Z5LaP2xfrKOIuJiJ0y89NdoDqYWinsW8Dzu+fH\n9joNDTdcALwyIr5P9RYftvxwq75C3vC5tGttPyZqX7rtqHle/5w9DXddXlfnFcAVUQtifIhqYNgR\nODIi9smhIZ3j1vUmPo+6ibwj8JyIuJzaO+8l46wlM38ZEa+hehif2f1ON6LnLTKGrtt3ps4PDwN+\n3I2S+RLwiOxxDv5KDK5Fb6Iajr4HPA14cUT8iloI68zM/O50H7i7H1onM78EfGnoqV3pd7ufm3Qh\neAa1fcI2UQucvT1r/8hrqQb6vkYsPK6r6wwqsGxLDScdbO80c1JCXudPVO/7btSiRFCNuplj2lJs\n6N7rZ9T54rnAld1jl1OLOd1uOUdvDQyFvHnUh3IB9WF8KtUi1PcqkYMFCe4M/As1l+uO1AdgNnXS\neGb2NG45alWuf6L2GLxiuec2zp6W5l2ujk2pZaHfSV08/5dqpVoC/DbHuMpaRBzKzfvjfQv4TGb+\nLGorj92AO2fmaX01KnQ1HgL8Fvj64GIUt1wJtNfVBSNiP2pVzVP6et93dQwC1X2o8PvMzLw+InYG\nLuyr9XGortdSPZvXUD2e61M3i9/NzB/2UdtQjYPz7nFUI8f5VGvy96ml7q/v+3020A0Ri+UbgaK2\n0bg7tWVAbz3xEfEMqr6Tu6Gcz6aGWF+fN+8TN8rjD95vW1ONQt+lQvD2VK/Lb6jVLHtvje9G6Cyl\nPgtvoBqEDqHmaJ/UZ23Dhj4fG1GrVR849NwW1DD607IWHpm2RqShXsSdqev6faiA8k1q1cN1gMv6\n/lxGrcz7m7x5cZNtqSGmj6AC3qmZeUJPtW0I7Jw1P3C9zLw2ahrEAirEAGw4SQ0LUdsqnEv1yL+F\nCnm7U+sZvGtcDZVR8xk3pN5ru1CNVRdSCw7dPzN/MeoaJpVBbw0MXaT+lerleQk1Pnh/Kgj8MHte\nUKQbspHURXSj7uGdqbDyiex3sYJHUNsn3EANubqQumH7Sd8XA7hFUN6NOsluSbXmbkudUM7IzLeP\nsZ4NqZ7EHakVzLahQvsXgcXLh+U+RMSLqb3MZlBDYk7JzO/0W9XNorYTeTv12p1PrXw49oWShm6K\n3g5ckJlv6167x1HDwJ7c1++zazj4QWZuG7VQx0JqT6J1qdbRN2c3R6+H2gY3sQuoObNHU5+Hraj3\n3B+oVd56byQa1gW+GcDfeh6hMKjnMGr/1P2BJ2Rt6j547r7ZrcY8rsDcjYh5PXVd+hQ1FL3XeXkA\nUfO0/hS16M8OmfmGrifoqdTIk49Tq1n3Oh90YPj3FTUt4nVUA8j7qAakkS3kMXQ/9BVquPKLqFB8\nR6rx7xU5xn0ZVyYiXkrt0fhP1CiO0wfv/4g4EJjfnY/Hvj9oF5KPp6YUnEltGzMxC6sNRG2fBBWO\ndxg0CnX3Sg+n7kmWjOnccffM/HXUolffyswvRsQdqd/velTj5MTcg/TBoDcNosae70BNND47M4+N\n2qB0dma+vKcTxmbUMLCjqDH4F1CtkZ/PHuf9DItaee5b1L5096aG/F1PzX37BdUr1Mu+RN2N2bbU\nheCLwIMzc7DoygxqNbgrszaQ7mXD6Lh5SfQHUsOKHt1zb9newKzuRHsfavjJvlQP5GnAhzNzWueD\n3Mb6Nqduak/qwsyzqVXntqCGe5ycmeMetvkJag7vVtSN9xupeYxfzBFvZLyCWgYh6r5Uy+w/Zi04\nNFiZ8TNU6/wmwFF9DB8aCsiHAnfMWrRj0AjyYGpe2dvGXdeKdO+3PYHvLxekeu9tjFoQ5h3Ua3Yx\nNeVgUdZwxK8DT88ehr9GxKOouW/7AecAT+mzJT4iBkvEP53qBXvV0HN3Ae6QQ9t6TIKhcLoDdSO+\ngOqp+i3VoPrFnKatFFZw7E2phVd2j5rrtid1Hf1vaguHJaM47uroziEPoEZh/YKa635mnw2mUVs4\nnUctvLIH9bu7Gjgd+EL2OFd1WBfoHk31aH8WeDWwtAv621Pzy0e+B23U0PPHd3XsTjWQfmHo+cdS\n95ETsZ9qXwx6q2nopmiwX8h2VO/KyZl5VdTclqdk5vl9XNgj4kSqBf4kqiv9/tRFfRfgjZn5yXHW\ns7yohWD+OTMf2X09iwp7u1Abgm4GvDx72peou2AdDDwGmEe14P4R+EU3nOJwqjdoLC25Q++3LahW\n+KXUif8vXfDcKjN/3lfo7Gr8BDXZ/wPLPb4PtZjHnMx8RB+1dXW8hNpL59nLPb4VNR/uicA2OeIh\nnUO/y3WpG6H/R73fH0ZtEn0WsF+PPXqzqd6VLaiA/geqMWE9KhycnJm9rv4WEYuoJbTfCPzPBN0A\nDXo1dgL+g7qBXAj8jlrE4/2T0tvYBYGtqSFXL6KuY+dSq6o+cgzHH3wONgfWz6HtCbrrw1HAgdnj\nsM3u+v4EavGod1Ln3V9Sw5jfSfVSfa2v+pbX9QjtTX1Od6emlKxH/W53pxpVjx5h0NuxO/6nqP1m\nH94d/6N9nvsH4uYtWB5FNYD/FHgoFaq2o4aWHtFTbfel9svbrwswd6TOwbtQG6XvRIXlC/qob1jU\nsOAH020mTy0c80fq2vUy4IhxfC66BvkNqOkPB1O9oLOpxf2+SW1Jsdeor+mTzqC3moYu6MdT80JO\njoh1s+aHPBg4IDPHOpl9ufrOBh6Wy22oGRGvBOZl5rP7bFmOiPdRvYunruC5jYAFmXnW+Cu7RR3r\nUjdA96Fudm+kVsu7N7BHZu42jtdw6IZoHjVc7WPUkLWrqQv5R7LbK6Yv3VCJ84HHr6zHeOj/o68e\n0O9SvRbvHvexl6tjcO54L3Xj/+WIuEMX2p9A7VH3qHG+Tl0P7CHAOwc33BHxLGqI6w7U9g+vot53\n52bmu8ZR10pqXYcarrlH9+eW1Fyu07O2yujN0Hv81dQaBK+MiPWBR1I9yMsy8+F91jgQtTLe57Kb\n79Od7x5INWaNvNFo6LUazAv8MTV0/xvAY4HdM/OFozr+VHW/v22pm9ndqM3RZwHbZ+aD+6xteVHz\n8ZdRPUJvoK4R3wM+mZk/iYhNBr30Y6jltVRD1kxqpNMLxnHcqYiIX1IN8w8chICoebObZOYlPY3C\nejO1Lcyrlnt8NjWKYl7f90RdPYPr1yyqM+FO1D3StlSj+NzMfNKYa9qQ+lxeQ80tvx81RemHmfn8\ncdYyiQx6aygi3kN19799ucfv2PXs9dGb93DgdZl5vxU8tyG1lPbTshuKOG7dDcUfqIvQKcA7+hgm\nNBVRq+ItjogtqZb5Panx84sz88wYw0TjoeFqx1AX8SVUD+NrqF6C6zLzAaOsYQo1Poeao3oaNRfp\nHGrT2Yn4vXZB5mvAIupi8FPgh1Qjzdjn13QXyfdQ+x5e1YWXO1BDcJdlzTkYZ9C7NzWf517U0OmP\nUqv1XZeZf+m+ZzZwBLV59dh7WZbrCd2Q6imYQS1B/vfUMLpjx13XikQN3b+MWpBg2dDj62fmn8dx\n3lhJXYObtAOAl2bmg6K2kHkacHVmvnbM9cyhVtnciOq9mEmtzrsQODIze1txc+j9tgg4MTMv7B7f\nmAp9f8getyZalW4Uxa+o0TEPpG7CN6CGXE/rnK+h1+kOVGCfS600+yuqJ/Ev1JzfXhcQiVsugHUS\ntSLoDpn55O75RdTr09d0kf+lzrmnUA1Xf8ietl6Ziqgh3i/MzLO6z8QdqNEAg0XYRnrvO/S+25Qa\nPfHkrrd2Q+oc8nNg3T5HBEwKt1dYA92wjjsCz+5a/c6jFlb49eBk0VOP2b2pTYQPpVriLwIuz5qI\nvTk1frqXkNc5mFpm/PXU2O6zojbXPJnqUbimx9qGg9XBVLBbTA3ZWQq8OG+5wfvIb9aGjnEP6vU6\nEvhO10L7MWpuwU0XslHXsxIHUcObLqKGCO0I7BERv6UC1Zey3yFrT6WGWn0K2Isaynw/4LKI+Cl1\nIzLO1Q/3ooaK3hARg6FU13T/AePddzMzzwceHRFvom7Wnk9tK/K9iHg/NT/pr9RQyV50F/WgFivY\nmQp5j6S28fg+tapf76Lmzj6R+l3O6G6ILgX+nN0WFX2EvOU8HnhX1Fzuw6mbtNkRcVBmnjbqgw/1\nLB0E3JCZb42Iu1OBZB3gmOxx7tvQTeT21Lnsoqgh3h+kAsxRkxbyImITar/XHakhr0dExMXUSqab\nUz3zP1/Fj1hdgz3pnk/NKXsgNVLhNRGxJDN/PYJj3mZD59PDqEVO3hARn46I3alzyc49hryHU8O7\nl1F7gF4GfC0ivkGt9P3nHq/tNxn6XOwM0IW8XalRRj8FXkkNmxzHve/gfXcI8Mcu5D2eGvL9WWpR\nrtt9yIMJuTCuxX5JndxeTrXE70ftU3Pgqv7RGPwbtZjCPamVh54PPKW7aL2Maq3v0250C3Nk5sGZ\neWdqWNgBwFUR8Z/9lnfTHkTPA97XXUBPoCaUfzZqs/Q+vIRqKb2Q2kh+J+qiNQgofQ3DnQdsmpnv\nz8wzqQ2hF1GLd/wBOJAaAtinPalW+W9RDQzvoALy+tSWFbuOuZ5vA0+hWtkXR8RpEfHsiJjVhZmx\n6XoT6W547peZ+2fmvanXZDY1B2PeOGta3qBGaqGODah9kuZkDU2/D9XT2PveUl0j0Y+pxo6juz/f\nRrU4P7DP2uAWN7vnUZ/Jr1Cr0j2dCgPrwi1e71HZJSJOoD6Lm3a1/TprMaTfU4tyTYJHUtfLdam5\ntB+j5l2OdWjaFM2nrvsfoobTkZk3ZObvqWvDVaNoRB1qtHhKZj6Tuj6d3T32kqj5lr2KiHWGrttn\nUNcnqNVID6IW23lf970zxl5gXQvelLV65UFUg+SDqHu5t1L3lr0bCm8PAL7Q9Y4eRt0rfZj6/xhX\nLYP33cOBU6MWstmTWlV7O6pDQdijt9q6m7EF1IXg08DXqRazPanW215WV+uG5Nwxa67KpyNiLnWS\n2J0KWHtQYa8XXbf6b5YfkpOZHwE+0o2T36qX4m6uJbse2quoITqvBH6dmfMj4vPUnKA/rOpnTJeh\n4SZ7AD/vhn29F3g31XL17sy8oI/32pA5wFu74RtXZc15+Anwk+7iOj8zf9BTbQOPyswrImJWN1Tz\nx8CPu6Fj96NuTsaiO3dcR/UUf5HqTXk48AyqZ3GsK9MN3fzfA7g6akXSGzPzNxHxKmo110vGWdPy\nhmoctB7vTw1Bh7ohWtjj+3/Y37oevYdSixMcQc3nOpxa3W8iVt2khoc9Hnh1Zn6oG/60C7U1yjh6\nk8+ihmfeDdg+Iv6d+gx+GXgzFeQvG3ENKzX0+zmTGub3BOB9mfkf3bDc9fqqbRUuoEbFHABkRHyK\n/9/eecfrOd5//P2NJIhRlIiVokhIbUKESGxqb7VXVW21KeVXtPao2jVq1igliiBGjVg1G3sTe5QU\nET6/Pz7Xk3M7spBzX885rvfr5SXP85w4X89939d1fdfn21KGvTtwEUza+6+S4fkJzv4vBMyqlp7x\ngThImptBABHxAA7Qfw4g6cqI2BQrSM6afrbu3rzAZ8jByaYPcOb40rD42jY4uNVM3IwD3z8HTpF0\nQ1iv4hVoqYqqyZZz8N7ZE9hf0n0RsS2uJCpQevS+NZWyvu2x4zQPjiz3T4faj3Km2CNiMO55uy6l\nsR9W6pOKiF5AD2VUCYuIZXEE6HX8IP4rZ4nO2KhsXusCBwHPSto83MtykaS6sz9ExGm4XO0pPLdp\nyNhsrtuu9LvvxI3/d8ry7DlLSJuWytqxPpY9nx8PND4zkhpcZhNJ2fRPcZlrN9y3d7OkE5vhuqYs\n9obYSVlX0vCIuBkfNq7PaFfj2m6EnZRhWEm1D547eHku2yZEWOFvRWBuSae39SEt3FJwMT5sz4Er\ni1bDe2lPHKhcua1+/7cllanNL+mSVOp6O7BKzaXeE01yut7H+0Xf9M90WCCuTfqR0z20LR7G/iSu\n0FkZi3Ot1Ba/89sQ7kEegR261bAD/yRWme0M9EsBj1rXuMpZo7NSP16TBIImSArszinpkYiYCwfg\nVpf0Vp3/D+He8VWAVyQ9lspgD1ZmZehmojh635LKg/kPXEq3HvBpOggdAbwv6aRMts0K/EPSEun1\nA3ihfSm9XhELx7TZ0NSJsPHHOJI7L24UnwYPYR4GDFMTzTsJC7C8C3yeDnGHAdNI2qfmiBUpiNAT\ni06sjEsOH8ALWraG7YjoDxw+ts08ley8Jvd/ZSEserITVi3ripVBe+GM7NPY4TpfaUB0TTY9gstK\n/oJHnVwdVri8S9LTddkxFrsC9xwfiqWzh+OMwB+VSVgq2dXIaq+MndCl8Lp7N5Ycf0HSznXb1crG\nxr5wC3bs/pneXxmXM/1OTSJMBN+MuKdSzc51BBvCKpvnYuGmJ/Hz90zKrnfG55Jse1SDsR36U4Zl\nXUmnZjJrrFSekUH42RUuuX5LVgJvBCImZTavB84UnqI0riEi9sYOZmNfP1vSQ+P+r9RLuseWxRm+\nOfE+8DxwmaQsGeRUdTUVrqh4FGeLZ8RB3ZmByZpp7YBvPhth1e2lJd2c21FNZ5JurYPhP2RK6ea3\nJG3mU9MinLA2Lt8EH8IPh2zCGNtg+X8iYiAe6P1Set0Nl1Bk6xNJ5UGzyAO17wLmwovtQri8dIuI\nOEiV4cI129c4rM2LN7CpgCklbZZsP5WW3pFar20q5/ggIoZj+fH9cQPy6MwL63q4z4domVHUsOcT\nHOXNKZG+HJ6lcwEW01kA93KdiA9Cr+Lsci1ExE+Bl1ImqpOkq9NHe+G5P7XSyonaEJgND5UfGUk5\nuNcRLGoAACAASURBVPGzue6xyjq6L7CbpONTFrk3vq5Z1osqad3oiu+ljyrvD4mIQ/HBrWkOa41D\nP86mfZW+41oyypLODiunHo/HKFwWER8AVwPXqMnEO6rrqyxi1mxOXqRneDbgaKzmezQuOe0UEYuk\nrMuk3iemwk7ljhHxavp9jfm9X9QZCB0flTVuYWBhPH/2lhR0Xgn3m72VybaZcabxcjzu4Xzc2z4Q\nO3xPYwG2plk7KvdbJ7z0Ke0TN0P9+0TKJtMIeMt9+IUKxdH7DsjlaZdiKVwkvZPKUTpLui29l6PE\naWZg3Yj4HCtvVmdKbQIMV97BkftiNdAX03f4DK6XvxFnqxbP5eQlGipOu+DDY3cs+w2OUtKIEtVY\nljA5roW/EG9Qo4B/p2vcDAvao7jsi4aTh3v2PsUlMo3DUpayP0m3hev1N8SDtYdExF546PeOkebX\n1WjSx8CjETGE5KCE+y8/kkU8aiVt2N2wM7weFomZLSJeBwZFxJCav5+xEhHd8bM5O/C0PE8q+0yp\nKun+vxL3Gl+P94epscrxWGdL1k14OHl/XNL/Av5Oc5SL/QqX7e8Rnv02CAuH9cUKuVmoZL6Wws7K\nw9XvJVp6fJuJwBm8DbCzfD1W3fxvRCyPy6+XndTXN2WZlgUIlyzvi9eRm4BLgGtzrfutaPx/rwVs\nD6wREY/hKqLBSmXVmWz9Eu/tSwK7SNo1IjbAAcp5cE9yrT3bEyIFtVpXBOQaF/O157ERvGqWIEOz\nUFQ3vyOSrgMOAEZFxKP4ofw9ZFNtQtIeuJTpdby47RURJ6QswnrYYcjJyrhM55OImA83hz+PD5ed\nJWVVA60sDotKOhE7n42My9Y4G9RYTOrkcVxO91hEnBwRewIrkBy9nGUSwLXAjBFxXET0TNG9T8OC\nHuuQlMzIpAgKIOkCfO/vHRFbYMGJhl21yi9LehuLI7wOvJUcgwPxAanWtSNalBU3AG7A2epHJD2D\nVYT3xQ57M7AwDkweEhG7RMRKqXSsaUiZk+uw0/IGVpRcHqseZ9sXokVVdRF8760L3BAR/4qIXSNi\nujrWkIiYIiK2i4jtgO0rJX0fSLoK2BOr9+VknnCZ/JG4h/Zr630TOnnVoPL/8Hp2FlZABDsM98Gk\nvf8i4icRcXhEnBMW4bhbUl8sUPcE8NeIWCG3k1ep0pkd93HtijNPU2E13P9L1U9ZgvPybMGdcCnz\nrqlyaH7cFz1a0rBmcFoqa8g2EXEA8JuI2DidLWsfFxNmM+BvEXFxOm800ovZv69mo/ToTSSV9P9M\nOK2+Ec5mnI5nnGSVg46IDXFk72al+T4RsRgu51wTD46cLaN9A7HC24C0mB2F+4F2S/90Ag7NvTEA\nRMSv8AFtEUmNzf4xYCVZubHNo9+NSFVEnIRnNo1O13NLXIJ4m6wulSWSlmycOjnt82NHdA7gC9x3\nMzvwoqS9ctg2NsKiCodgpbD5VJOYQuWwMTnuD/wMOy49cB/c88DLue79cC9lD5zpuUUWJdgF6Ctp\n65z3WMXGrlhQYgUczOqKHb9zVWN/5Vjsqg5h3g87MJ+ne224mmCOU+X+OwKfhQ4LqwqvBewIfClp\nlRrs6IpVn0/BJcJXAddKGpw+vxLYLJczlezbCtgBi+hsg52kDyT9LyxUdFzmqpNxEi5hOwIH2A7C\na8xKwM6axMrMaV/qjpWD++CevN8o8wzc1lTu/Z3xfr5T5bP9cEayB95j78xg35i1NdynvQNJHT33\n/t6asAbEPThI+gVphAcwEjhJHuPR1jY01tuGUurf8bXrGxFLYCGn29rajvZGcfQmkkpJxxlY2OFK\nHCFaCYsVZJ39FhH7kubQ4YP2DcA9lUVk7pwbVFok/ogFKFbGA6v3kPR4RPQFTpbUL5d9VSLiR3ik\nwgJ4QfscGCFptzrKO8JqVsvizfNwoE+r8oS6yw2/QYqgHYQX/vuA0bjfcmHce3kNLrEbNSkPGN/S\nxgF47uAzaum3mR5HdfsAf5D0SA12NNaOo7AzNSU+ID2PM9y1O3jpHg+lIfYRcQ7OWv8Bj4fZHDhA\n0j113PPjsLGxqU+DS5uWwf1Hn+JncyngHGUcXF25tqcDT0r6UzpAboiFHrZMWdzshMcCjADOa1V2\nNZXck1nLoTIitkl//DEOQnbHwatXJW3Z1r9/QoRHFK0DzISVZ4cBL+NAZbZg6fioZOtmxQ7qT7DN\nd7fFwTci7pG0TPrzNPjAfUhyTpquvDUsUnMM7q+8TdJrEXEw7s37CvippFrHTiWbuuJ98qX03tJ4\nf3oIOE3NocTcWOPWA+aSdEJYfGVerK/wY0nH1WRLw3G/GvehroyrwY5Iwcm5JeXUBGhKSo/eRFLZ\nAKfEkatXgMvDIwuOjIgbczpSko4Fjg3Xyl+ED0EfhEVPbq/jQDsBRmCH4Cxc2vFbSY05J5vgAaFZ\nSRHRTXDvz6lYFbQLnod1f/qxOhwW4Y16//TnrSPicZxBXgg3vPevwY7xMS0u7/slPljcj6/v1a2d\n0ExO3oLYWb9MqfctIlbHg6LPxE5qLaV0aZOcAthAUq+UTRmIs4tzR8ThGQ5GawOrRcTDwE2SdkjO\nyq54X9hLqbQuY5a9UTJ3CvAfPLZgSkkHR8RzkmoXr2lNZV+YBRiaAm49sKNwOC6duyqTeWMIz/bb\nFAskTRYWs3kNV6OMhPrKrySdX7HrZNz/3AfINvYn2dIIaPwY7/EfR0Q/YH2siLhdTvsmwK/x3vU2\nXmfabM0NqxouHW4hOF/Sh+ng3+iZbbrsgaShEfEHHIicPyKWxL3k6+P1Jcf4k9/jPaoxd7lTcpTB\nZaVdaIIZhJV1YUdguoi4WVbSfgh4KNzjXUufb+W/fwc+g/xcUuMstBZwWlv+/vZKyehNBJUowrLA\nsVjU4dTK569iIZHskdsU1Zhd0oERsTHuvxktafPMpgFjlfVeHi9qP6+rlG5cpMPQn7Bj9zjeuIbh\nw1DtJVjhOX5TYmWz+bF4x9RYtXG/ZijrSA7MYjiD0ROL64zADt+LGe06AWdhj02v18N9EENxFvL0\nOrKi8fWB9wfjDM/76bNpsGJpv7qvYypzWRA7KANxCentwNBKli+7kELKVNwjaamIuA6PKXgoIi4H\nzsxZplPZFybHgZe9sZO3Eq6seADPlcq6L1Qi8lPjsrAtcCDpdZwRbfOStYoNq+Igw+r4cD24GRz2\nyrXsjdUjN2g4wM1KZW35OS75+z0ObM0bnhu3JB7yPsmf4XALy1a4jxc8RmeJSf17vg+VazotXue6\n4wD4qzjg8QLe6y9QDaXLrWxbE5fU/nwsny2Ig1yvqYZyyIkh7H3+HKto98J7/FX4fvswgz3zYP2E\nBfA9OAVeawfUbUt7oGT0JoJKFGEUls7eI5WFPY5vsBPl3q3aD96VLNQ96WC9Ls4EIelvuFl1qjpt\nak2Kiu6JFabmjIg3sSrXVXjRPaIJnLxImZ+VwoprawDH4ejknrjUrg47Gpt3L6C3pD8Al4aloFfD\nC2wju5irp2sy3IM3BXZE58VKbzvjxvKp8HXN5ujhTak6MHVRPObhJuDP2LG5oa2NqByyFsNOwBmp\n7ORdHF1+NB2Aa3WqJD0IPJiCV9tj8YblgDUjYiSez5h9lhk+VAwLl3dPqRYBj4WAe/OZBbSoHZ4J\nXCRpzUhl1RGxCfB62hdyO8xfJQdmRXyw3QNnC3YlZU3bOhpf2RePxH3G82FZ++0j4hNgmzoczvHQ\nuJZb43muIyNicrnfsh/uVz05o31jo3G9VsMlzQsB16X3lgDWkXReW1xbed7t8cDxETE3Fn57E3gG\nB7NenpS/77tQ+X/+I24VuR/vS58q9YUCRMT2GcxbHQfWiIgpJH1WuU7zYj2A3MJEY0h2XR8Rt+JK\nnn44uLAaPnPWRkSsLKufL5SCHGvi+y6bWm+zUxy9b4Gk+3G50wz4ploLH0SGpgNTDrn7+XCv4NIp\nuzIvLo0cQ87IZFjt6izsND2HI90rYOf0M0nX0wRzsIApI6KPpAdkKfRh4Ybzq3E5TF0S5I1ytd2B\nV9Lv7SzpvbBYAUrCPzlKIhOH4MPiZ8Bl6d/LpD/fBDyujHLyYTXG/+DZZW+Gh6ZfCjyVIrxTU+Ps\nvMTV+LlcGm+Sy+Hre11Y8j7LHCesEHmppHNScKEXbmjP6uSFZ8+dJuk/EfESDgzdmMqEjgLuU95R\nMY3RFF3wPtoIvnyW7q97yTAXsUol8LghDsIMww7AHnio+xGNn61jLYmIRs/zM7ivZ7GI6IMDL2+2\n9e8fHxVH/G1cTj1N5RnYhFRe10xUrtlgXE2xI7YVHOhqlAw3xga1lR0vALulUs5l8QiZrFQCputg\n4a1F0/q2DG61GSXpRhgzG7FubsL9ZVSqhbrgZMIAmux+S87wOnhffQe4WNKVYT2BNh+vUMnOzo+D\nCv/C546uuDrnsbb63R2B4uh9C1L27KuUTj8RODE8XHsHLN++FMkpqIt0EDoSp7AXxnXTf0zRtWG4\nGTtnY/S2wB2yxD0AEfEELvE7LiKekeXcc7MUljd+AWdqh5IyZkqqfnUchiqL5aJYybLK/yW7/tnW\ndkyAEbj88Qs8u/Es4M6MjucY0obwZkTcgfsHd0/3//D0+cLANKpZqVHSG1hy//awJPWtOMu3CA7W\nHFSHHWERlmOwStpwnPX8VbLxaeDp5LxkIzwGYHm5wX5vrPI2Gqvz/gwfbM/IaGKVQbj37YuIOFDS\nm7gsbIz6YMZsXuP37gQcK+mf4Ig4sFVEPCjPQquL/+Lywt64f3x6XBHwZpPsAeDM9h9xX/QbOAu/\nHB5P1DRUHJmf4Sztulg8ZoPkUE9BmqNbV5VR+j1Z+ywrNPaiHri3vbq+dcbB5htrCt6OjYeBAyLi\nQnx2fEDudewJrJr+yUrlHlsL2AxXLkyBz5mnRsTO8niIOu6xRrBiO6ws/2kKBi4HjI6IvZRhDm17\nofToTYCI6KpWykfhmSKdsCx1ti8wbZQrA/9Iqf/p8GK/BO7p6g2cIOm+jDb+FZc13dR6UU0O6huS\nsjfQhvtslqZFNXJ+XNN/taTf11mWG1a0/AO+x45OTgIR8TSWXX6vDjvGYVsjsjYZLUqI/fAG8CSW\n578ll30NImIO4GIsonAFVntdATs29yj17tVsU+v7vyt26Kep6ztLh5zNgb2wkz45MFNd9/bEEO4f\nPBt4H/hE0jqVz2aTVHc2dpyk7N3a2BHojasWbgDOx73RWTfYdI+djfsZ76m8fxeWJa8t8x4Rv8bi\nHf9Lh7R58fzZ6yUdWZcdEyLclrE+dha6ADdIavMy729DZR2+GvetPpbK2JbDmeT7VdMooGYmBeLP\nA24D7sRKxycB16Sy1mxl1em8tjt2RqfHiqmv48qTI8b3d+ugco+dhKt0zk3vd8VO362SLqrZprPw\ndzQ9DqYdhwVtnmuGc2SzUhy98ZDSxDthqfinUrS29c90AjpJGp3BvoNxk/Hesoz9j/BhY7ik/4YF\nILIO3IyI9XGp3yaSnm312a14rEIWxc3KQjY3LsO9WNK7aQHugTf6N2T1tVo3zJT1OQBvTDPj0pz3\nJP0y8+Z0BO4F+VPDOUn3XV8s6tFDUo6eh4Z9a2DH5YL0uiFXvTg+gN+MM8xtKq5TubdmAGZTi8Js\nXSXAEyTZtiUe2P4cFiU4uxnsSwe0e/BBu9HTe6qkD3LaVSUiAiu3To+zZ91wGf12eHTMgxnNG0OK\nyJ+B+2ivwIJO/ydpwRp+dyMr0B84TEn0IpXRLY4z7U8pcxluupa/whna/+CsXrecQbUJERZz+gtw\npPKrajcN6cwxUtJN6fV8WIBoRhwEvwnP7M2hBj0z7ve/DKujv4ersWbE2e1nq3tFMxDuN94dqwg/\nIOmDFGC4RtKFdZ5H0rloLxwk2jCdzR4C1lWeEtx2QXH0xkM6bOyCszudcB/GVXguV/bBoGGJ7D0k\n/TssF7w/zrLMjBWdzstqYCIiDgN+hEcoDMdO1Gw429g7o12NQ8hGeJzCu9ixughHmbMcPqJFBGBm\n7IB2wVGse5IjmtPR6wVshJUFp8GR0vPlgbzdgKkkvZPLWYiIwbhm//p0XR9SGntSp00RMRfutzgc\neFiVOZupNHJ0cgSzO1XJpnmxrZdLujazLQ0neXNJF4cV6vbAa9srwABlUHqr2NdQkFwfl1jNj4NE\nZ46tAiQnEbGIpEfSYXcz3Lt1Nx5UfntdlQoRsRfuPdpa0n/b+vdNLJU9YBuc7X8E2ErS4umZmEV5\nRWLGSXoufof3hj/huXmvKfOM1dxExP64X/ET3OZwAS6b75Le+1LS6AzB28a6tglWQ18C921fhEfc\nZJsHOiEiYjdgDuyM9sazTNevM8ExtusVESsBv5S0cV12tEeKozcRRMR52NGbGUdDR+Es32XKJJ0d\nlpe9WNJS6fVfsbjJjmF53gOBXXJGwMMiE11xtGptfMh4E2fKRgJnSLo9l30NIuLv2IF/DkfX9kof\nPYjLYv/e1ptC5fC4LFbH2wT3i4yZA9dMhEtdl8Ala4sA1ymzKl1EzIqv1xLp9QPARmoZRrsu8C+l\nvoI2tKMTLqleBZdJHokPHG+lCORGwCOtM9yFrx28p8El1F0bmbFwSfPGqvT75iQiHsHO019wD9zV\nEbEDcJfcD5TLrsZ3uBCwH7B9Chwtiqs9ahkVEy7vnhn3kO2Mv6vngX9jsZp7czvFlcP3hbikry8w\no1yufxAW8tgmp43jIpXQLY3XmrmxPsDLONPyUkbTmoKIWA6vvyticZOr8HfTFEInaQ/dEOsYzIFF\nin7bDNnZynOxBXALPq8NxLoeI/GQ95frcpZTxn0nvKc+iXtBh+NKis/VJGMompUixjIOKjf6knix\n75/enwn3T+0FXJnRxBfxsMrT8IP3MxwlAo+AWDCzk9cf2AfPlxqK5zUdFpaqfg54v45I8oSIiBWA\nn0i6KB1MHsDf59JYXeq3ETG8BmersVj+HouwLIJlg/eJiM+BbZWpxHVsyMqfdwN3J+d050b2IKNZ\nW+NDJBExEJe6vpRed8OCJ8uP6y9PKtIh+z5cbvsGPuzuAowIiyQdh7NAhVZUMtXn4E18tfCszSdT\nhv2CZsiCphKilyQNT47V1emjvcistkmLcu/OWJ3084jYDx8qP4iILWsKUG6O96Whko6PiHuw8FBX\nPL5mg4jYM1d1AnxNYOtfOOO4Aw5Ikl6fOra/l4vKuWQ2vN5djfeLGXAP8s/Jey7JSgqyKXEXcFd6\nfxU853Ir7MznsC3w7NKd8ZiHN4HbU9XCT3B5ZLcctlWp3GOz44zxJXhNmQmYWtIpjZ9t63W4Ur20\nFdYDuBO3Ai2PB6b/GfcgF8ZDp9wGNCuVG7g78GlEzBuekdSYH3OrkkhGJvu+BE7G/SHdgO0aJWq4\nHj3bIOHEbsCVkrrjmvSDw0IK90p6pxmcvMSTWIlrbUlfJrtG4z6vo/Aw6zbPqCXnYA68kN4J9EyZ\nqRVwZrEhyJLlmY2IKSJilYjoEa1UGdUy8HiB9LPxjf9APcwKrBsRf8Ib1N8rn22CS67bvBw3bU4f\n4WdweZzxuQvPF5wfK16+l+taNiuN7yMFXyaXtBnwsiydPVtEXBYRU+d28hIfA49GxBDSeJhwT/RH\nuTPwlbV1FuDtiNgXl8uvgzM+y9VkyvY4w95QCV4LB7J2xNmnf+R08ir321z4We2Fr+vAiLgY+EKV\neWtNQmNtXRrYGKt/n4aDgndK2kbSaz/UtUXSV8lJ2SWtF2dGxAnAi5JWIwX6UlC3bvbA7TXT4b1q\nCeB3EbGZpJcl/UYVwaSMNO6xrXC7zWQ4SLojMG9E/LJGWxpr/TrAKThI9Ft5MPp7uP+9GfaDpqZk\n9CaApMEpq7c7cE1EdMeRtEajb7Z+qVQe9Ivqe6lcYR2c5s5CeJ7fIDwOAHlG10a4vOT1nN9ZayS9\nFRG3AUdFxO+x7HEPLHkMdvrqYio8smMe4JOwyMknODP1YLI31/fWBwsUvIRnDN4GPIvLmP+HBVr2\nTDZmWXgl7RYRx+Dn82fAnuHepD/jEtNaVLmS0z4VVnvbSNILEfElVu+rls2VDapC5d5eALg1PJer\nIde+IDCdmqA3GkBWNLwS+AnwYfrz5PgwMqYUu267KtH4hi174/VsJTzeYHEcEW9rO/oCU1SCQOA9\n4RfYSZkRyKYGDV+7387E39MhuIxuPpwpeyiTaeOkYvPewNF4xM20eJTMmmldPq+u8txmolKy3Bdn\nk4/BvWS98ey8fSvlhjkCzb/EonSPJ3vnwD2+x4X78s/PYNM3qNxjT+J9/2rc694vIn6Ly0xrOfum\ntawrLvl+AdgXKxqDxzxlV/huD5QevQmQshOdcXRyIJb8fhH4s6SROcqIImIOSa+GVfN6yLP0OuHs\n49tAL3lGVhbCs32OA57G39frwK6SFsll08SQShCXxX1xL9X4e7cALqkummEBmx/jKPN/JO2V6/CY\n7OkqK7v2x2Isi2BhjLewRPpLycYsTnxEbAB8KOnWyntL4IPbGrjXa7Ya7GgcNnYFFpZ7Zn+BnczX\ngC0zl7c2Palk6Jc4C7sr7l05HrhR0jkZ7ao6Ub3wwN6FsSM1HB9GXs6dpUr33/l4rM0tqRLlf2ER\niM0lrd3Wz2lE7I5bHnZNFQAzYvGG09IB9yJJbV5GPR77Gt/TrFisYw3lnTc70aTM8TGSlk2vJ8Nz\n9DbEGgJ/k/TX8fwnOiSV5/O3AJL+L73fBZ9H3kpVOjlsWx3YTdIarc+MEbEldqgOUQb19iqV73Bu\nPDZpfpw5O1dWcn8YixU9UcfZdyzf1XrY2XsRWERSn7b8/R2FktEbC5VNYHXcyDst8BdJ3xjSm8HJ\nmxy4NiKmxYODu4eb7t/D5X0r4YxGNkcvLQK74sWrN7A6Hii8I47K3Jl7U60saIEDHl+l6HOt/TUR\nsSkWS7goIn4MTC/pOVx2uCpuIG84BrmUNmfEJSaPY+XPPcPCGANx/9lfsdOXk8Vw2ea7eBj5lSkL\n2hDymKcOIyqH59mAIWlj6o8zjFvhrEZx9CpUnsUuwFep9Gwo/s62w5nux/GBPCeNob2H4Ws6JS5L\nfx64rRmqFNK+1QXv7fentz8Lz/u7l/rWt2uAUyKidyplHUFLRn0LoLb5fa1J91vjWi2OA2qXRsS5\nuBc091o2IV4DvgyPV/qrpFci4r84e3USFmL7wTl6lbPYUHzvPQP8Mzkok+PATK4qrA1wNdOswOf4\nvNbgOXwGyOrkJQJXmuyEWx0OiRYV8AHAEElPQD1n37Qv/BQHiibHJdaf4YDGn8f3dwstlIzeOAiL\nN7wA/AaLKqyHe+Eex9mpLPN1wk27f8E3+gVYmncefLgdgA8irymThHV4iPsqWL77s+QkTI2jQ71x\nWdbxyjTEvXKonALoIunj6mckp69Ge/6KI7DXRcTRwChJh9X1+yeGiOiJN6qZ8UiFj7As9H34Xmsm\nOflVcHR7OeBRrHY5VDX306ao+8U4o729LHF/E1ZnvCVX5rNZiYjFcLnV6jhLfAZwLRYAGCXprYzm\njSGtG49K6hUuzx2IS/5uBQ7PHcCCMc/ADfiwf6DGMv+1Bhsmw6VzC+E+n4dw0KUPLmneQZnmDEZE\nZ2BeWUinOy4l7UfL2vY+HjPSFOqMMEZxtquSBH9Y1OwX+PC7IC7x/z0eQTKjpANy2ZqLavYnIjbD\nVSc9cT/ch1jH4L1MVVg74+DQ/3Bg6DHcN/hUuIfwPUlH1mnT+Agrzd8v6fRW70+bHOe2ViFvnNPm\nxeKHU+LRTcuHW1r+W/c1bM8UR68VlWzeANxfs1vls8VwA/SBOW+ytInuiB283+GSjRUlbZk+zzln\nrfUQ92nx5v6kmmCIe0RMJ+nD8ODvqSXtncOOZMsMeHbfQikLeiueCfN82tg/a6bFLB1s++PrORfO\nGryOD3G35IxIpgPbuziTNmWy73RgTjyQeYEabakeOBpl1ivhuZEL1WVHeyEiFsFOwSO4/2I1XHI7\nI1abvTGfdaayLywDHIxLcN9Pn02DHb1+uda1Kil7tzYOTvbGGYMb8Hc7us41JdybvRRuK1iEFvn/\nc+uyYSw2LYFLbgfjMvS/yb3a8+EA0SK4jK5p5ppFxDp4oPtxwB3yHLj58TMyPf5en8EKhAc0k5Na\nBxXHYCZ8/pgHZ2r/gxVJH5D0ZiYnb2pJn6Q9vR+uEpsT+AD3we0LLCfp9TrtGhepbPNYvIdegp3S\nJ+u0r7Lenox1Ez4ANpO0WXh+ZF9Jh9ZlT3unOHqtqNxgR+Ps07E4Evl5kx26Z8MzkhbHZWsrS7o7\nIrrkjCpHkw9xT5G+ATjruJ+kqyJiipR9XIUaF7TksG+Mv6MeeKBr92Y4LDYI99OsgDMrf5f0fHq/\nGy2R8AWAKyRdk8G+KYDrgSlwxv1WLMP8b1zHPx0wuI4MckQsL+mOVu81FMy6AHNKeiYy9lo2IxFx\nKu6f+X2r97fFaoKbNkOmDCBckr4tjspfjYMLCwO95X7MrJnadL9Nhg//X+FnYhVcArtHjixacoRn\nxiVrX+U+0CZ7PsX75t74O3oDuA6X/X3ejM9nOuD2x8O1bx/Hz/RsB6WnbULaC67Fyoz34z1hmKRL\nMtv1Gxx8vA/4d8oqzoirAVbBAd3dM5r4NcJ6Dz2ARWkpUe+Eyzavr8mGhuP+J1y5tjcWGbo5Is4A\nXm2mDGizUxy9sZA2y72wQzAl7ie4DQ+JHJHRrqVwqcY9jexJWGXzCOBSSWflsi3Z0h6GuHfFAg/b\n4c39Wazc9Ci+zoOUatBrtmsGYEv8HT0HXCDp7BwRyFZ2nYYX/Y/xQe0W3Gc2AgsSvZcOIH8AFq37\nQB4RCwOXYTXQ1/DcsNqzBWHBlQtw9HMYfg7urny+Fu4XaYY+jKYiIu7GEe2vwr00gdVuuwAXAqeN\n62BbN+Eem/lwkGMWnAF6BTsJN2CHNYcY0WSSvoyI9XFv7/z4HjwzkpBS3TY1M9HSd9QVVygMSGNg\nhwAAFbRJREFUwI5fL7xHNZ3iZio53RrvE5/gQMMT2Kn/GPflf5Qz0JCDSnB+C2AFSdulkr/FcK/Z\n0ZKG5LIN2AyXMM+Er9twvE88mO7BKVXD2J+JIZ19e+FRKNfhip0+2OG7VW5BqO1MEp6HuwsuT14f\nB6+uBFaX9GodNnQEiqNXIWUpZgC+bDh0YZXBtbEa49OStsto3164rOQDnLG4T9LTqfTpHOA6SYdn\ntG8yPGBWeOj4ysAGsrx8T5xZWTCjfY0NYREc0f0v3jQH4Rr+1yTt2wTO1bzA4bhP5NpcdiRbHpC0\nZPrzCzjgcTfO5P1H0kkRMScuOT0ok42z45lEPfEBtzNWfH0UD6Rtc+czIi7AG/hVOOMzCEdBr8Q9\nP9tIqmt+Wbshra934fE1l8tzSqufP0Tqccxh3/gIiwT0wQfKH+P+m4NyZoMi4hF8sPwL7ge9OiJ2\nAO6Sx/H8oImIHrgPdGNc9ngJVgB9J2VZ+gD/asaMXoN0TtkcO/Qf47LNxXDgLXuZc91Usj+nA69I\nOrry2dEAkg5sgn29O94X+uG1Ykb8XGYXzqkEirbHA+XnweNR+od1F2oLIKQM6I2Snkyv18X9qB/j\ncTaXSypD0r8FxdGrkLIXA/GBbaik0yqfdQbmzll6FRZimR2n1HfAvVFv416D0bi5N6toQUT0wqp0\n72NJ3n+n9w8CZpa0R077ki2XAodJeqby3vS4wffL3BtCsxAeWXA8XvR7YIGdxZNDvyAOLqytmoVO\nKvZNjw87/5Dl42fC0e3FscPXG/fF1VG2uRIwUtK96fVUeDjvQGAfYB9JJ5SyzW+SrttWuBT9BeBM\nSedHxCx47MigrAa2ovX6kLJCiwLTSMo21yk5nsdLWjcihlUqK57EAbesg9ybgYi4HM+euwqXdW+N\ng0THA0c087OZziBf6etjeH4EfCr3w3f+oVYMpPX2FOzA/xOXcN6DW2+OkvRwjrU3IhYAfoSDjyvg\nCqI1ceKgBw7Ob1CnTWOj4iz/A7eSrIfvqxPDegbvSzqpBju6YIHBgdixOwura36O1e8/weJcP/jz\n2behU24DmoVw71ZPeS7HecBWEVGd87MofkjJtRlIejmVg32GS+fOxj0iW2DhmOzKdJKelvQLSbtW\nnLzGEPds/XmphKJRQtc9OexdI6JTKptcljTAuiwiY+gEPAAcBVyBS10b9/8n2DF+Iy3OOfg1vm6N\nw83n2NEbLDdqn4Ttb3Mk3dJw8tLrkZJukLQfLn+5MH30gyqrmhgkvSPpeEkz44N334gYgUtxbx3/\n325bUikTETFDKj8fsz40PpM0StKwnE5e4mPg0YgYgh1mwuIxHxUnb4wIy08lbSHp75LOkzQQ95AP\nwuM8mhZJoxtOXkRMlg7nHymV5f6AnbyQNBKX+K2MVV7XxuWRnXCvXu3ntrB43xN4pMm6WE24N862\n74l7e7eu06ZxkZy8qfG+/gn+/i5KHy+Pv8sx56g2tOMLSZukvWAHWtpEBgOrSGoqrYz2Qpmj18IG\neHYZkganCNHvgEHhQdr7SFo3o31V1gFOknRfRDwFzE3mA2SMf4j73bh0Ledsv8b305M0W62xQUbE\nCsBqkq7LZF5TIumKiLgDH4RGAbOlrPcTOHL69/Sjue69VbHAxKhoJfwTEdmFfwAiog/OSr0bZaTC\nBElZ9l9HxG74WuYuN5wzIkbhUuqH8XidBp0jYnQ6JGWvApD0dkRcicubPkx/nhxnOsaUZ+W0MTOb\nkWZvRUsv6FfymIXbcKbl0Yz2jZOI+BXuzX8MWpyWH/o1jYgD8UzBBXBv9GTAT/HMyFnxNT40Im6T\ndEzN5r0PnIkVNgcBrwKnK6POw/iQlUEvxUFd5HLmXwKdJd2W3mvT/SuVmffGgjqXSVo9PavbAX+M\niDWU1OULE08p3WRMlGJnPDfkgUq98hVYYGEV4KVcpVfJ0bwei64MweIEA+q0YXykB/FenFofjJ27\nbwxxlzQ4m5GJiOiNN/tLcaTtA5wZvULSheUwblLmc0OcibpT0hepNKwvLotcFVhD+eYSNb3wT4NK\nWUx2Z6Aw8aR9YWW8/m8OHInLwt6S9HF4dMAjkp7NaGPj3pociyh8hjMFPXALwvPAy2VNg+SwX4rH\nD4xo9dlhwHSS9spi3FhIJfL9cHb2OmDVFDDKqqzdLKSM2YN4/74dB4beBg7Cwkgv4faC0XhvqH2e\nZLKzCz4DbYorw0ZgUbM/0WQjlGCMAMoRuOT0JtzG9M+2PvtGxOLAubhv9gvsHB8g6T+Vn5lc0udt\nZUNHpTh6ibSpd0tRjYZoR1/gUNyjtLSkDzPa1x33seyP5aA3wSp+2aN50eRD3FsTESvjGnRhh/Re\nvKD84A9DDcJqlmtgcYIf4X7Qa2TVre7ADPKw1yzOSzS58E+hY5B6oDbGgcAbgKnwQe1NPNNsfknv\nZbSvEZQ8ihYp9CHYwTu/rGktRMTSwG5YjOUNvGednZz2m4H9ldoNmoHwGIjd8J4vLPJ0eyN4FRHX\nA5ukssUfHKlncXPgAOAMSSdHxK+BAZI2jYxqlpXg/B+BsxprRKp4WhOf5XZRZoGkyll3JtwXtxHO\nap+Oe85rc6oi4njgIUmXpLL4E4APJB0RY+lPLUw8xdGbABFxGRYRGdQs2Z6wKuPeuNx0OLCVpJcz\n29TMQ9wbUe9FsFDHBzja1wVHSz+QB9CWjEuF8IDX7jhT0B+XxNwl6cyshiWiHQj/FNovlUPQT3Gm\nYCaserwwLi36WNJRufeF8PywRyX1Si0HA4FDcKDt8JL9+SYRsSHu8V0UV56MkrRAXqvGTkRsCcyL\ns3tz4UqUEcBiklbNff/lJlVw7IazZLvje35ICt4r156eAqJbYEf9BVy2eeH4/1a9VAJFZ2Dl4Ctx\nBcNKwB8l/blGW0YBl2Pl4lfDKqq3S7q8ZPK+H8XRmwBhKePpJb3ebPXwyblaFnhc0vtNYE/TDXGv\nOHk9cQT3aewgz4obtadL5TDFyRsHKbo2DZ4dtjtwjKQ781o1dsLCP8cBO6kJJfkL7YvkOP2TJHaV\nqhfekvRZ5WdyZbUbjugywMHAlo19IGWDbgX6NdOe1Wyk67szvqbZZe5bk5z4X0j6S3r9E5wN+gJX\nWDzVbOeSukj7UkNIpB8O+q0CLCvpnqzGtSIi5sOzmdcHnqIJgvNVwuOBfivplfS6Fy5V30/SCzXZ\nUM24v4vPaD/JWTHRUSiOXuF7Ec0/xL1xGNofqzJei4Vs1omI1YGdJa2d08ZmIyL6Srq/1XsNh/lw\n4POUych1wB2f8M/bQC9lFP4ptH8q68auwMJy7+cvgNOwGuiWzRJISDZui8s1r8aHpIWB3snuH3TG\npz1SybTsgNtGdqhexxKYHDuN7ws4WdLjE/r5ummm4HxlT18Wj6G4RNKplc9fBRaX9HYG29bBqpv9\n8bp2mKQb6rajo1BUNwvfl2VwOdP6EdEY4n5XeLj7ORExizIOca8ccLrivozjgMvSe/2AxlDOH2RU\ntDURMRdwXUS8AtyIF//hlUPFMkBjIG2QRlLUaN/kwLURMUb4JyK+IfyDS5oLhe9EZd2YDRgSEevh\nQ8fPcEZlENAUjh527p7AB9x+wHLAK/g5ngXLuhfaF437by3g5PTnLsDnqZTzf3gWYOHrXID7VGcG\nHm82hzidMe7IbQd8bYzUKOAjYI+IGICVhacATpSVfGs/G0m6Fu/zU+E2pVnr/P0djZLRK3wvon0M\nce+EhWKOwKUd2+Keh12B7VJGqKk2hFxExIp47tucuDF7ID5E3gwsgGdNrpXRvnYl/FNo36SyyItx\nH+j2shjRTcCxkm5ptmxZ6ifsg0vnf4wdgoNKEKv9EVZrPAYfwo/D4hiKiH8Bh0i6vexbhUlFqpDZ\nGgcXegFDgTOAu8s91r4pjl5hkpBKJjbA86b6Y0dqpKTfZLSpUf7yfzhK9SqwE56181/gDkl/y2Vf\ns5F6Hl7EMt5Pp/cG4Gs6Gh82nkj9qjnFdZpW+KfQcageoivlwisBJ0haKLN5X6P1gT8iuuLg2zTK\nP8i98B0JjwM6FLgNO3xLAn3lQe+FwvcmxqJoGRb82wErDi+Vo3yzMOkojl5hkhAR1wF/knRTRExH\nGuLeDH0sETEEWF/Sx+n1rMA7uQRimpWI2BTLda8XllveFPgNnm0zB84MvJvTxgbNKPxT6BhExPKS\n7mj1XqQ/dgHmlPRMrnLvSm/NDMBs1V6kkuHpOEREV0mjImIQHiMwCvcr3SHpwRLQKnxXGvdWq/c6\nYYG6L8sa0rHolNuAQvskIpaNiA8jYu+wvPGPJN0EIOlDSQ83iZPXG/ei/iEifpY2xzeKMzBWeuEB\ntADr4szsb/EsoFFYnS4bEbFURAyIiM6SXpfHJxwIDMPlapTrWvg+JMGVWyLioYj4c0T0h6TR7sPP\nqlgqnRxOXmLOFOg4BvfjVenccEorzmmhnZAO240S9f0i4ilgSUk7AHtKOl7Sg/C1PtJCYaKJiPmB\nYyJiYET0aLwv6StJo1MQqVPK9BU6AOVCFr4Tkv4VlgzeCpeVdIuINWmeIe6NaOfk2BHoievPX4uI\nF3HdeZHt/To3AMcnQZa1cMbsihRV7oL7lHKWRja18E+hQ7AqDm5chXt5j0uH7yvx/b+NpOtyGZds\nmQ/3Gq8JPBoR8+DxAB/jAM0jwLMlKt8uaTjnBwP34fuwT3pvjYj4SNLQLJYVOgqj078PBDpFxP34\nPntG0icwJohQAgkdhFK6WZgkRBMNcU9Kc7tJOigiekl6Ojy8dHksOz4nHgbadPLLuYmIxYElgNGS\nzk3vzQDcCQzMWbrZHoR/Cu2b1IM3UtK96fVUeN0YCOwD7CPphJwqvRHxI9w7szMOzkyFB2i/ifto\n5y9BrPZNRAzFTvvZwFlJ+Ocy4C5Jp5US3cL3JSLOw1V9M2Nxs1HANcBlpSevY1EcvcIkJZpgTkxy\nTKYFugHnA89gVcbBSS54XknP5rCtvRERU2OxkwGStmuGvpBmFP4pdHzCc6UWlfRuroN2tMz3+ykO\ncsyEs9wL4xEyH8szLrM/p4XvRsra7ojHBGwgablUhvsYsIKkd4qjV/guVPp7l8TzhPun92cC/gCs\nAPSX9EZOOwuTllK6WZikqAnmxCQHs1FmuAXOUC2PS/4+xr0thYnjU+B6IFu52lhYB29S96Uelrkp\nZSaFNiQi+uCZku/mdKKSkzcVcB6wkaQXIuJL4AZJn1V/NId9he9OxXlbGveB7oNbInbHGeXbk5NX\nnPjCd6ISHOgOfJoqsV5P99Xx6UeKk9fBKBm9QociRUPnwKVNnYHrJD2RPlsUD9S+NqnmlahoOyAi\nlsXO5hHAEOA0SQPyWlX4oVGJhufO5u0KLCxpxyQecxrwGrBlMwhgFb47ETEFMCRl8brhvvLZgH8A\nT0v6qDh6hUlBRPwOz9q8Bjt+WwM3STqx3GMdi+LoFToUEbETzvi8g8uaFscDwH8n6R8RMaWkT3Pa\nWPj2pB7LrYD9cUnuJjSJ8E+hUCcRcTTwb+ALHLg6Cj8bn0k6Madthe9GtMx8XRqPtNm8tfx9oTCp\nSKXAnYHtcbb4fTxD98+SRpYgeMeiOHqFDkNavIYD6ygN/E7v/wpHq35ZBFjaP80k/FMo1E1ELANc\njA9n20t6JCJuAo5Noh0lGt9OiYgjgPWAm4ErcKZ2RAloFb4vlYqA1YEVsY7BXyTdl9m0QhtTHL1C\nhyEi1sfN65tHxJR48Oeo9NkpwBvAMeUQ1DFoBuGfQqFOqpH2iJhD0qtJKfQESQtlNq/wHYiI2YHp\nJT0eETMC/YA1sBLiy8CzwJWSRmY0s9ABSOXAL+CscU8cVOgGPA7sWtR6OyZlYHqhI/EbvDEi6dM0\n/61r+uxaoF9x8joOkr6UdEdx8godnYhYHr4mpgCeCRp49MmG6ecmy2Be4fuxODB5KtvcDHhU0s5Y\nVfhdYLHi5BW+D0m7ACxMd4WkiyUdLakvLvt+mSRgV+h4lIxeocOQmot3wIpzf8OiHS+kz87Azewn\n5pyBVSgUCt+GJLhyAZbXHwZcLOnuyudr4X7V0eP4TxTaAakiZUVgCuADrF59dyOQVfqmCt+VStnm\n0cACwLHAg8Dn5Z7q+BRHr9DhiIh+wG7AaliI5UIctRoo6b2yYRYKhfZCRFyAe1GvArYFBuFqnCtx\nFH4bScvls7DwXYmIpYBVcZZleJpbugjO8s2D1RB/XUrqCt+XlP3fCxiAZzQOA27DAfAROW0rtC3F\n0St0aCJiAzyP6CNJqxWhgkKh0J5IPXgjJd2bXk+F54IOxGvbPpJOKJUK7Y+IWA7YFI8EGoFFWG5P\nAclZgHkk3ZXTxkL7JvXlzYA1C0ak9/oDa+Me96clbZfRxEIbUxy9wg+CSulCcfQKhUKHICJeBRZN\ng9xLpUI7I2VZpgUOxofuN3C25TFgKHBL2a8K34eIOA0HhYYDQyWdVvmsMzB3mitcAkUdlM65DSgU\n6qCxWZZNs1AodAQiog9wSXLySgCrnVEJPi4P9AHWAqYBFsSOX1/gXuDjfFYW2jMRsRnQU1KfiPg5\ncGhEPCHpjvQji+JePYqT13Epjl6hUCgUCu0MSU9GxAGNl1mNKXxrKo75z4D7Ux/ee8BLETEX0EnS\nxyVTW/gebAD8HUDS4FT2/TtgUEQsi8u+181oX6EGyniFQqFQKBTaIQ0HoDgC7ZqrgK0j4sSIWCy9\ntxYerQAQecwqtGfSSIWheEYeqTTzb8C7EbEmsDEezVLGsnRwSo9eoVAoFAqFQiYiYj588F4RmAX4\nJ7B3ceAL34fk7HWT9EmlVLgvcChWdV1a0od5rSy0NcXRKxQKhUKhUKiJRjlmRCyJFRE/AT4Fnge6\nSHq3+nMZTS10QCLiMmBmSYNKf2/Hpzh6hUKhUCgUCjVQcfJmB24E3gRewqWaLwFP40Hpo7IZWejQ\npJEL00t6vahtdnyKo1coFAqFQqFQA5USul/hw/bREbEwsDQelv6JpH3zWlkoFDoKRXWzUCgUCoVC\noR4a4irLAa8ASHoUeDTNNZsVWhzCPCYWCoWOQnH0CoVCoVAoFGpA0pcRMS0ejr5Jmod4NzBY0hO0\nOH/FySsUCt+bUrpZKBQKhUKh0MZExEHAPZJuT69nBFYA+uGyzfskHZjPwkKh0NEojl6hUCgUCoVC\nGxIRAZwAbAR8BVwGnCbp5fT5gngk4hOlbLNQKEwqiqNXKBQKhUKhUBMRsQywO7AqLtU8FzhX0sis\nhhUKhQ5HcfQKhUKhUCgUMhARGwCHAK9IWie3PYVCoWNRHL1CoVAoFAqFjDTmmZW5ZoVCYVJSHL1C\noVAoFAqFQqFQ6GB0ym1AoVAoFAqFQqFQKBQmLcXRKxQKhUKhUCgUCoUORnH0CoVCoVAoFAqFQqGD\nURy9QqFQKBQKhUKhUOhgFEevUCgUCoVCoVAoFDoY/w+qGn9qcMGNJgAAAABJRU5ErkJggg==\n",
      "text/plain": [
       "<matplotlib.figure.Figure at 0x109bb7898>"
      ]
     },
     "metadata": {},
     "output_type": "display_data"
    }
   ],
   "source": [
    "fig, ax = plt.subplots()\n",
    "\n",
    "fig.set_size_inches((15, 8))\n",
    "\n",
    "plt.xticks(rotation=70)\n",
    "\n",
    "keys = []\n",
    "ch_vals = []\n",
    "en_vals = []\n",
    "for strategy, arr in data_np.items():\n",
    "    keys.append(strategy)\n",
    "    ch_vals.append(arr[:, 0].mean())\n",
    "    en_vals.append(arr[:, 1].mean())\n",
    "\n",
    "ch_vals = np.array(ch_vals)\n",
    "en_vals = np.array(en_vals)\n",
    "y_pos = np.arange(len(keys))\n",
    "ax.bar(y_pos-0.2, ch_vals, width=0.2, align='edge', alpha=0.5, label=\"CH\")\n",
    "ax.bar(y_pos+0.2, en_vals, width=0.2, align='edge', alpha=0.5, label=\"EN\")\n",
    "ax.set_xticks(y_pos - 0.2)\n",
    "ax.set_xticklabels(keys)\n",
    "ax.set_ylabel('mean')\n",
    "ax.legend()\n",
    "\n",
    "plt.show()"
   ]
  },
  {
   "cell_type": "code",
   "execution_count": 15,
   "metadata": {},
   "outputs": [
    {
     "data": {
      "text/plain": [
       "Text(0,0.5,'Frequency')"
      ]
     },
     "execution_count": 15,
     "metadata": {},
     "output_type": "execute_result"
    },
    {
     "data": {
      "image/png": "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\n",
      "text/plain": [
       "<Figure size 432x288 with 1 Axes>"
      ]
     },
     "metadata": {},
     "output_type": "display_data"
    }
   ],
   "source": [
    "target = \"feature_politeness_==Please_start==\"\n",
    "arr = data_np[target]\n",
    "\n",
    "plt.hist(arr[:, 0], histtype='step', rwidth=0.01, label=\"CH\")\n",
    "plt.hist(arr[:, 1], histtype='step', rwidth=0.01, label=\"EN\")\n",
    "plt.legend()\n",
    "plt.title(f\"Distribution of mean ratings in {target}\")\n",
    "plt.xlabel(\"Mean Ratings for each message\")\n",
    "plt.ylabel(\"Frequency\")"
   ]
  },
  {
   "cell_type": "code",
   "execution_count": null,
   "metadata": {
    "collapsed": true
   },
   "outputs": [],
   "source": []
  },
  {
   "cell_type": "code",
   "execution_count": null,
   "metadata": {
    "collapsed": true
   },
   "outputs": [],
   "source": []
  },
  {
   "cell_type": "code",
   "execution_count": 19,
   "metadata": {},
   "outputs": [
    {
     "name": "stdout",
     "output_type": "stream",
     "text": [
      "[{'Num': 6,\n",
      "  'Request': 'Good work on the canal junctions! Where appropriate, do you '\n",
      "             'think we should give the nearest pedestrian access point, from '\n",
      "             'the road (as opposed to canal) network?',\n",
      "  'ch_mean': 8.0,\n",
      "  'en_mean': 7.25},\n",
      " {'Num': 78,\n",
      "  'Request': 'What would the recommended sequencing be, then?... Good Article '\n",
      "             'then Feautred Article recommendation?',\n",
      "  'ch_mean': -0.4000000059604645,\n",
      "  'en_mean': -0.1111111119389534},\n",
      " {'Num': 212,\n",
      "  'Request': 'Great job. Will it be done by next week?',\n",
      "  'ch_mean': 3.200000047683716,\n",
      "  'en_mean': 7.44444465637207},\n",
      " {'Num': 265,\n",
      "  'Request': 'Good idea.... Perhaps though you could also make a list of kings '\n",
      "             'on that page??',\n",
      "  'ch_mean': 3.4000000953674316,\n",
      "  'en_mean': 4.75},\n",
      " {'Num': 286,\n",
      "  'Request': 'Nice work so far on your rewrite of \"The One After the '\n",
      "             'Superbowl\". Are you planning on including info about the Diet '\n",
      "             'Coke fiasco?',\n",
      "  'ch_mean': 2.0,\n",
      "  'en_mean': 8.25},\n",
      " {'Num': 1010,\n",
      "  'Request': 'Interesting illustration on the PrIze law page of a Zeppelin '\n",
      "             'taking a Norwegian vessel as a prize in 1917.  I wonder whether '\n",
      "             'you could point me to a source for more information on this '\n",
      "             'incident?',\n",
      "  'ch_mean': 3.625,\n",
      "  'en_mean': 3.7142856121063232},\n",
      " {'Num': 1018,\n",
      "  'Request': 'Good find. Do you have a cite for the second para?',\n",
      "  'ch_mean': 3.142857074737549,\n",
      "  'en_mean': 5.142857074737549},\n",
      " {'Num': 1202,\n",
      "  'Request': \"Excellent, thank you! Can you also delete the 'url' from en and \"\n",
      "             \"move hooks from the 'url' to 'url'?\",\n",
      "  'ch_mean': 6.44444465637207,\n",
      "  'en_mean': 4.857142925262451},\n",
      " {'Num': 1258,\n",
      "  'Request': 'Great Article RaveenS, Do u want me to add this to the template '\n",
      "             '(Sri Lankan Conflict)? I think it should be included in the '\n",
      "             \"''see also'' section what do you suggest?\",\n",
      "  'ch_mean': 5.25,\n",
      "  'en_mean': 3.0}]\n"
     ]
    }
   ],
   "source": [
    "import pprint\n",
    "pprint.pprint(json.loads(t)['feature_politeness_==Deference=='])"
   ]
  },
  {
   "cell_type": "code",
   "execution_count": 2,
   "metadata": {},
   "outputs": [
    {
     "name": "stdout",
     "output_type": "stream",
     "text": [
      "{'score_impolite': 0.632821357716149,\n",
      " 'score_polite': 0.3671786422838511,\n",
      " 'sentences': [{'impolite_index': {1, 4},\n",
      "                'involved_index': {1, 3, 4},\n",
      "                'polite_index': [],\n",
      "                'tokens': ['what', 'are', 'you', 'doing', '?']}],\n",
      " 'strategies': ['feature_politeness_==2nd_person==',\n",
      "                'feature_politeness_==Direct_question==']}\n"
     ]
    }
   ],
   "source": [
    "import pprint\n",
    "from politeness.api_util import get_scores_strategies_token_indices\n",
    "ret = get_scores_strategies_token_indices(\"what are you doing?\")\n",
    "pprint.pprint(ret)"
   ]
  },
  {
   "cell_type": "code",
   "execution_count": null,
   "metadata": {
    "collapsed": true
   },
   "outputs": [],
   "source": []
  }
 ],
 "metadata": {
  "kernelspec": {
   "display_name": "Python 3",
   "language": "python",
   "name": "python3"
  },
  "language_info": {
   "codemirror_mode": {
    "name": "ipython",
    "version": 3
   },
   "file_extension": ".py",
   "mimetype": "text/x-python",
   "name": "python",
   "nbconvert_exporter": "python",
   "pygments_lexer": "ipython3",
   "version": "3.6.6"
  }
 },
 "nbformat": 4,
 "nbformat_minor": 2
}
