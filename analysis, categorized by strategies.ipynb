{
 "cells": [
  {
   "cell_type": "code",
   "execution_count": 4,
   "metadata": {},
   "outputs": [],
   "source": [
    "import json\n",
    "import numpy as np\n",
    "import matplotlib.pyplot as plt\n",
    "%matplotlib inline\n",
    "from scipy import stats"
   ]
  },
  {
   "cell_type": "markdown",
   "metadata": {},
   "source": [
    "### reading data"
   ]
  },
  {
   "cell_type": "code",
   "execution_count": 5,
   "metadata": {},
   "outputs": [],
   "source": [
    "with open(\"sort_in_strategies.json\") as fin:\n",
    "    t = fin.read()"
   ]
  },
  {
   "cell_type": "code",
   "execution_count": 6,
   "metadata": {},
   "outputs": [],
   "source": [
    "data = json.loads(t)"
   ]
  },
  {
   "cell_type": "markdown",
   "metadata": {},
   "source": [
    "### preprocess"
   ]
  },
  {
   "cell_type": "code",
   "execution_count": 7,
   "metadata": {},
   "outputs": [],
   "source": [
    "data_np = {}\n",
    "for strategy, sentences in data.items():\n",
    "    temp_data = np.zeros((len(sentences), 2))\n",
    "    for i, sentence in enumerate(sentences):\n",
    "        temp_data[i][0] = sentence[\"ch_mean\"]\n",
    "        temp_data[i][1] = sentence[\"en_mean\"]\n",
    "    data_np[strategy] = temp_data"
   ]
  },
  {
   "cell_type": "markdown",
   "metadata": {},
   "source": [
    "### strategy-wise t-test and p-value"
   ]
  },
  {
   "cell_type": "code",
   "execution_count": 8,
   "metadata": {},
   "outputs": [
    {
     "name": "stdout",
     "output_type": "stream",
     "text": [
      "feature_politeness_==2nd_person==\n",
      "Ttest_indResult(statistic=5.013216824635514, pvalue=6.518243610949175e-07)\n",
      "feature_politeness_==HASHEDGE==\n",
      "Ttest_indResult(statistic=2.739274862402433, pvalue=0.0064343462420056305)\n",
      "feature_politeness_==HASPOSITIVE==\n",
      "Ttest_indResult(statistic=3.086263283994011, pvalue=0.0021374904860140373)\n",
      "feature_politeness_==Direct_question==\n",
      "Ttest_indResult(statistic=1.283687864637568, pvalue=0.20045901594645588)\n",
      "feature_politeness_==Factuality==\n",
      "Ttest_indResult(statistic=2.191478158625658, pvalue=0.033518621452833186)\n",
      "feature_politeness_==SUBJUNCTIVE==\n",
      "Ttest_indResult(statistic=5.014347806120296, pvalue=1.303276349218317e-06)\n",
      "feature_politeness_==HASNEGATIVE==\n",
      "Ttest_indResult(statistic=3.0162522921268438, pvalue=0.0027304133210836606)\n",
      "feature_politeness_==1st_person==\n",
      "Ttest_indResult(statistic=3.1550730557465334, pvalue=0.0017162019489397353)\n",
      "feature_politeness_==Hedges==\n",
      "Ttest_indResult(statistic=1.1460968851679547, pvalue=0.2531964558566462)\n",
      "feature_politeness_==Deference==\n",
      "Ttest_indResult(statistic=-0.8994778200196156, pvalue=0.3817363721135466)\n",
      "feature_politeness_==1st_person_pl.==\n",
      "Ttest_indResult(statistic=0.3621535216623026, pvalue=0.7181055474843834)\n",
      "feature_politeness_==1st_person_start==\n",
      "Ttest_indResult(statistic=3.619283982231555, pvalue=0.00033770997548749303)\n",
      "feature_politeness_==Gratitude==\n",
      "Ttest_indResult(statistic=1.123977386679805, pvalue=0.2654994858002409)\n",
      "feature_politeness_==Direct_start==\n",
      "Ttest_indResult(statistic=1.414161093228222, pvalue=0.15944352508152426)\n",
      "feature_politeness_==Indirect_(greeting)==\n",
      "Ttest_indResult(statistic=0.8484440302741157, pvalue=0.39793813516882603)\n",
      "feature_politeness_==Please==\n",
      "Ttest_indResult(statistic=3.354114335141079, pvalue=0.0011577073134843934)\n",
      "feature_politeness_==Apologizing==\n",
      "Ttest_indResult(statistic=0.9394824992203271, pvalue=0.35410995921164967)\n",
      "feature_politeness_==INDICATIVE==\n",
      "Ttest_indResult(statistic=2.2908682703168695, pvalue=0.023402470248640277)\n",
      "feature_politeness_==2nd_person_start==\n",
      "Ttest_indResult(statistic=0.5104055598758728, pvalue=0.6115233399390849)\n",
      "feature_politeness_==Please_start==\n",
      "Ttest_indResult(statistic=0.6180871124071112, pvalue=0.5503347660048314)\n"
     ]
    }
   ],
   "source": [
    "for strategy, arr in data_np.items():\n",
    "    ttest_result = stats.ttest_ind(arr[:, 0], arr[:, 1])\n",
    "    print(f\"{strategy}\")\n",
    "    print(ttest_result)"
   ]
  },
  {
   "cell_type": "markdown",
   "metadata": {},
   "source": [
    "### test"
   ]
  },
  {
   "cell_type": "code",
   "execution_count": 17,
   "metadata": {},
   "outputs": [
    {
     "name": "stdout",
     "output_type": "stream",
     "text": [
      "feature_politeness_==2nd_person==\n",
      "Ttest_indResult(statistic=5.013216824635514, pvalue=6.518243610949175e-07)\n",
      "1.0886732031492625\n",
      "feature_politeness_==HASHEDGE==\n",
      "Ttest_indResult(statistic=2.739274862402433, pvalue=0.0064343462420056305)\n",
      "0.8194027672708034\n",
      "feature_politeness_==HASPOSITIVE==\n",
      "Ttest_indResult(statistic=3.086263283994011, pvalue=0.0021374904860140373)\n",
      "0.876601300899889\n",
      "feature_politeness_==Direct_question==\n",
      "Ttest_indResult(statistic=1.283687864637568, pvalue=0.20045901594645588)\n",
      "0.5116263431526961\n",
      "feature_politeness_==Factuality==\n",
      "Ttest_indResult(statistic=2.191478158625658, pvalue=0.033518621452833186)\n",
      "2.081382242962718\n",
      "feature_politeness_==SUBJUNCTIVE==\n",
      "Ttest_indResult(statistic=5.014347806120296, pvalue=1.303276349218317e-06)\n",
      "2.4664096464826306\n",
      "feature_politeness_==HASNEGATIVE==\n",
      "Ttest_indResult(statistic=3.0162522921268438, pvalue=0.0027304133210836606)\n",
      "1.0685205834452063\n",
      "feature_politeness_==1st_person==\n",
      "Ttest_indResult(statistic=3.1550730557465334, pvalue=0.0017162019489397353)\n",
      "0.9232561492933593\n",
      "feature_politeness_==Hedges==\n",
      "Ttest_indResult(statistic=1.1460968851679547, pvalue=0.2531964558566462)\n",
      "0.5010044557663302\n",
      "feature_politeness_==Deference==\n",
      "Ttest_indResult(statistic=-0.8994778200196156, pvalue=0.3817363721135466)\n",
      "-1.0705908098154593\n",
      "feature_politeness_==1st_person_pl.==\n",
      "Ttest_indResult(statistic=0.3621535216623026, pvalue=0.7181055474843834)\n",
      "0.28194886479112835\n",
      "feature_politeness_==1st_person_start==\n",
      "Ttest_indResult(statistic=3.619283982231555, pvalue=0.00033770997548749303)\n",
      "1.0976497418972668\n",
      "feature_politeness_==Gratitude==\n",
      "Ttest_indResult(statistic=1.123977386679805, pvalue=0.2654994858002409)\n",
      "0.668202756874023\n",
      "feature_politeness_==Direct_start==\n",
      "Ttest_indResult(statistic=1.414161093228222, pvalue=0.15944352508152426)\n",
      "0.8224367357387736\n",
      "feature_politeness_==Indirect_(greeting)==\n",
      "Ttest_indResult(statistic=0.8484440302741157, pvalue=0.39793813516882603)\n",
      "0.4060263575638756\n",
      "feature_politeness_==Please==\n",
      "Ttest_indResult(statistic=3.354114335141079, pvalue=0.0011577073134843934)\n",
      "2.5634920654144695\n",
      "feature_politeness_==Apologizing==\n",
      "Ttest_indResult(statistic=0.9394824992203271, pvalue=0.35410995921164967)\n",
      "0.9576278494464026\n",
      "feature_politeness_==INDICATIVE==\n",
      "Ttest_indResult(statistic=2.2908682703168695, pvalue=0.023402470248640277)\n",
      "1.0785070639607066\n",
      "feature_politeness_==2nd_person_start==\n",
      "Ttest_indResult(statistic=0.5104055598758728, pvalue=0.6115233399390849)\n",
      "0.4434102895584973\n",
      "feature_politeness_==Please_start==\n",
      "Ttest_indResult(statistic=0.6180871124071112, pvalue=0.5503347660048314)\n",
      "0.9952380309502282\n"
     ]
    }
   ],
   "source": [
    "for strategy, arr in data_np.items():\n",
    "    mean_diff = arr[:,0].mean() - arr[:,1].mean()\n",
    "    print(f\"{strategy}\")\n",
    "    ttest_result = stats.ttest_ind(arr[:, 0], arr[:, 1])\n",
    "    print(ttest_result)    \n",
    "    print(mean_diff)"
   ]
  },
  {
   "cell_type": "markdown",
   "metadata": {},
   "source": [
    "### plot"
   ]
  },
  {
   "cell_type": "code",
   "execution_count": 15,
   "metadata": {},
   "outputs": [
    {
     "data": {
      "text/plain": [
       "Text(0,0.5,'Frequency')"
      ]
     },
     "execution_count": 15,
     "metadata": {},
     "output_type": "execute_result"
    },
    {
     "data": {
      "image/png": "[encoded data removed]",
      "text/plain": [
       "<Figure size 432x288 with 1 Axes>"
      ]
     },
     "metadata": {},
     "output_type": "display_data"
    }
   ],
   "source": [
    "target = \"feature_politeness_==Please_start==\"\n",
    "arr = data_np[target]\n",
    "\n",
    "plt.hist(arr[:, 0], histtype='step', rwidth=0.01, label=\"CH\")\n",
    "plt.hist(arr[:, 1], histtype='step', rwidth=0.01, label=\"EN\")\n",
    "plt.legend()\n",
    "plt.title(f\"Distribution of mean ratings in {target}\")\n",
    "plt.xlabel(\"Mean Ratings for each message\")\n",
    "plt.ylabel(\"Frequency\")"
   ]
  },
  {
   "cell_type": "code",
   "execution_count": null,
   "metadata": {},
   "outputs": [],
   "source": []
  },
  {
   "cell_type": "code",
   "execution_count": null,
   "metadata": {},
   "outputs": [],
   "source": []
  },
  {
   "cell_type": "code",
   "execution_count": 19,
   "metadata": {},
   "outputs": [
    {
     "name": "stdout",
     "output_type": "stream",
     "text": [
      "[{'Num': 6,\n",
      "  'Request': 'Good work on the canal junctions! Where appropriate, do you '\n",
      "             'think we should give the nearest pedestrian access point, from '\n",
      "             'the road (as opposed to canal) network?',\n",
      "  'ch_mean': 8.0,\n",
      "  'en_mean': 7.25},\n",
      " {'Num': 78,\n",
      "  'Request': 'What would the recommended sequencing be, then?... Good Article '\n",
      "             'then Feautred Article recommendation?',\n",
      "  'ch_mean': -0.4000000059604645,\n",
      "  'en_mean': -0.1111111119389534},\n",
      " {'Num': 212,\n",
      "  'Request': 'Great job. Will it be done by next week?',\n",
      "  'ch_mean': 3.200000047683716,\n",
      "  'en_mean': 7.44444465637207},\n",
      " {'Num': 265,\n",
      "  'Request': 'Good idea.... Perhaps though you could also make a list of kings '\n",
      "             'on that page??',\n",
      "  'ch_mean': 3.4000000953674316,\n",
      "  'en_mean': 4.75},\n",
      " {'Num': 286,\n",
      "  'Request': 'Nice work so far on your rewrite of \"The One After the '\n",
      "             'Superbowl\". Are you planning on including info about the Diet '\n",
      "             'Coke fiasco?',\n",
      "  'ch_mean': 2.0,\n",
      "  'en_mean': 8.25},\n",
      " {'Num': 1010,\n",
      "  'Request': 'Interesting illustration on the PrIze law page of a Zeppelin '\n",
      "             'taking a Norwegian vessel as a prize in 1917.  I wonder whether '\n",
      "             'you could point me to a source for more information on this '\n",
      "             'incident?',\n",
      "  'ch_mean': 3.625,\n",
      "  'en_mean': 3.7142856121063232},\n",
      " {'Num': 1018,\n",
      "  'Request': 'Good find. Do you have a cite for the second para?',\n",
      "  'ch_mean': 3.142857074737549,\n",
      "  'en_mean': 5.142857074737549},\n",
      " {'Num': 1202,\n",
      "  'Request': \"Excellent, thank you! Can you also delete the 'url' from en and \"\n",
      "             \"move hooks from the 'url' to 'url'?\",\n",
      "  'ch_mean': 6.44444465637207,\n",
      "  'en_mean': 4.857142925262451},\n",
      " {'Num': 1258,\n",
      "  'Request': 'Great Article RaveenS, Do u want me to add this to the template '\n",
      "             '(Sri Lankan Conflict)? I think it should be included in the '\n",
      "             \"''see also'' section what do you suggest?\",\n",
      "  'ch_mean': 5.25,\n",
      "  'en_mean': 3.0}]\n"
     ]
    }
   ],
   "source": [
    "import pprint\n",
    "pprint.pprint(json.loads(t)['feature_politeness_==Deference=='])"
   ]
  },
  {
   "cell_type": "code",
   "execution_count": 2,
   "metadata": {},
   "outputs": [
    {
     "name": "stdout",
     "output_type": "stream",
     "text": [
      "{'score_impolite': 0.632821357716149,\n",
      " 'score_polite': 0.3671786422838511,\n",
      " 'sentences': [{'impolite_index': {1, 4},\n",
      "                'involved_index': {1, 3, 4},\n",
      "                'polite_index': [],\n",
      "                'tokens': ['what', 'are', 'you', 'doing', '?']}],\n",
      " 'strategies': ['feature_politeness_==2nd_person==',\n",
      "                'feature_politeness_==Direct_question==']}\n"
     ]
    }
   ],
   "source": [
    "import pprint\n",
    "from politeness.api_util import get_scores_strategies_token_indices\n",
    "ret = get_scores_strategies_token_indices(\"what are you doing?\")\n",
    "pprint.pprint(ret)"
   ]
  },
  {
   "cell_type": "code",
   "execution_count": null,
   "metadata": {},
   "outputs": [],
   "source": []
  }
 ],
 "metadata": {
  "kernelspec": {
   "display_name": "Python 3",
   "language": "python",
   "name": "python3"
  },
  "language_info": {
   "codemirror_mode": {
    "name": "ipython",
    "version": 3
   },
   "file_extension": ".py",
   "mimetype": "text/x-python",
   "name": "python",
   "nbconvert_exporter": "python",
   "pygments_lexer": "ipython3",
   "version": "3.6.5"
  }
 },
 "nbformat": 4,
 "nbformat_minor": 2
}
