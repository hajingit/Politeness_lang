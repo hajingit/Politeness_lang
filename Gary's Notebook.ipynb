{
 "cells": [
  {
   "cell_type": "code",
   "execution_count": 1,
   "metadata": {
    "collapsed": true
   },
   "outputs": [],
   "source": [
    "import numpy as np\n",
    "import json\n",
    "import pprint\n",
    "import matplotlib.pyplot as plt\n",
    "\n",
    "with open(\"zscore_sort_in_strategies.json\") as fin:\n",
    "    t = fin.read()\n",
    "\n",
    "data = json.loads(t)"
   ]
  },
  {
   "cell_type": "code",
   "execution_count": 2,
   "metadata": {},
   "outputs": [
    {
     "name": "stdout",
     "output_type": "stream",
     "text": [
      "20\n",
      "dict_keys(['2nd person', 'HASHEDGE', 'HASPOSITIVE', 'Direct question', 'Factuality', 'SUBJUNCTIVE', 'HASNEGATIVE', '1st person', 'Hedges', 'Deference', '1st person pl.', '1st person start', 'Gratitude', 'Direct start', 'Indirect (greeting)', 'Please', 'Apologizing', 'INDICATIVE', '2nd person start', 'Please start'])\n"
     ]
    }
   ],
   "source": [
    "print(len(data))\n",
    "print(data.keys())\n",
    "# pprint.pprint(data)"
   ]
  },
  {
   "cell_type": "code",
   "execution_count": 3,
   "metadata": {
    "collapsed": true
   },
   "outputs": [],
   "source": [
    "data_np = {}\n",
    "for strategy, sentences in data.items():\n",
    "    temp_data = np.zeros((len(sentences), 2))\n",
    "    for i, sentence in enumerate(sentences):\n",
    "        temp_data[i][0] = sentence[\"ch_mean\"]\n",
    "        temp_data[i][1] = sentence[\"en_mean\"]\n",
    "    data_np[strategy] = temp_data\n"
   ]
  },
  {
   "cell_type": "code",
   "execution_count": null,
   "metadata": {
    "collapsed": true
   },
   "outputs": [],
   "source": []
  },
  {
   "cell_type": "code",
   "execution_count": 4,
   "metadata": {},
   "outputs": [
    {
     "name": "stdout",
     "output_type": "stream",
     "text": [
      "425\n",
      "200\n",
      "255\n",
      "124\n",
      "24\n",
      "88\n",
      "192\n",
      "218\n",
      "96\n",
      "9\n",
      "45\n",
      "181\n",
      "31\n",
      "74\n",
      "59\n",
      "47\n",
      "18\n",
      "74\n",
      "33\n",
      "6\n"
     ]
    }
   ],
   "source": [
    "len(data_np.keys())\n",
    "for strategy, arr in data_np.items():\n",
    "    print(len(arr))"
   ]
  },
  {
   "cell_type": "code",
   "execution_count": null,
   "metadata": {
    "collapsed": true
   },
   "outputs": [],
   "source": [
    "subplots = []\n",
    "for i in range(0,4):\n",
    "    for j in range(0,5):\n",
    "        subplots.append((i,j))\n",
    "\n",
    "print(len(subplots))\n",
    "print(subplots)\n"
   ]
  },
  {
   "cell_type": "code",
   "execution_count": null,
   "metadata": {
    "collapsed": true
   },
   "outputs": [],
   "source": [
    "i = 0\n",
    "\n",
    "plt.figure(figsize=(25, 20),)\n",
    "# plt.figure().suptitle('Hi')\n",
    "\n",
    "\n",
    "for strategy, arr in data_np.items():\n",
    "    x = arr[:,0]\n",
    "    y = arr[:,1]\n",
    "    plt.subplot2grid((4,5), subplots[i])\n",
    "    i += 1\n",
    "    plt.scatter(x,y, marker=\"+\")\n",
    "    plt.xlabel('ch_mean')\n",
    "    plt.ylabel('en_mean')\n",
    "    plt.title(strategy)\n",
    "\n",
    "    \n",
    "plt.suptitle('20 Strategies - English Mean vs Chinese Mean', y=0.93, fontsize=24)\n",
    "plt.savefig('strategies_4x5')\n",
    "plt.show()"
   ]
  },
  {
   "cell_type": "code",
   "execution_count": null,
   "metadata": {
    "collapsed": true
   },
   "outputs": [],
   "source": []
  },
  {
   "cell_type": "code",
   "execution_count": null,
   "metadata": {
    "collapsed": true
   },
   "outputs": [],
   "source": [
    "# import matplotlib.gridspec as gridspec\n",
    "\n",
    "# fig2 = plt.figure(constrained_layout=True)\n",
    "# spec2 = gridspec.GridSpec(ncols=2, nrows=2, figure=fig2)\n",
    "# f2_ax1 = fig2.add_subplot(spec2[0, 0])\n",
    "# f2_ax2 = fig2.add_subplot(spec2[0, 1])\n",
    "# f2_ax3 = fig2.add_subplot(spec2[1, 0])\n",
    "# f2_ax4 = fig2.add_subplot(spec2[1, 1])"
   ]
  }
 ],
 "metadata": {
  "kernelspec": {
   "display_name": "Python 3",
   "language": "python",
   "name": "python3"
  },
  "language_info": {
   "codemirror_mode": {
    "name": "ipython",
    "version": 3
   },
   "file_extension": ".py",
   "mimetype": "text/x-python",
   "name": "python",
   "nbconvert_exporter": "python",
   "pygments_lexer": "ipython3",
   "version": "3.6.6"
  }
 },
 "nbformat": 4,
 "nbformat_minor": 2
}
