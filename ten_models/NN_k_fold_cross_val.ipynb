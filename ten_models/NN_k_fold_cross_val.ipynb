{
 "cells": [
  {
   "cell_type": "code",
   "execution_count": 1,
   "metadata": {},
   "outputs": [],
   "source": [
    "import math\n",
    "import random\n",
    "import os\n",
    "from pathlib import Path \n",
    "import time\n",
    "from tqdm import tqdm\n",
    "\n",
    "from sklearn.model_selection import train_test_split\n",
    "\n",
    "import data_reader\n",
    "import pickle\n",
    "\n",
    "import torch\n",
    "import torch.nn as nn\n",
    "import torch.nn.functional as F\n",
    "import torch.optim as optim"
   ]
  },
  {
   "cell_type": "markdown",
   "metadata": {},
   "source": [
    "### define model"
   ]
  },
  {
   "cell_type": "code",
   "execution_count": 2,
   "metadata": {},
   "outputs": [],
   "source": [
    "class NNClassifier(nn.Module):\n",
    "    def __init__(self, hidden_num=1, dropout_p=None,\n",
    "                 input_dim=174, hidden_dim=128, class_num=2):\n",
    "        super(NNClassifier, self).__init__()\n",
    "        # loss\n",
    "        self.loss = nn.CrossEntropyLoss()\n",
    "        # hidden-hidden fcs\n",
    "        self.hiddens = [nn.Linear(input_dim, hidden_dim) for _ in range(hidden_num-1)]\n",
    "        # insert input-hidden fc\n",
    "        self.hiddens.insert(0, nn.Linear(input_dim, hidden_dim))\n",
    "        # dropout layers\n",
    "        self.dropout_p = dropout_p\n",
    "        if dropout_p is not None:\n",
    "            self.drops = [nn.Dropout(p=dropout_p) for _ in range(hidden_num)]\n",
    "        # output layer\n",
    "        self.out = nn.Linear(hidden_dim, class_num)\n",
    "        # dropout\n",
    "        \n",
    "        \n",
    "    def forward(self, x):\n",
    "        for i in range(len(self.hiddens)):\n",
    "            x = F.relu(self.hiddens[i](x))\n",
    "            if self.dropout_p is not None:\n",
    "                x = self.drops[i](x)\n",
    "        x = self.out(x)\n",
    "        x = x.squeeze()\n",
    "        val, idx = torch.max(x, dim=1)\n",
    "        return x, idx\n",
    "    \n",
    "    def compute_loss(self, pred_vec, gold_vec):\n",
    "        return self.loss(pred_vec, gold_vec)"
   ]
  },
  {
   "cell_type": "markdown",
   "metadata": {},
   "source": [
    "### wrap-up"
   ]
  },
  {
   "cell_type": "code",
   "execution_count": 3,
   "metadata": {},
   "outputs": [],
   "source": [
    "def train_and_test_once(X_train, X_test, Y_train, Y_test,\n",
    "               hidden_num, dropout_p, lr, epoch_num,\n",
    "               label_index, debug_mode=True):\n",
    "    debug_report_seg = epoch_num // 10\n",
    "    train_size, input_dim = X_train.shape\n",
    "    model = NNClassifier(input_dim=input_dim, dropout_p=dropout_p)\n",
    "    optimizer = optim.SGD(model.parameters(), lr=lr)\n",
    "    #optim.Adam(model.parameters())\n",
    "    optimizer.zero_grad()\n",
    "    model.train()\n",
    "    start_train = time.time()\n",
    "    for epoch in range(epoch_num):\n",
    "        optimizer.zero_grad()\n",
    "        inputs = torch.tensor(X_train).float()\n",
    "        golds  = torch.tensor(Y_train[:,label_index]).long()\n",
    "        \n",
    "        if debug_mode:\n",
    "            print(golds)\n",
    "            debug_mode = False\n",
    "            \n",
    "        pred_vals, pred_labels  = model(inputs)\n",
    "\n",
    "        loss = model.compute_loss(pred_vals, golds)\n",
    "\n",
    "        if debug_mode and epoch % debug_report_seg == 0:\n",
    "            acc = golds.eq(pred_labels).sum().float() / train_size\n",
    "            print(\"epoch {}, loss = {}, acc = {}\".format(epoch, loss, acc))\n",
    "\n",
    "        loss.backward()\n",
    "        optimizer.step()\n",
    "\n",
    "    acc = golds.eq(pred_labels).sum().float() / train_size\n",
    "    if debug_mode:\n",
    "        print(\"training: loss = {}, acc = {}\".format(loss, acc))\n",
    "\n",
    "    model.eval()\n",
    "    test_size, input_dim = X_test.shape\n",
    "    inputs = torch.tensor(X_test).float()\n",
    "    golds  = torch.tensor(Y_test[:,label_index]).long()\n",
    "    pred_vals, pred_labels  = model(inputs)\n",
    "    loss = model.compute_loss(pred_vals, golds)\n",
    "    acc = golds.eq(pred_labels).sum().float() / test_size\n",
    "    if debug_mode:\n",
    "        print(\"test: loss = {}, acc = {}\".format(loss, acc))\n",
    "    \n",
    "    return model, loss, acc\n",
    "    "
   ]
  },
  {
   "cell_type": "code",
   "execution_count": 4,
   "metadata": {},
   "outputs": [],
   "source": [
    "def train_and_test_k_fold_cross_val(feature_path=\"train_features.pkl\", label_path=\"train.csv\", \n",
    "                                    filter_mode=\"\", filter_val=0, k=10, seed=777, \n",
    "                                    hidden_num=1, dropout_p=None, lr=0.1, epoch_num=1000, debug_mode=True):\n",
    "    best_ch_model = None\n",
    "    best_ch_acc = 0\n",
    "    total_ch_acc = 0\n",
    "    best_en_model = None\n",
    "    best_en_acc = 0\n",
    "    total_en_acc = 0\n",
    "    for i, data in enumerate(data_reader.k_fold_cross_val(\n",
    "                                filter_mode=filter_mode, filter_val=filter_val,\n",
    "                                feature_path=feature_path, \n",
    "                                label_path=label_path,\n",
    "                                k=k, seed=seed)):\n",
    "        train, test = data\n",
    "        print(f\"training set size={len(train)}, test set size={len(test)}\")\n",
    "        X_train = train[:, :-2]\n",
    "        Y_train = train[:, -2:]\n",
    "        X_test = test[:, :-2]\n",
    "        Y_test = test[:, -2:]\n",
    "        Y_train = (Y_train >= 0).astype(int)\n",
    "        Y_test = (Y_test >= 0).astype(int)\n",
    "        # ch\n",
    "        model , loss, acc = train_and_test_once(X_train, X_test, Y_train, Y_test, \n",
    "                                                hidden_num, dropout_p, lr, epoch_num,\n",
    "                                                label_index=0, debug_mode=debug_mode)\n",
    "        total_ch_acc += acc\n",
    "        if acc > best_ch_acc:\n",
    "            best_ch_acc = acc\n",
    "            best_ch_model = model\n",
    "        ch_acc = acc\n",
    "        \n",
    "        # en\n",
    "        model , loss, acc = train_and_test_once(X_train, X_test, Y_train, Y_test, \n",
    "                                                hidden_num, dropout_p, lr, epoch_num,\n",
    "                                                label_index=1, debug_mode=debug_mode)\n",
    "        total_en_acc += acc\n",
    "        if acc > best_en_acc:\n",
    "            best_en_acc = acc\n",
    "            best_en_model = model\n",
    "        en_acc = acc\n",
    "        \n",
    "        print(f\"{i}-th fold: ch acc = {ch_acc}, en acc = {en_acc}\")\n",
    "    \n",
    "    print(f\"average ch acc = {total_ch_acc / k}, average en acc = {total_en_acc / k}\")\n",
    "    \n",
    "    return best_ch_model, best_en_model"
   ]
  },
  {
   "cell_type": "markdown",
   "metadata": {},
   "source": [
    "---"
   ]
  },
  {
   "cell_type": "markdown",
   "metadata": {},
   "source": [
    "## data no filtered"
   ]
  },
  {
   "cell_type": "markdown",
   "metadata": {},
   "source": [
    "### 1 layer, no dropout"
   ]
  },
  {
   "cell_type": "code",
   "execution_count": 5,
   "metadata": {},
   "outputs": [
    {
     "name": "stdout",
     "output_type": "stream",
     "text": [
      "training set size=540, test set size=60\n",
      "0-th fold: ch acc = 0.699999988079071, en acc = 0.7166666388511658\n",
      "training set size=540, test set size=60\n",
      "1-th fold: ch acc = 0.6833333373069763, en acc = 0.5166666507720947\n",
      "training set size=540, test set size=60\n",
      "2-th fold: ch acc = 0.5333333611488342, en acc = 0.6166666746139526\n",
      "training set size=540, test set size=60\n",
      "3-th fold: ch acc = 0.6666666865348816, en acc = 0.6166666746139526\n",
      "training set size=540, test set size=60\n",
      "4-th fold: ch acc = 0.5166666507720947, en acc = 0.6000000238418579\n",
      "training set size=540, test set size=60\n",
      "5-th fold: ch acc = 0.5833333134651184, en acc = 0.6333333253860474\n",
      "training set size=540, test set size=60\n",
      "6-th fold: ch acc = 0.6666666865348816, en acc = 0.6333333253860474\n",
      "training set size=540, test set size=60\n",
      "7-th fold: ch acc = 0.5666666626930237, en acc = 0.6666666865348816\n",
      "training set size=540, test set size=60\n",
      "8-th fold: ch acc = 0.5166666507720947, en acc = 0.6333333253860474\n",
      "training set size=540, test set size=60\n",
      "9-th fold: ch acc = 0.6166666746139526, en acc = 0.6000000238418579\n",
      "average ch acc = 0.6050000190734863, average en acc = 0.6233332753181458\n"
     ]
    }
   ],
   "source": [
    "model_ch, model_en = train_and_test_k_fold_cross_val(hidden_num=1, dropout_p=None, lr=0.5, epoch_num=1000, debug_mode=False)"
   ]
  },
  {
   "cell_type": "markdown",
   "metadata": {},
   "source": [
    "### 3 layer, no dropout"
   ]
  },
  {
   "cell_type": "code",
   "execution_count": 6,
   "metadata": {},
   "outputs": [
    {
     "name": "stdout",
     "output_type": "stream",
     "text": [
      "training set size=540, test set size=60\n",
      "0-th fold: ch acc = 0.6166666746139526, en acc = 0.6833333373069763\n",
      "training set size=540, test set size=60\n",
      "1-th fold: ch acc = 0.6833333373069763, en acc = 0.4333333373069763\n",
      "training set size=540, test set size=60\n",
      "2-th fold: ch acc = 0.6333333253860474, en acc = 0.4833333194255829\n",
      "training set size=540, test set size=60\n",
      "3-th fold: ch acc = 0.6000000238418579, en acc = 0.6000000238418579\n",
      "training set size=540, test set size=60\n",
      "4-th fold: ch acc = 0.5, en acc = 0.550000011920929\n",
      "training set size=540, test set size=60\n",
      "5-th fold: ch acc = 0.6000000238418579, en acc = 0.6833333373069763\n",
      "training set size=540, test set size=60\n",
      "6-th fold: ch acc = 0.6499999761581421, en acc = 0.6833333373069763\n",
      "training set size=540, test set size=60\n",
      "7-th fold: ch acc = 0.6166666746139526, en acc = 0.6000000238418579\n",
      "training set size=540, test set size=60\n",
      "8-th fold: ch acc = 0.5666666626930237, en acc = 0.5666666626930237\n",
      "training set size=540, test set size=60\n",
      "9-th fold: ch acc = 0.6833333373069763, en acc = 0.5166666507720947\n",
      "average ch acc = 0.6150000095367432, average en acc = 0.5800000429153442\n"
     ]
    }
   ],
   "source": [
    "model_ch, model_en = train_and_test_k_fold_cross_val(hidden_num=3, dropout_p=None, lr=0.5, epoch_num=1000, debug_mode=False)"
   ]
  },
  {
   "cell_type": "markdown",
   "metadata": {},
   "source": [
    "### 1 layer, dropout = 0.1"
   ]
  },
  {
   "cell_type": "code",
   "execution_count": 7,
   "metadata": {},
   "outputs": [
    {
     "name": "stdout",
     "output_type": "stream",
     "text": [
      "training set size=540, test set size=60\n",
      "0-th fold: ch acc = 0.550000011920929, en acc = 0.5166666507720947\n",
      "training set size=540, test set size=60\n",
      "1-th fold: ch acc = 0.6000000238418579, en acc = 0.5833333134651184\n",
      "training set size=540, test set size=60\n",
      "2-th fold: ch acc = 0.5666666626930237, en acc = 0.6499999761581421\n",
      "training set size=540, test set size=60\n",
      "3-th fold: ch acc = 0.5666666626930237, en acc = 0.6666666865348816\n",
      "training set size=540, test set size=60\n",
      "4-th fold: ch acc = 0.550000011920929, en acc = 0.6833333373069763\n",
      "training set size=540, test set size=60\n",
      "5-th fold: ch acc = 0.5166666507720947, en acc = 0.5333333611488342\n",
      "training set size=540, test set size=60\n",
      "6-th fold: ch acc = 0.75, en acc = 0.6666666865348816\n",
      "training set size=540, test set size=60\n",
      "7-th fold: ch acc = 0.550000011920929, en acc = 0.6333333253860474\n",
      "training set size=540, test set size=60\n",
      "8-th fold: ch acc = 0.550000011920929, en acc = 0.6666666865348816\n",
      "training set size=540, test set size=60\n",
      "9-th fold: ch acc = 0.7166666388511658, en acc = 0.6666666865348816\n",
      "average ch acc = 0.5916666984558105, average en acc = 0.6266666054725647\n"
     ]
    }
   ],
   "source": [
    "model_ch, model_en = train_and_test_k_fold_cross_val(hidden_num=1, dropout_p=0.1, lr=0.5, epoch_num=1000, debug_mode=False)"
   ]
  },
  {
   "cell_type": "markdown",
   "metadata": {},
   "source": [
    "### 3 layer, dropout = 0.1"
   ]
  },
  {
   "cell_type": "code",
   "execution_count": 8,
   "metadata": {},
   "outputs": [
    {
     "name": "stdout",
     "output_type": "stream",
     "text": [
      "training set size=540, test set size=60\n",
      "0-th fold: ch acc = 0.6166666746139526, en acc = 0.6499999761581421\n",
      "training set size=540, test set size=60\n",
      "1-th fold: ch acc = 0.5833333134651184, en acc = 0.6000000238418579\n",
      "training set size=540, test set size=60\n",
      "2-th fold: ch acc = 0.6666666865348816, en acc = 0.6833333373069763\n",
      "training set size=540, test set size=60\n",
      "3-th fold: ch acc = 0.6166666746139526, en acc = 0.6166666746139526\n",
      "training set size=540, test set size=60\n",
      "4-th fold: ch acc = 0.6333333253860474, en acc = 0.7166666388511658\n",
      "training set size=540, test set size=60\n",
      "5-th fold: ch acc = 0.5333333611488342, en acc = 0.5333333611488342\n",
      "training set size=540, test set size=60\n",
      "6-th fold: ch acc = 0.6333333253860474, en acc = 0.800000011920929\n",
      "training set size=540, test set size=60\n",
      "7-th fold: ch acc = 0.6499999761581421, en acc = 0.6166666746139526\n",
      "training set size=540, test set size=60\n",
      "8-th fold: ch acc = 0.6333333253860474, en acc = 0.5666666626930237\n",
      "training set size=540, test set size=60\n",
      "9-th fold: ch acc = 0.6833333373069763, en acc = 0.5\n",
      "average ch acc = 0.625, average en acc = 0.6283333897590637\n"
     ]
    }
   ],
   "source": [
    "model_ch, model_en = train_and_test_k_fold_cross_val(hidden_num=3, dropout_p=0.1, lr=0.5, epoch_num=1000, debug_mode=False)"
   ]
  },
  {
   "cell_type": "markdown",
   "metadata": {},
   "source": [
    "### 10 layer, dropout = 0.1"
   ]
  },
  {
   "cell_type": "code",
   "execution_count": 9,
   "metadata": {},
   "outputs": [
    {
     "name": "stdout",
     "output_type": "stream",
     "text": [
      "training set size=540, test set size=60\n",
      "0-th fold: ch acc = 0.6833333373069763, en acc = 0.6166666746139526\n",
      "training set size=540, test set size=60\n",
      "1-th fold: ch acc = 0.6000000238418579, en acc = 0.6333333253860474\n",
      "training set size=540, test set size=60\n",
      "2-th fold: ch acc = 0.550000011920929, en acc = 0.5833333134651184\n",
      "training set size=540, test set size=60\n",
      "3-th fold: ch acc = 0.6333333253860474, en acc = 0.6166666746139526\n",
      "training set size=540, test set size=60\n",
      "4-th fold: ch acc = 0.5666666626930237, en acc = 0.5666666626930237\n",
      "training set size=540, test set size=60\n",
      "5-th fold: ch acc = 0.6166666746139526, en acc = 0.6833333373069763\n",
      "training set size=540, test set size=60\n",
      "6-th fold: ch acc = 0.7166666388511658, en acc = 0.6000000238418579\n",
      "training set size=540, test set size=60\n",
      "7-th fold: ch acc = 0.5, en acc = 0.5833333134651184\n",
      "training set size=540, test set size=60\n",
      "8-th fold: ch acc = 0.550000011920929, en acc = 0.6333333253860474\n",
      "training set size=540, test set size=60\n",
      "9-th fold: ch acc = 0.6000000238418579, en acc = 0.5666666626930237\n",
      "average ch acc = 0.6016666889190674, average en acc = 0.6083332896232605\n"
     ]
    }
   ],
   "source": [
    "model_ch, model_en = train_and_test_k_fold_cross_val(hidden_num=10, dropout_p=0.1, lr=0.5, epoch_num=1000, debug_mode=False)"
   ]
  },
  {
   "cell_type": "markdown",
   "metadata": {},
   "source": [
    "### check \"very different\""
   ]
  },
  {
   "cell_type": "code",
   "execution_count": 10,
   "metadata": {},
   "outputs": [],
   "source": [
    "def get_diff_id_pred(model_ch, model_en, X, mode=\"\", sd=0):\n",
    "    assert mode in {\"\", \"1sd\", \"2sd\"}, \"invalid mode in get_diff_id_pred\"\n",
    "    \n",
    "    def get_pred(model, X_test):\n",
    "        model.eval()\n",
    "        test_size, input_dim = X_test.shape\n",
    "        inputs = torch.tensor(X_test).float()\n",
    "        pred_vals, pred_labels  = model(inputs)\n",
    "        return pred_vals.detach().numpy()[:, 1].tolist(), pred_labels.detach().numpy().tolist()\n",
    "    arr = data_reader.read()\n",
    "    \n",
    "    pred_value_ch, pred_label_ch = get_pred(model_ch, X)\n",
    "    pred_value_en, pred_label_en = get_pred(model_en, X)\n",
    "    \n",
    "    #print(pred_value_ch[0])\n",
    "    \n",
    "    if mode == \"\":\n",
    "        diff_id_pred = set([i for i in range(len(pred_label_ch)) if pred_label_ch[i] != pred_label_en[i]])\n",
    "    elif mode == \"1sd\":\n",
    "        diff_id_pred = set([i for i in range(len(pred_value_ch)) if abs(pred_value_ch[i]-pred_value_en[i]) > sd])\n",
    "    elif mode == \"2sd\":\n",
    "        diff_id_pred = set([i for i in range(len(pred_value_ch)) if abs(pred_value_ch[i]-pred_value_en[i]) > sd * 2])\n",
    "    \n",
    "    return diff_id_pred"
   ]
  },
  {
   "cell_type": "markdown",
   "metadata": {},
   "source": [
    "### get {id : (ch_label, en_label)}"
   ]
  },
  {
   "cell_type": "code",
   "execution_count": 11,
   "metadata": {},
   "outputs": [
    {
     "name": "stdout",
     "output_type": "stream",
     "text": [
      "training set size=540, test set size=60\n",
      "0-th fold: ch acc = 0.6000000238418579, en acc = 0.6000000238418579\n",
      "training set size=540, test set size=60\n",
      "1-th fold: ch acc = 0.5833333134651184, en acc = 0.5666666626930237\n",
      "training set size=540, test set size=60\n",
      "2-th fold: ch acc = 0.6000000238418579, en acc = 0.5666666626930237\n",
      "training set size=540, test set size=60\n",
      "3-th fold: ch acc = 0.6499999761581421, en acc = 0.699999988079071\n",
      "training set size=540, test set size=60\n",
      "4-th fold: ch acc = 0.6499999761581421, en acc = 0.5833333134651184\n",
      "training set size=540, test set size=60\n",
      "5-th fold: ch acc = 0.5666666626930237, en acc = 0.6333333253860474\n",
      "training set size=540, test set size=60\n",
      "6-th fold: ch acc = 0.6666666865348816, en acc = 0.6833333373069763\n",
      "training set size=540, test set size=60\n",
      "7-th fold: ch acc = 0.5666666626930237, en acc = 0.6333333253860474\n",
      "training set size=540, test set size=60\n",
      "8-th fold: ch acc = 0.6499999761581421, en acc = 0.6333333253860474\n",
      "training set size=540, test set size=60\n",
      "9-th fold: ch acc = 0.6166666746139526, en acc = 0.6166666746139526\n",
      "average ch acc = 0.6150000095367432, average en acc = 0.621666669845581\n"
     ]
    }
   ],
   "source": [
    "# using 1 layer, dropout = None\n",
    "\n",
    "model_ch, model_en = train_and_test_k_fold_cross_val(hidden_num=1, dropout_p=None, lr=0.5, epoch_num=1000, debug_mode=False)"
   ]
  },
  {
   "cell_type": "markdown",
   "metadata": {},
   "source": [
    "### compare to \"label_d_z\""
   ]
  },
  {
   "cell_type": "code",
   "execution_count": 12,
   "metadata": {},
   "outputs": [],
   "source": [
    "def compare_wrap(model_ch, model_en):\n",
    "    arr = data_reader.read()\n",
    "    X = arr[:, :-2]\n",
    "    Y = arr[:, -2:]\n",
    "    sd = Y.std()\n",
    "    \n",
    "    import pandas as pd\n",
    "    df = pd.read_csv(\"../pol600withLabel.csv\", encoding=\"utf-8\", index_col=2)\n",
    "    label_d_z = df[\"label_d_z\"]\n",
    "    diff_id_label = set([i for i in range(len(label_d_z)) if label_d_z.get(i) == 1])\n",
    "    \n",
    "    def calc_prf(very_diff_id_label, very_diff_id_pred):\n",
    "        p = len(very_diff_id_pred - very_diff_id_label) / len(very_diff_id_pred)\n",
    "        r = len(very_diff_id_label - very_diff_id_pred) / len(very_diff_id_label)\n",
    "        f = 2*p*r / (p+r)\n",
    "        return p, r, f\n",
    "    \n",
    "    return {\n",
    "        \"separate at 0\": calc_prf(diff_id_label, get_diff_id_pred(model_ch, model_en, X)),\n",
    "        \"distance of 1 sd\": calc_prf(diff_id_label, get_diff_id_pred(model_ch, model_en, X, mode=\"1sd\", sd=sd)),\n",
    "        \"distance of 2 sd\": calc_prf(diff_id_label, get_diff_id_pred(model_ch, model_en, X, mode=\"2sd\", sd=sd)),\n",
    "    }"
   ]
  },
  {
   "cell_type": "code",
   "execution_count": 13,
   "metadata": {},
   "outputs": [
    {
     "name": "stdout",
     "output_type": "stream",
     "text": [
      "separate at 0       : p=0.85366, r=0.65909, f=0.74386\n",
      "distance of 1 sd    : p=0.83660, r=0.71591, f=0.77156\n",
      "distance of 2 sd    : p=0.66667, r=0.94318, f=0.78118\n"
     ]
    }
   ],
   "source": [
    "for k, v in compare_wrap(model_ch, model_en).items():\n",
    "    print(\"{:<20s}: p={:.5f}, r={:.5f}, f={:.5f}\".format(k, v[0], v[1], v[2]))"
   ]
  },
  {
   "cell_type": "markdown",
   "metadata": {},
   "source": [
    "---"
   ]
  },
  {
   "cell_type": "markdown",
   "metadata": {},
   "source": [
    "## data filtered on value 0.3"
   ]
  },
  {
   "cell_type": "markdown",
   "metadata": {},
   "source": [
    "### 1 layer, no dropout"
   ]
  },
  {
   "cell_type": "code",
   "execution_count": 14,
   "metadata": {},
   "outputs": [
    {
     "name": "stdout",
     "output_type": "stream",
     "text": [
      "filtering data by absolute value\n",
      "training set size=211, test set size=24\n",
      "0-th fold: ch acc = 0.7916666865348816, en acc = 0.5416666865348816\n",
      "training set size=211, test set size=24\n",
      "1-th fold: ch acc = 0.6666666865348816, en acc = 0.625\n",
      "training set size=211, test set size=24\n",
      "2-th fold: ch acc = 0.4166666567325592, en acc = 0.5833333134651184\n",
      "training set size=211, test set size=24\n",
      "3-th fold: ch acc = 0.7916666865348816, en acc = 0.5\n",
      "training set size=211, test set size=24\n",
      "4-th fold: ch acc = 0.5833333134651184, en acc = 0.625\n",
      "training set size=212, test set size=23\n",
      "5-th fold: ch acc = 0.6086956262588501, en acc = 0.52173912525177\n",
      "training set size=212, test set size=23\n",
      "6-th fold: ch acc = 0.739130437374115, en acc = 0.6086956262588501\n",
      "training set size=212, test set size=23\n",
      "7-th fold: ch acc = 0.695652186870575, en acc = 0.47826087474823\n",
      "training set size=212, test set size=23\n",
      "8-th fold: ch acc = 0.739130437374115, en acc = 0.6521739363670349\n",
      "training set size=212, test set size=23\n",
      "9-th fold: ch acc = 0.6086956262588501, en acc = 0.6521739363670349\n",
      "average ch acc = 0.6641303896903992, average en acc = 0.5788043737411499\n"
     ]
    }
   ],
   "source": [
    "model_ch, model_en = train_and_test_k_fold_cross_val(filter_mode=\"value\", filter_val=0.3, \n",
    "                                                     hidden_num=1, dropout_p=None, lr=0.5, epoch_num=1000, debug_mode=False)"
   ]
  },
  {
   "cell_type": "markdown",
   "metadata": {},
   "source": [
    "### 3 layer, no dropout"
   ]
  },
  {
   "cell_type": "code",
   "execution_count": 15,
   "metadata": {},
   "outputs": [
    {
     "name": "stdout",
     "output_type": "stream",
     "text": [
      "filtering data by absolute value\n",
      "training set size=211, test set size=24\n",
      "0-th fold: ch acc = 0.625, en acc = 0.625\n",
      "training set size=211, test set size=24\n",
      "1-th fold: ch acc = 0.7083333134651184, en acc = 0.625\n",
      "training set size=211, test set size=24\n",
      "2-th fold: ch acc = 0.625, en acc = 0.5833333134651184\n",
      "training set size=211, test set size=24\n",
      "3-th fold: ch acc = 0.5416666865348816, en acc = 0.6666666865348816\n",
      "training set size=211, test set size=24\n",
      "4-th fold: ch acc = 0.6666666865348816, en acc = 0.5416666865348816\n",
      "training set size=212, test set size=23\n",
      "5-th fold: ch acc = 0.739130437374115, en acc = 0.6086956262588501\n",
      "training set size=212, test set size=23\n",
      "6-th fold: ch acc = 0.6521739363670349, en acc = 0.6521739363670349\n",
      "training set size=212, test set size=23\n",
      "7-th fold: ch acc = 0.695652186870575, en acc = 0.695652186870575\n",
      "training set size=212, test set size=23\n",
      "8-th fold: ch acc = 0.782608687877655, en acc = 0.8695651888847351\n",
      "training set size=212, test set size=23\n",
      "9-th fold: ch acc = 0.782608687877655, en acc = 0.695652186870575\n",
      "average ch acc = 0.6818839907646179, average en acc = 0.6563405394554138\n"
     ]
    }
   ],
   "source": [
    "model_ch, model_en = train_and_test_k_fold_cross_val(filter_mode=\"value\", filter_val=0.3, \n",
    "                                                     hidden_num=3, dropout_p=None, lr=0.5, epoch_num=1000, debug_mode=False)"
   ]
  },
  {
   "cell_type": "markdown",
   "metadata": {},
   "source": [
    "### 1 layer, dropout = 0.1"
   ]
  },
  {
   "cell_type": "code",
   "execution_count": 16,
   "metadata": {},
   "outputs": [
    {
     "name": "stdout",
     "output_type": "stream",
     "text": [
      "filtering data by absolute value\n",
      "training set size=211, test set size=24\n",
      "0-th fold: ch acc = 0.625, en acc = 0.5833333134651184\n",
      "training set size=211, test set size=24\n",
      "1-th fold: ch acc = 0.6666666865348816, en acc = 0.3333333432674408\n",
      "training set size=211, test set size=24\n",
      "2-th fold: ch acc = 0.75, en acc = 0.625\n",
      "training set size=211, test set size=24\n",
      "3-th fold: ch acc = 0.875, en acc = 0.75\n",
      "training set size=211, test set size=24\n",
      "4-th fold: ch acc = 0.625, en acc = 0.7083333134651184\n",
      "training set size=212, test set size=23\n",
      "5-th fold: ch acc = 0.739130437374115, en acc = 0.5652173757553101\n",
      "training set size=212, test set size=23\n",
      "6-th fold: ch acc = 0.6521739363670349, en acc = 0.5652173757553101\n",
      "training set size=212, test set size=23\n",
      "7-th fold: ch acc = 0.739130437374115, en acc = 0.782608687877655\n",
      "training set size=212, test set size=23\n",
      "8-th fold: ch acc = 0.695652186870575, en acc = 0.739130437374115\n",
      "training set size=212, test set size=23\n",
      "9-th fold: ch acc = 0.695652186870575, en acc = 0.695652186870575\n",
      "average ch acc = 0.7063405513763428, average en acc = 0.6347825527191162\n"
     ]
    }
   ],
   "source": [
    "model_ch, model_en = train_and_test_k_fold_cross_val(filter_mode=\"value\", filter_val=0.3, \n",
    "                                                     hidden_num=1, dropout_p=0.1, lr=0.5, epoch_num=1000, debug_mode=False)"
   ]
  },
  {
   "cell_type": "markdown",
   "metadata": {},
   "source": [
    "### 3 layer, dropout = 0.1"
   ]
  },
  {
   "cell_type": "code",
   "execution_count": 17,
   "metadata": {},
   "outputs": [
    {
     "name": "stdout",
     "output_type": "stream",
     "text": [
      "filtering data by absolute value\n",
      "training set size=211, test set size=24\n",
      "0-th fold: ch acc = 0.6666666865348816, en acc = 0.625\n",
      "training set size=211, test set size=24\n",
      "1-th fold: ch acc = 0.75, en acc = 0.5\n",
      "training set size=211, test set size=24\n",
      "2-th fold: ch acc = 0.7083333134651184, en acc = 0.7083333134651184\n",
      "training set size=211, test set size=24\n",
      "3-th fold: ch acc = 0.75, en acc = 0.75\n",
      "training set size=211, test set size=24\n",
      "4-th fold: ch acc = 0.75, en acc = 0.625\n",
      "training set size=212, test set size=23\n",
      "5-th fold: ch acc = 0.695652186870575, en acc = 0.6086956262588501\n",
      "training set size=212, test set size=23\n",
      "6-th fold: ch acc = 0.6521739363670349, en acc = 0.5652173757553101\n",
      "training set size=212, test set size=23\n",
      "7-th fold: ch acc = 0.739130437374115, en acc = 0.6521739363670349\n",
      "training set size=212, test set size=23\n",
      "8-th fold: ch acc = 0.739130437374115, en acc = 0.739130437374115\n",
      "training set size=212, test set size=23\n",
      "9-th fold: ch acc = 0.5652173757553101, en acc = 0.739130437374115\n",
      "average ch acc = 0.7016304731369019, average en acc = 0.6512681245803833\n"
     ]
    }
   ],
   "source": [
    "model_ch, model_en = train_and_test_k_fold_cross_val(filter_mode=\"value\", filter_val=0.3, \n",
    "                                                     hidden_num=3, dropout_p=0.1, lr=0.5, epoch_num=1000, debug_mode=False)"
   ]
  },
  {
   "cell_type": "markdown",
   "metadata": {},
   "source": [
    "### 10 layer, dropout = 0.1"
   ]
  },
  {
   "cell_type": "code",
   "execution_count": 18,
   "metadata": {},
   "outputs": [
    {
     "name": "stdout",
     "output_type": "stream",
     "text": [
      "filtering data by absolute value\n",
      "training set size=211, test set size=24\n",
      "0-th fold: ch acc = 0.6666666865348816, en acc = 0.5416666865348816\n",
      "training set size=211, test set size=24\n",
      "1-th fold: ch acc = 0.6666666865348816, en acc = 0.5416666865348816\n",
      "training set size=211, test set size=24\n",
      "2-th fold: ch acc = 0.625, en acc = 0.625\n",
      "training set size=211, test set size=24\n",
      "3-th fold: ch acc = 0.75, en acc = 0.7083333134651184\n",
      "training set size=211, test set size=24\n",
      "4-th fold: ch acc = 0.75, en acc = 0.5833333134651184\n",
      "training set size=212, test set size=23\n",
      "5-th fold: ch acc = 0.47826087474823, en acc = 0.6086956262588501\n",
      "training set size=212, test set size=23\n",
      "6-th fold: ch acc = 0.6086956262588501, en acc = 0.6086956262588501\n",
      "training set size=212, test set size=23\n",
      "7-th fold: ch acc = 0.8260869383811951, en acc = 0.6521739363670349\n",
      "training set size=212, test set size=23\n",
      "8-th fold: ch acc = 0.6521739363670349, en acc = 0.6521739363670349\n",
      "training set size=212, test set size=23\n",
      "9-th fold: ch acc = 0.5652173757553101, en acc = 0.739130437374115\n",
      "average ch acc = 0.6588768362998962, average en acc = 0.626086950302124\n"
     ]
    }
   ],
   "source": [
    "model_ch, model_en = train_and_test_k_fold_cross_val(filter_mode=\"value\", filter_val=0.3, \n",
    "                                                     hidden_num=10, dropout_p=0.1, lr=0.5, epoch_num=1000, debug_mode=False)"
   ]
  },
  {
   "cell_type": "markdown",
   "metadata": {},
   "source": [
    "### get {id : (ch_label, en_label)}"
   ]
  },
  {
   "cell_type": "code",
   "execution_count": 30,
   "metadata": {},
   "outputs": [
    {
     "name": "stdout",
     "output_type": "stream",
     "text": [
      "training set size=540, test set size=60\n",
      "0-th fold: ch acc = 0.6333333253860474, en acc = 0.6499999761581421\n",
      "training set size=540, test set size=60\n",
      "1-th fold: ch acc = 0.6000000238418579, en acc = 0.6499999761581421\n",
      "training set size=540, test set size=60\n",
      "2-th fold: ch acc = 0.6000000238418579, en acc = 0.5\n",
      "training set size=540, test set size=60\n",
      "3-th fold: ch acc = 0.6166666746139526, en acc = 0.6499999761581421\n",
      "training set size=540, test set size=60\n",
      "4-th fold: ch acc = 0.5833333134651184, en acc = 0.4833333194255829\n",
      "training set size=540, test set size=60\n",
      "5-th fold: ch acc = 0.5166666507720947, en acc = 0.6000000238418579\n",
      "training set size=540, test set size=60\n",
      "6-th fold: ch acc = 0.6166666746139526, en acc = 0.6666666865348816\n",
      "training set size=540, test set size=60\n",
      "7-th fold: ch acc = 0.699999988079071, en acc = 0.5333333611488342\n",
      "training set size=540, test set size=60\n",
      "8-th fold: ch acc = 0.6166666746139526, en acc = 0.6833333373069763\n",
      "training set size=540, test set size=60\n",
      "9-th fold: ch acc = 0.6833333373069763, en acc = 0.6666666865348816\n",
      "average ch acc = 0.6166666746139526, average en acc = 0.6083332896232605\n"
     ]
    }
   ],
   "source": [
    "# using 1 layer, dropout = None\n",
    "\n",
    "model_ch, model_en = train_and_test_k_fold_cross_val(hidden_num=3, dropout_p=None, lr=0.5, epoch_num=1000, debug_mode=False)"
   ]
  },
  {
   "cell_type": "markdown",
   "metadata": {},
   "source": [
    "### compare to \"label_d_z\""
   ]
  },
  {
   "cell_type": "code",
   "execution_count": 31,
   "metadata": {},
   "outputs": [],
   "source": [
    "def compare_wrap(model_ch, model_en):\n",
    "    arr = data_reader.read()\n",
    "    X = arr[:, :-2]\n",
    "    Y = arr[:, -2:]\n",
    "    sd = Y.std()\n",
    "    \n",
    "    import pandas as pd\n",
    "    df = pd.read_csv(\"../pol600withLabel.csv\", encoding=\"utf-8\", index_col=2)\n",
    "    label_d_z = df[\"label_d_z\"]\n",
    "    diff_id_label = set([i for i in range(len(label_d_z)) if label_d_z.get(i) == 1])\n",
    "    \n",
    "    def calc_prf(very_diff_id_label, very_diff_id_pred):\n",
    "        p = len(very_diff_id_pred - very_diff_id_label) / len(very_diff_id_pred)\n",
    "        r = len(very_diff_id_label - very_diff_id_pred) / len(very_diff_id_label)\n",
    "        f = 2*p*r / (p+r)\n",
    "        return p, r, f\n",
    "    \n",
    "    return {\n",
    "        \"separate at 0\": calc_prf(diff_id_label, get_diff_id_pred(model_ch, model_en, X)),\n",
    "        \"distance of 1 sd\": calc_prf(diff_id_label, get_diff_id_pred(model_ch, model_en, X, mode=\"1sd\", sd=sd)),\n",
    "        \"distance of 2 sd\": calc_prf(diff_id_label, get_diff_id_pred(model_ch, model_en, X, mode=\"2sd\", sd=sd)),\n",
    "    }"
   ]
  },
  {
   "cell_type": "code",
   "execution_count": 32,
   "metadata": {},
   "outputs": [
    {
     "name": "stdout",
     "output_type": "stream",
     "text": [
      "separate at 0       : p=0.84314, r=0.63636, f=0.72530\n",
      "distance of 1 sd    : p=0.87591, r=0.80682, f=0.83995\n",
      "distance of 2 sd    : p=0.80000, r=0.95455, f=0.87047\n"
     ]
    }
   ],
   "source": [
    "for k, v in compare_wrap(model_ch, model_en).items():\n",
    "    print(\"{:<20s}: p={:.5f}, r={:.5f}, f={:.5f}\".format(k, v[0], v[1], v[2]))"
   ]
  },
  {
   "cell_type": "markdown",
   "metadata": {},
   "source": [
    "---"
   ]
  },
  {
   "cell_type": "markdown",
   "metadata": {},
   "source": [
    "## data filtered on percentile 30"
   ]
  },
  {
   "cell_type": "markdown",
   "metadata": {},
   "source": [
    "### 1 layer, no dropout"
   ]
  },
  {
   "cell_type": "code",
   "execution_count": 22,
   "metadata": {},
   "outputs": [
    {
     "name": "stdout",
     "output_type": "stream",
     "text": [
      "filtering data by percentile\n",
      "training set size=213, test set size=24\n",
      "0-th fold: ch acc = 0.625, en acc = 0.75\n",
      "training set size=213, test set size=24\n",
      "1-th fold: ch acc = 0.75, en acc = 0.5\n",
      "training set size=213, test set size=24\n",
      "2-th fold: ch acc = 0.5, en acc = 0.6666666865348816\n",
      "training set size=213, test set size=24\n",
      "3-th fold: ch acc = 0.7083333134651184, en acc = 0.6666666865348816\n",
      "training set size=213, test set size=24\n",
      "4-th fold: ch acc = 0.6666666865348816, en acc = 0.75\n",
      "training set size=213, test set size=24\n",
      "5-th fold: ch acc = 0.6666666865348816, en acc = 0.6666666865348816\n",
      "training set size=213, test set size=24\n",
      "6-th fold: ch acc = 0.7083333134651184, en acc = 0.7916666865348816\n",
      "training set size=214, test set size=23\n",
      "7-th fold: ch acc = 0.6521739363670349, en acc = 0.782608687877655\n",
      "training set size=214, test set size=23\n",
      "8-th fold: ch acc = 0.695652186870575, en acc = 0.695652186870575\n",
      "training set size=214, test set size=23\n",
      "9-th fold: ch acc = 0.6086956262588501, en acc = 0.5652173757553101\n",
      "average ch acc = 0.658152163028717, average en acc = 0.6835144758224487\n"
     ]
    }
   ],
   "source": [
    "model_ch, model_en = train_and_test_k_fold_cross_val(filter_mode=\"percentile\", filter_val=30, \n",
    "                                                     hidden_num=1, dropout_p=None, lr=0.5, epoch_num=1000, debug_mode=False)"
   ]
  },
  {
   "cell_type": "markdown",
   "metadata": {},
   "source": [
    "### 3 layer, no dropout"
   ]
  },
  {
   "cell_type": "code",
   "execution_count": 23,
   "metadata": {},
   "outputs": [
    {
     "name": "stdout",
     "output_type": "stream",
     "text": [
      "filtering data by percentile\n",
      "training set size=213, test set size=24\n",
      "0-th fold: ch acc = 0.6666666865348816, en acc = 0.6666666865348816\n",
      "training set size=213, test set size=24\n",
      "1-th fold: ch acc = 0.5, en acc = 0.4583333432674408\n",
      "training set size=213, test set size=24\n",
      "2-th fold: ch acc = 0.5833333134651184, en acc = 0.4166666567325592\n",
      "training set size=213, test set size=24\n",
      "3-th fold: ch acc = 0.7083333134651184, en acc = 0.8333333134651184\n",
      "training set size=213, test set size=24\n",
      "4-th fold: ch acc = 0.6666666865348816, en acc = 0.75\n",
      "training set size=213, test set size=24\n",
      "5-th fold: ch acc = 0.7083333134651184, en acc = 0.6666666865348816\n",
      "training set size=213, test set size=24\n",
      "6-th fold: ch acc = 0.7083333134651184, en acc = 0.6666666865348816\n",
      "training set size=214, test set size=23\n",
      "7-th fold: ch acc = 0.695652186870575, en acc = 0.6521739363670349\n",
      "training set size=214, test set size=23\n",
      "8-th fold: ch acc = 0.6086956262588501, en acc = 0.52173912525177\n",
      "training set size=214, test set size=23\n",
      "9-th fold: ch acc = 0.6521739363670349, en acc = 0.695652186870575\n",
      "average ch acc = 0.6498187780380249, average en acc = 0.6327898502349854\n"
     ]
    }
   ],
   "source": [
    "model_ch, model_en = train_and_test_k_fold_cross_val(filter_mode=\"percentile\", filter_val=30, \n",
    "                                                     hidden_num=3, dropout_p=None, lr=0.5, epoch_num=1000, debug_mode=False)"
   ]
  },
  {
   "cell_type": "markdown",
   "metadata": {},
   "source": [
    "### 1 layer, dropout = 0.1"
   ]
  },
  {
   "cell_type": "code",
   "execution_count": 24,
   "metadata": {},
   "outputs": [
    {
     "name": "stdout",
     "output_type": "stream",
     "text": [
      "filtering data by percentile\n",
      "training set size=213, test set size=24\n",
      "0-th fold: ch acc = 0.75, en acc = 0.625\n",
      "training set size=213, test set size=24\n",
      "1-th fold: ch acc = 0.7083333134651184, en acc = 0.75\n",
      "training set size=213, test set size=24\n",
      "2-th fold: ch acc = 0.7083333134651184, en acc = 0.5833333134651184\n",
      "training set size=213, test set size=24\n",
      "3-th fold: ch acc = 0.5833333134651184, en acc = 0.7916666865348816\n",
      "training set size=213, test set size=24\n",
      "4-th fold: ch acc = 0.7083333134651184, en acc = 0.5416666865348816\n",
      "training set size=213, test set size=24\n",
      "5-th fold: ch acc = 0.625, en acc = 0.625\n",
      "training set size=213, test set size=24\n",
      "6-th fold: ch acc = 0.6666666865348816, en acc = 0.625\n",
      "training set size=214, test set size=23\n",
      "7-th fold: ch acc = 0.739130437374115, en acc = 0.782608687877655\n",
      "training set size=214, test set size=23\n",
      "8-th fold: ch acc = 0.6521739363670349, en acc = 0.6086956262588501\n",
      "training set size=214, test set size=23\n",
      "9-th fold: ch acc = 0.43478259444236755, en acc = 0.6086956262588501\n",
      "average ch acc = 0.6576086282730103, average en acc = 0.6541666388511658\n"
     ]
    }
   ],
   "source": [
    "model_ch, model_en = train_and_test_k_fold_cross_val(filter_mode=\"percentile\", filter_val=30, \n",
    "                                                     hidden_num=1, dropout_p=0.1, lr=0.5, epoch_num=1000, debug_mode=False)"
   ]
  },
  {
   "cell_type": "markdown",
   "metadata": {},
   "source": [
    "### 3 layer, dropout = 0.1"
   ]
  },
  {
   "cell_type": "code",
   "execution_count": 25,
   "metadata": {},
   "outputs": [
    {
     "name": "stdout",
     "output_type": "stream",
     "text": [
      "filtering data by percentile\n",
      "training set size=213, test set size=24\n",
      "0-th fold: ch acc = 0.75, en acc = 0.5\n",
      "training set size=213, test set size=24\n",
      "1-th fold: ch acc = 0.6666666865348816, en acc = 0.6666666865348816\n",
      "training set size=213, test set size=24\n",
      "2-th fold: ch acc = 0.5416666865348816, en acc = 0.625\n",
      "training set size=213, test set size=24\n",
      "3-th fold: ch acc = 0.5833333134651184, en acc = 0.7916666865348816\n",
      "training set size=213, test set size=24\n",
      "4-th fold: ch acc = 0.6666666865348816, en acc = 0.6666666865348816\n",
      "training set size=213, test set size=24\n",
      "5-th fold: ch acc = 0.7083333134651184, en acc = 0.6666666865348816\n",
      "training set size=213, test set size=24\n",
      "6-th fold: ch acc = 0.75, en acc = 0.75\n",
      "training set size=214, test set size=23\n",
      "7-th fold: ch acc = 0.6521739363670349, en acc = 0.695652186870575\n",
      "training set size=214, test set size=23\n",
      "8-th fold: ch acc = 0.5652173757553101, en acc = 0.6086956262588501\n",
      "training set size=214, test set size=23\n",
      "9-th fold: ch acc = 0.5652173757553101, en acc = 0.5652173757553101\n",
      "average ch acc = 0.6449276208877563, average en acc = 0.6536232233047485\n"
     ]
    }
   ],
   "source": [
    "model_ch, model_en = train_and_test_k_fold_cross_val(filter_mode=\"percentile\", filter_val=30, \n",
    "                                                     hidden_num=3, dropout_p=0.1, lr=0.5, epoch_num=1000, debug_mode=False)"
   ]
  },
  {
   "cell_type": "markdown",
   "metadata": {},
   "source": [
    "### 10 layer, dropout = 0.1"
   ]
  },
  {
   "cell_type": "code",
   "execution_count": 26,
   "metadata": {},
   "outputs": [
    {
     "name": "stdout",
     "output_type": "stream",
     "text": [
      "filtering data by percentile\n",
      "training set size=213, test set size=24\n",
      "0-th fold: ch acc = 0.7083333134651184, en acc = 0.7083333134651184\n",
      "training set size=213, test set size=24\n",
      "1-th fold: ch acc = 0.5416666865348816, en acc = 0.5416666865348816\n",
      "training set size=213, test set size=24\n",
      "2-th fold: ch acc = 0.6666666865348816, en acc = 0.5416666865348816\n",
      "training set size=213, test set size=24\n",
      "3-th fold: ch acc = 0.7083333134651184, en acc = 0.75\n",
      "training set size=213, test set size=24\n",
      "4-th fold: ch acc = 0.5833333134651184, en acc = 0.7083333134651184\n",
      "training set size=213, test set size=24\n",
      "5-th fold: ch acc = 0.6666666865348816, en acc = 0.625\n",
      "training set size=213, test set size=24\n",
      "6-th fold: ch acc = 0.7083333134651184, en acc = 0.5416666865348816\n",
      "training set size=214, test set size=23\n",
      "7-th fold: ch acc = 0.739130437374115, en acc = 0.695652186870575\n",
      "training set size=214, test set size=23\n",
      "8-th fold: ch acc = 0.6521739363670349, en acc = 0.739130437374115\n",
      "training set size=214, test set size=23\n",
      "9-th fold: ch acc = 0.782608687877655, en acc = 0.695652186870575\n",
      "average ch acc = 0.6757246255874634, average en acc = 0.6547101140022278\n"
     ]
    }
   ],
   "source": [
    "model_ch, model_en = train_and_test_k_fold_cross_val(filter_mode=\"percentile\", filter_val=30, \n",
    "                                                     hidden_num=10, dropout_p=0.1, lr=0.5, epoch_num=1000, debug_mode=False)"
   ]
  },
  {
   "cell_type": "markdown",
   "metadata": {},
   "source": [
    "### get {id : (ch_label, en_label)}"
   ]
  },
  {
   "cell_type": "code",
   "execution_count": 27,
   "metadata": {},
   "outputs": [
    {
     "name": "stdout",
     "output_type": "stream",
     "text": [
      "training set size=540, test set size=60\n",
      "0-th fold: ch acc = 0.6499999761581421, en acc = 0.5333333611488342\n",
      "training set size=540, test set size=60\n",
      "1-th fold: ch acc = 0.699999988079071, en acc = 0.5333333611488342\n",
      "training set size=540, test set size=60\n",
      "2-th fold: ch acc = 0.6333333253860474, en acc = 0.550000011920929\n",
      "training set size=540, test set size=60\n",
      "3-th fold: ch acc = 0.6000000238418579, en acc = 0.7166666388511658\n",
      "training set size=540, test set size=60\n",
      "4-th fold: ch acc = 0.6000000238418579, en acc = 0.5833333134651184\n",
      "training set size=540, test set size=60\n",
      "5-th fold: ch acc = 0.5833333134651184, en acc = 0.6499999761581421\n",
      "training set size=540, test set size=60\n",
      "6-th fold: ch acc = 0.7666666507720947, en acc = 0.7166666388511658\n",
      "training set size=540, test set size=60\n",
      "7-th fold: ch acc = 0.5833333134651184, en acc = 0.75\n",
      "training set size=540, test set size=60\n",
      "8-th fold: ch acc = 0.6166666746139526, en acc = 0.6333333253860474\n",
      "training set size=540, test set size=60\n",
      "9-th fold: ch acc = 0.6166666746139526, en acc = 0.6499999761581421\n",
      "average ch acc = 0.6350000500679016, average en acc = 0.6316666603088379\n"
     ]
    }
   ],
   "source": [
    "# using 1 layer, dropout = None\n",
    "\n",
    "model_ch, model_en = train_and_test_k_fold_cross_val(hidden_num=1, dropout_p=None, lr=0.5, epoch_num=1000, debug_mode=False)"
   ]
  },
  {
   "cell_type": "markdown",
   "metadata": {},
   "source": [
    "### compare to \"label_d_z\""
   ]
  },
  {
   "cell_type": "code",
   "execution_count": 28,
   "metadata": {},
   "outputs": [],
   "source": [
    "def compare_wrap(model_ch, model_en):\n",
    "    arr = data_reader.read()\n",
    "    X = arr[:, :-2]\n",
    "    Y = arr[:, -2:]\n",
    "    sd = Y.std()\n",
    "    \n",
    "    import pandas as pd\n",
    "    df = pd.read_csv(\"../pol600withLabel.csv\", encoding=\"utf-8\", index_col=2)\n",
    "    label_d_z = df[\"label_d_z\"]\n",
    "    diff_id_label = set([i for i in range(len(label_d_z)) if label_d_z.get(i) == 1])\n",
    "    \n",
    "    def calc_prf(very_diff_id_label, very_diff_id_pred):\n",
    "        p = len(very_diff_id_pred - very_diff_id_label) / len(very_diff_id_pred)\n",
    "        r = len(very_diff_id_label - very_diff_id_pred) / len(very_diff_id_label)\n",
    "        f = 2*p*r / (p+r)\n",
    "        return p, r, f\n",
    "    \n",
    "    return {\n",
    "        \"separate at 0\": calc_prf(diff_id_label, get_diff_id_pred(model_ch, model_en, X)),\n",
    "        \"distance of 1 sd\": calc_prf(diff_id_label, get_diff_id_pred(model_ch, model_en, X, mode=\"1sd\", sd=sd)),\n",
    "        \"distance of 2 sd\": calc_prf(diff_id_label, get_diff_id_pred(model_ch, model_en, X, mode=\"2sd\", sd=sd)),\n",
    "    }"
   ]
  },
  {
   "cell_type": "code",
   "execution_count": 29,
   "metadata": {},
   "outputs": [
    {
     "name": "stdout",
     "output_type": "stream",
     "text": [
      "separate at 0       : p=0.81498, r=0.52273, f=0.63693\n",
      "distance of 1 sd    : p=0.80337, r=0.60227, f=0.68844\n",
      "distance of 2 sd    : p=0.79412, r=0.92045, f=0.85263\n"
     ]
    }
   ],
   "source": [
    "for k, v in compare_wrap(model_ch, model_en).items():\n",
    "    print(\"{:<20s}: p={:.5f}, r={:.5f}, f={:.5f}\".format(k, v[0], v[1], v[2]))"
   ]
  },
  {
   "cell_type": "code",
   "execution_count": null,
   "metadata": {},
   "outputs": [],
   "source": []
  },
  {
   "cell_type": "code",
   "execution_count": null,
   "metadata": {},
   "outputs": [],
   "source": []
  },
  {
   "cell_type": "code",
   "execution_count": null,
   "metadata": {},
   "outputs": [],
   "source": []
  }
 ],
 "metadata": {
  "kernelspec": {
   "display_name": "Python [conda env:Anaconda3]",
   "language": "python",
   "name": "conda-env-Anaconda3-py"
  },
  "language_info": {
   "codemirror_mode": {
    "name": "ipython",
    "version": 3
   },
   "file_extension": ".py",
   "mimetype": "text/x-python",
   "name": "python",
   "nbconvert_exporter": "python",
   "pygments_lexer": "ipython3",
   "version": "3.6.5"
  }
 },
 "nbformat": 4,
 "nbformat_minor": 2
}
