{
 "cells": [
  {
   "cell_type": "code",
   "execution_count": 1,
   "metadata": {},
   "outputs": [],
   "source": [
    "import math\n",
    "import random\n",
    "import os\n",
    "from pathlib import Path \n",
    "import time\n",
    "from tqdm import tqdm\n",
    "\n",
    "from sklearn.model_selection import train_test_split\n",
    "\n",
    "import data_reader\n",
    "import pickle\n",
    "\n",
    "import torch\n",
    "import torch.nn as nn\n",
    "import torch.nn.functional as F\n",
    "import torch.optim as optim"
   ]
  },
  {
   "cell_type": "markdown",
   "metadata": {},
   "source": [
    "### define model"
   ]
  },
  {
   "cell_type": "code",
   "execution_count": 2,
   "metadata": {},
   "outputs": [],
   "source": [
    "class NNClassifier(nn.Module):\n",
    "    def __init__(self, hidden_num=1, dropout_p=None,\n",
    "                 input_dim=174, hidden_dim=128, class_num=2):\n",
    "        super(NNClassifier, self).__init__()\n",
    "        # loss\n",
    "        self.loss = nn.CrossEntropyLoss()\n",
    "        # hidden-hidden fcs\n",
    "        self.hiddens = [nn.Linear(input_dim, hidden_dim) for _ in range(hidden_num-1)]\n",
    "        # insert input-hidden fc\n",
    "        self.hiddens.insert(0, nn.Linear(input_dim, hidden_dim))\n",
    "        # dropout layers\n",
    "        self.dropout_p = dropout_p\n",
    "        if dropout_p is not None:\n",
    "            self.drops = [nn.Dropout(p=dropout_p) for _ in range(hidden_num)]\n",
    "        # output layer\n",
    "        self.out = nn.Linear(hidden_dim, class_num)\n",
    "        # dropout\n",
    "        \n",
    "        \n",
    "    def forward(self, x):\n",
    "        for i in range(len(self.hiddens)):\n",
    "            x = F.relu(self.hiddens[i](x))\n",
    "            if self.dropout_p is not None:\n",
    "                x = self.drops[i](x)\n",
    "        x = self.out(x)\n",
    "        x = x.squeeze()\n",
    "        val, idx = torch.max(x, dim=1)\n",
    "        return x, idx\n",
    "    \n",
    "    def compute_loss(self, pred_vec, gold_vec):\n",
    "        return self.loss(pred_vec, gold_vec)"
   ]
  },
  {
   "cell_type": "markdown",
   "metadata": {},
   "source": [
    "### wrap-up"
   ]
  },
  {
   "cell_type": "code",
   "execution_count": 3,
   "metadata": {},
   "outputs": [],
   "source": [
    "def train_and_test_once(X_train, X_test, Y_train, Y_test,\n",
    "               hidden_num, dropout_p, lr, epoch_num,\n",
    "               label_index, debug_mode=True):\n",
    "    debug_report_seg = epoch_num // 10\n",
    "    train_size, input_dim = X_train.shape\n",
    "    model = NNClassifier(input_dim=input_dim, dropout_p=dropout_p)\n",
    "    optimizer = optim.SGD(model.parameters(), lr=0.5)\n",
    "    #optim.Adam(model.parameters())\n",
    "    optimizer.zero_grad()\n",
    "    model.train()\n",
    "    start_train = time.time()\n",
    "    for epoch in range(epoch_num):\n",
    "        optimizer.zero_grad()\n",
    "        inputs = torch.tensor(X_train).float()\n",
    "        golds  = torch.tensor(Y_train[:,label_index]).long()\n",
    "        \n",
    "        if debug_mode:\n",
    "            print(golds)\n",
    "            debug_mode = False\n",
    "            \n",
    "        pred_vals, pred_labels  = model(inputs)\n",
    "\n",
    "        loss = model.compute_loss(pred_vals, golds)\n",
    "\n",
    "        if debug_mode and epoch % debug_report_seg == 0:\n",
    "            acc = golds.eq(pred_labels).sum().float() / train_size\n",
    "            print(\"epoch {}, loss = {}, acc = {}\".format(epoch, loss, acc))\n",
    "\n",
    "        loss.backward()\n",
    "        optimizer.step()\n",
    "\n",
    "    acc = golds.eq(pred_labels).sum().float() / train_size\n",
    "    if debug_mode:\n",
    "        print(\"training: loss = {}, acc = {}\".format(loss, acc))\n",
    "\n",
    "    model.eval()\n",
    "    test_size, input_dim = X_test.shape\n",
    "    inputs = torch.tensor(X_test).float()\n",
    "    golds  = torch.tensor(Y_test[:,label_index]).long()\n",
    "    pred_vals, pred_labels  = model(inputs)\n",
    "    loss = model.compute_loss(pred_vals, golds)\n",
    "    acc = golds.eq(pred_labels).sum().float() / test_size\n",
    "    if debug_mode:\n",
    "        print(\"test: loss = {}, acc = {}\".format(loss, acc))\n",
    "    \n",
    "    return model, loss, acc\n",
    "    "
   ]
  },
  {
   "cell_type": "code",
   "execution_count": 4,
   "metadata": {},
   "outputs": [],
   "source": [
    "def train_and_test_k_fold_cross_val(feature_path=\"train_features.pkl\", label_path=\"train.csv\", \n",
    "                                    filter_mode=\"\", filter_val=0, k=10, seed=777, \n",
    "                                    hidden_num=1, dropout_p=None, lr=0.1, epoch_num=1000, debug_mode=True):\n",
    "    best_ch_model = None\n",
    "    best_ch_acc = 0\n",
    "    total_ch_acc = 0\n",
    "    best_en_model = None\n",
    "    best_en_acc = 0\n",
    "    total_en_acc = 0\n",
    "    for i, data in enumerate(data_reader.k_fold_cross_val(\n",
    "                                filter_mode=filter_mode, filter_val=filter_val,\n",
    "                                feature_path=feature_path, \n",
    "                                label_path=label_path,\n",
    "                                k=k, seed=seed)):\n",
    "        train, test = data\n",
    "        print(f\"training set size={len(train)}, test set size={len(test)}\")\n",
    "        X_train = train[:, :-2]\n",
    "        Y_train = train[:, -2:]\n",
    "        X_test = test[:, :-2]\n",
    "        Y_test = test[:, -2:]\n",
    "        Y_train = (Y_train >= 0).astype(int)\n",
    "        Y_test = (Y_test >= 0).astype(int)\n",
    "        # ch\n",
    "        model , loss, acc = train_and_test_once(X_train, X_test, Y_train, Y_test, \n",
    "                                                hidden_num, dropout_p, lr, epoch_num,\n",
    "                                                label_index=0, debug_mode=debug_mode)\n",
    "        total_ch_acc += acc\n",
    "        if acc > best_ch_acc:\n",
    "            best_ch_acc = acc\n",
    "            best_ch_model = model\n",
    "        ch_acc = acc\n",
    "        \n",
    "        # en\n",
    "        model , loss, acc = train_and_test_once(X_train, X_test, Y_train, Y_test, \n",
    "                                                hidden_num, dropout_p, lr, epoch_num,\n",
    "                                                label_index=1, debug_mode=debug_mode)\n",
    "        total_en_acc += acc\n",
    "        if acc > best_en_acc:\n",
    "            best_en_acc = acc\n",
    "            best_en_model = model\n",
    "        en_acc = acc\n",
    "        \n",
    "        print(f\"{i}-th fold: ch acc = {ch_acc}, en acc = {en_acc}\")\n",
    "    \n",
    "    print(f\"average ch acc = {total_ch_acc / k}, average en acc = {total_en_acc / k}\")\n",
    "    \n",
    "    return best_ch_model, best_en_model"
   ]
  },
  {
   "cell_type": "markdown",
   "metadata": {},
   "source": [
    "---"
   ]
  },
  {
   "cell_type": "markdown",
   "metadata": {},
   "source": [
    "## data no filtered"
   ]
  },
  {
   "cell_type": "markdown",
   "metadata": {},
   "source": [
    "### 1 layer, no dropout"
   ]
  },
  {
   "cell_type": "code",
   "execution_count": 5,
   "metadata": {},
   "outputs": [
    {
     "name": "stdout",
     "output_type": "stream",
     "text": [
      "0-th fold: ch acc = 0.6000000238418579, en acc = 0.6000000238418579\n",
      "1-th fold: ch acc = 0.6499999761581421, en acc = 0.5333333611488342\n",
      "2-th fold: ch acc = 0.5666666626930237, en acc = 0.5166666507720947\n",
      "3-th fold: ch acc = 0.550000011920929, en acc = 0.5833333134651184\n",
      "4-th fold: ch acc = 0.5833333134651184, en acc = 0.5666666626930237\n",
      "5-th fold: ch acc = 0.5666666626930237, en acc = 0.6000000238418579\n",
      "6-th fold: ch acc = 0.6666666865348816, en acc = 0.6499999761581421\n",
      "7-th fold: ch acc = 0.699999988079071, en acc = 0.5333333611488342\n",
      "8-th fold: ch acc = 0.5666666626930237, en acc = 0.5333333611488342\n",
      "9-th fold: ch acc = 0.7333333492279053, en acc = 0.550000011920929\n",
      "average ch acc = 0.6183332204818726, average en acc = 0.5666667222976685\n"
     ]
    }
   ],
   "source": [
    "model_ch, model_en = train_and_test_k_fold_cross_val(hidden_num=1, dropout_p=None, lr=0.5, epoch_num=1000, debug_mode=False)"
   ]
  },
  {
   "cell_type": "markdown",
   "metadata": {},
   "source": [
    "### 3 layer, no dropout"
   ]
  },
  {
   "cell_type": "code",
   "execution_count": 6,
   "metadata": {},
   "outputs": [
    {
     "name": "stdout",
     "output_type": "stream",
     "text": [
      "0-th fold: ch acc = 0.6000000238418579, en acc = 0.6333333253860474\n",
      "1-th fold: ch acc = 0.6666666865348816, en acc = 0.6000000238418579\n",
      "2-th fold: ch acc = 0.5833333134651184, en acc = 0.6000000238418579\n",
      "3-th fold: ch acc = 0.5833333134651184, en acc = 0.6333333253860474\n",
      "4-th fold: ch acc = 0.5666666626930237, en acc = 0.6499999761581421\n",
      "5-th fold: ch acc = 0.6499999761581421, en acc = 0.6833333373069763\n",
      "6-th fold: ch acc = 0.6833333373069763, en acc = 0.699999988079071\n",
      "7-th fold: ch acc = 0.5833333134651184, en acc = 0.4833333194255829\n",
      "8-th fold: ch acc = 0.550000011920929, en acc = 0.6166666746139526\n",
      "9-th fold: ch acc = 0.6166666746139526, en acc = 0.5333333611488342\n",
      "average ch acc = 0.6083333492279053, average en acc = 0.6133333444595337\n"
     ]
    }
   ],
   "source": [
    "model_ch, model_en = train_and_test_k_fold_cross_val(hidden_num=3, dropout_p=None, lr=0.5, epoch_num=1000, debug_mode=False)"
   ]
  },
  {
   "cell_type": "markdown",
   "metadata": {},
   "source": [
    "### 1 layer, dropout = 0.1"
   ]
  },
  {
   "cell_type": "code",
   "execution_count": 7,
   "metadata": {},
   "outputs": [
    {
     "name": "stdout",
     "output_type": "stream",
     "text": [
      "0-th fold: ch acc = 0.6666666865348816, en acc = 0.6166666746139526\n",
      "1-th fold: ch acc = 0.5833333134651184, en acc = 0.5\n",
      "2-th fold: ch acc = 0.550000011920929, en acc = 0.46666666865348816\n",
      "3-th fold: ch acc = 0.6166666746139526, en acc = 0.5833333134651184\n",
      "4-th fold: ch acc = 0.6000000238418579, en acc = 0.5333333611488342\n",
      "5-th fold: ch acc = 0.5333333611488342, en acc = 0.5833333134651184\n",
      "6-th fold: ch acc = 0.6000000238418579, en acc = 0.699999988079071\n",
      "7-th fold: ch acc = 0.6000000238418579, en acc = 0.6166666746139526\n",
      "8-th fold: ch acc = 0.699999988079071, en acc = 0.6000000238418579\n",
      "9-th fold: ch acc = 0.6833333373069763, en acc = 0.6166666746139526\n",
      "average ch acc = 0.6133332848548889, average en acc = 0.5816666483879089\n"
     ]
    }
   ],
   "source": [
    "model_ch, model_en = train_and_test_k_fold_cross_val(hidden_num=1, dropout_p=0.1, lr=0.5, epoch_num=1000, debug_mode=False)"
   ]
  },
  {
   "cell_type": "markdown",
   "metadata": {},
   "source": [
    "### 3 layer, dropout = 0.1"
   ]
  },
  {
   "cell_type": "code",
   "execution_count": 8,
   "metadata": {},
   "outputs": [
    {
     "name": "stdout",
     "output_type": "stream",
     "text": [
      "0-th fold: ch acc = 0.6666666865348816, en acc = 0.6000000238418579\n",
      "1-th fold: ch acc = 0.6833333373069763, en acc = 0.5666666626930237\n",
      "2-th fold: ch acc = 0.5833333134651184, en acc = 0.6166666746139526\n",
      "3-th fold: ch acc = 0.699999988079071, en acc = 0.6000000238418579\n",
      "4-th fold: ch acc = 0.6499999761581421, en acc = 0.5833333134651184\n",
      "5-th fold: ch acc = 0.5166666507720947, en acc = 0.6166666746139526\n",
      "6-th fold: ch acc = 0.75, en acc = 0.6333333253860474\n",
      "7-th fold: ch acc = 0.6499999761581421, en acc = 0.5833333134651184\n",
      "8-th fold: ch acc = 0.46666666865348816, en acc = 0.5833333134651184\n",
      "9-th fold: ch acc = 0.5666666626930237, en acc = 0.5333333611488342\n",
      "average ch acc = 0.6233333349227905, average en acc = 0.5916666984558105\n"
     ]
    }
   ],
   "source": [
    "model_ch, model_en = train_and_test_k_fold_cross_val(hidden_num=3, dropout_p=0.1, lr=0.5, epoch_num=1000, debug_mode=False)"
   ]
  },
  {
   "cell_type": "markdown",
   "metadata": {},
   "source": [
    "### 10 layer, dropout = 0.1"
   ]
  },
  {
   "cell_type": "code",
   "execution_count": 9,
   "metadata": {},
   "outputs": [
    {
     "name": "stdout",
     "output_type": "stream",
     "text": [
      "0-th fold: ch acc = 0.6666666865348816, en acc = 0.6333333253860474\n",
      "1-th fold: ch acc = 0.6166666746139526, en acc = 0.5166666507720947\n",
      "2-th fold: ch acc = 0.5833333134651184, en acc = 0.550000011920929\n",
      "3-th fold: ch acc = 0.5666666626930237, en acc = 0.5166666507720947\n",
      "4-th fold: ch acc = 0.6499999761581421, en acc = 0.5833333134651184\n",
      "5-th fold: ch acc = 0.6333333253860474, en acc = 0.5666666626930237\n",
      "6-th fold: ch acc = 0.6166666746139526, en acc = 0.6333333253860474\n",
      "7-th fold: ch acc = 0.5833333134651184, en acc = 0.6666666865348816\n",
      "8-th fold: ch acc = 0.550000011920929, en acc = 0.6666666865348816\n",
      "9-th fold: ch acc = 0.7666666507720947, en acc = 0.699999988079071\n",
      "average ch acc = 0.6233333349227905, average en acc = 0.6033332943916321\n"
     ]
    }
   ],
   "source": [
    "model_ch, model_en = train_and_test_k_fold_cross_val(hidden_num=10, dropout_p=0.1, lr=0.5, epoch_num=1000, debug_mode=False)"
   ]
  },
  {
   "cell_type": "markdown",
   "metadata": {},
   "source": [
    "### check \"very different\""
   ]
  },
  {
   "cell_type": "markdown",
   "metadata": {},
   "source": [
    "### get {id : (ch_label, en_label)}"
   ]
  },
  {
   "cell_type": "code",
   "execution_count": 10,
   "metadata": {},
   "outputs": [
    {
     "name": "stdout",
     "output_type": "stream",
     "text": [
      "0-th fold: ch acc = 0.5333333611488342, en acc = 0.6166666746139526\n",
      "1-th fold: ch acc = 0.6499999761581421, en acc = 0.5666666626930237\n",
      "2-th fold: ch acc = 0.6333333253860474, en acc = 0.5333333611488342\n",
      "3-th fold: ch acc = 0.6499999761581421, en acc = 0.6333333253860474\n",
      "4-th fold: ch acc = 0.6499999761581421, en acc = 0.6166666746139526\n",
      "5-th fold: ch acc = 0.6000000238418579, en acc = 0.6333333253860474\n",
      "6-th fold: ch acc = 0.6833333373069763, en acc = 0.699999988079071\n",
      "7-th fold: ch acc = 0.6666666865348816, en acc = 0.6499999761581421\n",
      "8-th fold: ch acc = 0.6499999761581421, en acc = 0.5833333134651184\n",
      "9-th fold: ch acc = 0.6833333373069763, en acc = 0.5666666626930237\n",
      "average ch acc = 0.6399999856948853, average en acc = 0.6100000143051147\n"
     ]
    }
   ],
   "source": [
    "# using 1 layer, dropout = None\n",
    "\n",
    "model_ch, model_en = train_and_test_k_fold_cross_val(hidden_num=1, dropout_p=None, lr=0.5, epoch_num=1000, debug_mode=False)"
   ]
  },
  {
   "cell_type": "code",
   "execution_count": 11,
   "metadata": {},
   "outputs": [],
   "source": [
    "def get_pred(model, X_test):\n",
    "    model.eval()\n",
    "    test_size, input_dim = X_test.shape\n",
    "    inputs = torch.tensor(X_test).float()\n",
    "    pred_vals, pred_labels  = model(inputs)\n",
    "    return pred_labels.detach().numpy().tolist()"
   ]
  },
  {
   "cell_type": "code",
   "execution_count": 12,
   "metadata": {},
   "outputs": [],
   "source": [
    "arr = data_reader.read()\n",
    "X = arr[:, :-2]\n",
    "Y = arr[:, -2:]\n",
    "\n",
    "pred_ch = get_pred(model_ch, X)\n",
    "pred_en = get_pred(model_en, X)\n",
    "very_diff_id_pred = set([i for i in range(len(pred_ch)) if pred_ch[i] != pred_en[i]])"
   ]
  },
  {
   "cell_type": "markdown",
   "metadata": {},
   "source": [
    "### compare to \"label_d_z\""
   ]
  },
  {
   "cell_type": "code",
   "execution_count": 13,
   "metadata": {},
   "outputs": [],
   "source": [
    "import pandas as pd\n",
    "df = pd.read_csv(\"../pol600withLabel.csv\", encoding=\"utf-8\", index_col=2)\n",
    "label_d_z = df[\"label_d_z\"]"
   ]
  },
  {
   "cell_type": "code",
   "execution_count": 14,
   "metadata": {},
   "outputs": [],
   "source": [
    "very_diff_id_label = set([i for i in range(len(label_d_z)) if label_d_z.get(i) == 1])"
   ]
  },
  {
   "cell_type": "code",
   "execution_count": 15,
   "metadata": {},
   "outputs": [
    {
     "name": "stdout",
     "output_type": "stream",
     "text": [
      "0.8440366972477065 0.6136363636363636 0.7106279502217137\n"
     ]
    }
   ],
   "source": [
    "p = len(very_diff_id_pred - very_diff_id_label) / len(very_diff_id_pred)\n",
    "r = len(very_diff_id_label - very_diff_id_pred) / len(very_diff_id_label)\n",
    "f = 2*p*r / (p+r)\n",
    "print(p, r, f)"
   ]
  },
  {
   "cell_type": "code",
   "execution_count": 16,
   "metadata": {},
   "outputs": [
    {
     "data": {
      "text/plain": [
       "218"
      ]
     },
     "execution_count": 16,
     "metadata": {},
     "output_type": "execute_result"
    }
   ],
   "source": [
    "len(very_diff_id_pred)"
   ]
  },
  {
   "cell_type": "markdown",
   "metadata": {},
   "source": [
    "---"
   ]
  },
  {
   "cell_type": "markdown",
   "metadata": {},
   "source": [
    "## data filtered on value 0.3"
   ]
  },
  {
   "cell_type": "markdown",
   "metadata": {},
   "source": [
    "### 1 layer, no dropout"
   ]
  },
  {
   "cell_type": "code",
   "execution_count": 34,
   "metadata": {},
   "outputs": [
    {
     "name": "stdout",
     "output_type": "stream",
     "text": [
      "training set size=211, test set size=24\n",
      "0-th fold: ch acc = 0.7916666865348816, en acc = 0.5\n",
      "training set size=211, test set size=24\n",
      "1-th fold: ch acc = 0.6666666865348816, en acc = 0.6666666865348816\n",
      "training set size=211, test set size=24\n",
      "2-th fold: ch acc = 0.625, en acc = 0.5833333134651184\n",
      "training set size=211, test set size=24\n",
      "3-th fold: ch acc = 0.7916666865348816, en acc = 0.7083333134651184\n",
      "training set size=211, test set size=24\n",
      "4-th fold: ch acc = 0.625, en acc = 0.6666666865348816\n",
      "training set size=212, test set size=23\n",
      "5-th fold: ch acc = 0.6521739363670349, en acc = 0.6086956262588501\n",
      "training set size=212, test set size=23\n",
      "6-th fold: ch acc = 0.6521739363670349, en acc = 0.6086956262588501\n",
      "training set size=212, test set size=23\n",
      "7-th fold: ch acc = 0.5652173757553101, en acc = 0.6521739363670349\n",
      "training set size=212, test set size=23\n",
      "8-th fold: ch acc = 0.782608687877655, en acc = 0.8260869383811951\n",
      "training set size=212, test set size=23\n",
      "9-th fold: ch acc = 0.47826087474823, en acc = 0.5652173757553101\n",
      "average ch acc = 0.6630434989929199, average en acc = 0.6385869383811951\n"
     ]
    }
   ],
   "source": [
    "model_ch, model_en = train_and_test_k_fold_cross_val(filter_mode=\"value\", filter_val=0.3, \n",
    "                                                     hidden_num=1, dropout_p=None, lr=0.5, epoch_num=1000, debug_mode=False)"
   ]
  },
  {
   "cell_type": "markdown",
   "metadata": {},
   "source": [
    "### 3 layer, no dropout"
   ]
  },
  {
   "cell_type": "code",
   "execution_count": 35,
   "metadata": {},
   "outputs": [
    {
     "name": "stdout",
     "output_type": "stream",
     "text": [
      "training set size=211, test set size=24\n",
      "0-th fold: ch acc = 0.5, en acc = 0.5416666865348816\n",
      "training set size=211, test set size=24\n",
      "1-th fold: ch acc = 0.7083333134651184, en acc = 0.625\n",
      "training set size=211, test set size=24\n",
      "2-th fold: ch acc = 0.7916666865348816, en acc = 0.75\n",
      "training set size=211, test set size=24\n",
      "3-th fold: ch acc = 0.8333333134651184, en acc = 0.7916666865348816\n",
      "training set size=211, test set size=24\n",
      "4-th fold: ch acc = 0.5416666865348816, en acc = 0.5833333134651184\n",
      "training set size=212, test set size=23\n",
      "5-th fold: ch acc = 0.52173912525177, en acc = 0.695652186870575\n",
      "training set size=212, test set size=23\n",
      "6-th fold: ch acc = 0.6521739363670349, en acc = 0.47826087474823\n",
      "training set size=212, test set size=23\n",
      "7-th fold: ch acc = 0.8260869383811951, en acc = 0.6521739363670349\n",
      "training set size=212, test set size=23\n",
      "8-th fold: ch acc = 0.6521739363670349, en acc = 0.6521739363670349\n",
      "training set size=212, test set size=23\n",
      "9-th fold: ch acc = 0.52173912525177, en acc = 0.8260869383811951\n",
      "average ch acc = 0.654891312122345, average en acc = 0.6596015095710754\n"
     ]
    }
   ],
   "source": [
    "model_ch, model_en = train_and_test_k_fold_cross_val(filter_mode=\"value\", filter_val=0.3, \n",
    "                                                     hidden_num=3, dropout_p=None, lr=0.5, epoch_num=1000, debug_mode=False)"
   ]
  },
  {
   "cell_type": "markdown",
   "metadata": {},
   "source": [
    "### 1 layer, dropout = 0.1"
   ]
  },
  {
   "cell_type": "code",
   "execution_count": 36,
   "metadata": {},
   "outputs": [
    {
     "name": "stdout",
     "output_type": "stream",
     "text": [
      "training set size=211, test set size=24\n",
      "0-th fold: ch acc = 0.6666666865348816, en acc = 0.5416666865348816\n",
      "training set size=211, test set size=24\n",
      "1-th fold: ch acc = 0.625, en acc = 0.6666666865348816\n",
      "training set size=211, test set size=24\n",
      "2-th fold: ch acc = 0.6666666865348816, en acc = 0.625\n",
      "training set size=211, test set size=24\n",
      "3-th fold: ch acc = 0.75, en acc = 0.625\n",
      "training set size=211, test set size=24\n",
      "4-th fold: ch acc = 0.6666666865348816, en acc = 0.75\n",
      "training set size=212, test set size=23\n",
      "5-th fold: ch acc = 0.695652186870575, en acc = 0.6521739363670349\n",
      "training set size=212, test set size=23\n",
      "6-th fold: ch acc = 0.739130437374115, en acc = 0.6086956262588501\n",
      "training set size=212, test set size=23\n",
      "7-th fold: ch acc = 0.739130437374115, en acc = 0.6086956262588501\n",
      "training set size=212, test set size=23\n",
      "8-th fold: ch acc = 0.6521739363670349, en acc = 0.695652186870575\n",
      "training set size=212, test set size=23\n",
      "9-th fold: ch acc = 0.52173912525177, en acc = 0.695652186870575\n",
      "average ch acc = 0.6722826361656189, average en acc = 0.6469202637672424\n"
     ]
    }
   ],
   "source": [
    "model_ch, model_en = train_and_test_k_fold_cross_val(filter_mode=\"value\", filter_val=0.3, \n",
    "                                                     hidden_num=1, dropout_p=0.1, lr=0.5, epoch_num=1000, debug_mode=False)"
   ]
  },
  {
   "cell_type": "markdown",
   "metadata": {},
   "source": [
    "### 3 layer, dropout = 0.1"
   ]
  },
  {
   "cell_type": "code",
   "execution_count": 37,
   "metadata": {},
   "outputs": [
    {
     "name": "stdout",
     "output_type": "stream",
     "text": [
      "training set size=211, test set size=24\n",
      "0-th fold: ch acc = 0.5833333134651184, en acc = 0.625\n",
      "training set size=211, test set size=24\n",
      "1-th fold: ch acc = 0.8333333134651184, en acc = 0.5833333134651184\n",
      "training set size=211, test set size=24\n",
      "2-th fold: ch acc = 0.6666666865348816, en acc = 0.5833333134651184\n",
      "training set size=211, test set size=24\n",
      "3-th fold: ch acc = 0.875, en acc = 0.75\n",
      "training set size=211, test set size=24\n",
      "4-th fold: ch acc = 0.6666666865348816, en acc = 0.6666666865348816\n",
      "training set size=212, test set size=23\n",
      "5-th fold: ch acc = 0.6086956262588501, en acc = 0.5652173757553101\n",
      "training set size=212, test set size=23\n",
      "6-th fold: ch acc = 0.739130437374115, en acc = 0.6086956262588501\n",
      "training set size=212, test set size=23\n",
      "7-th fold: ch acc = 0.739130437374115, en acc = 0.739130437374115\n",
      "training set size=212, test set size=23\n",
      "8-th fold: ch acc = 0.6521739363670349, en acc = 0.6086956262588501\n",
      "training set size=212, test set size=23\n",
      "9-th fold: ch acc = 0.6086956262588501, en acc = 0.6086956262588501\n",
      "average ch acc = 0.697282612323761, average en acc = 0.6338767409324646\n"
     ]
    }
   ],
   "source": [
    "model_ch, model_en = train_and_test_k_fold_cross_val(filter_mode=\"value\", filter_val=0.3, \n",
    "                                                     hidden_num=3, dropout_p=0.1, lr=0.5, epoch_num=1000, debug_mode=False)"
   ]
  },
  {
   "cell_type": "markdown",
   "metadata": {},
   "source": [
    "### 10 layer, dropout = 0.1"
   ]
  },
  {
   "cell_type": "code",
   "execution_count": 38,
   "metadata": {},
   "outputs": [
    {
     "name": "stdout",
     "output_type": "stream",
     "text": [
      "training set size=211, test set size=24\n",
      "0-th fold: ch acc = 0.7916666865348816, en acc = 0.5416666865348816\n",
      "training set size=211, test set size=24\n",
      "1-th fold: ch acc = 0.75, en acc = 0.7916666865348816\n",
      "training set size=211, test set size=24\n",
      "2-th fold: ch acc = 0.7083333134651184, en acc = 0.5\n",
      "training set size=211, test set size=24\n",
      "3-th fold: ch acc = 0.5833333134651184, en acc = 0.75\n",
      "training set size=211, test set size=24\n",
      "4-th fold: ch acc = 0.5833333134651184, en acc = 0.625\n",
      "training set size=212, test set size=23\n",
      "5-th fold: ch acc = 0.47826087474823, en acc = 0.695652186870575\n",
      "training set size=212, test set size=23\n",
      "6-th fold: ch acc = 0.5652173757553101, en acc = 0.43478259444236755\n",
      "training set size=212, test set size=23\n",
      "7-th fold: ch acc = 0.739130437374115, en acc = 0.782608687877655\n",
      "training set size=212, test set size=23\n",
      "8-th fold: ch acc = 0.6521739363670349, en acc = 0.6521739363670349\n",
      "training set size=212, test set size=23\n",
      "9-th fold: ch acc = 0.6086956262588501, en acc = 0.739130437374115\n",
      "average ch acc = 0.6460145115852356, average en acc = 0.6512681245803833\n"
     ]
    }
   ],
   "source": [
    "model_ch, model_en = train_and_test_k_fold_cross_val(filter_mode=\"value\", filter_val=0.3, \n",
    "                                                     hidden_num=10, dropout_p=0.1, lr=0.5, epoch_num=1000, debug_mode=False)"
   ]
  },
  {
   "cell_type": "markdown",
   "metadata": {},
   "source": [
    "### check \"very different\""
   ]
  },
  {
   "cell_type": "markdown",
   "metadata": {},
   "source": [
    "### get {id : (ch_label, en_label)}"
   ]
  },
  {
   "cell_type": "code",
   "execution_count": 39,
   "metadata": {},
   "outputs": [
    {
     "name": "stdout",
     "output_type": "stream",
     "text": [
      "training set size=211, test set size=24\n",
      "0-th fold: ch acc = 0.7083333134651184, en acc = 0.5833333134651184\n",
      "training set size=211, test set size=24\n",
      "1-th fold: ch acc = 0.7083333134651184, en acc = 0.625\n",
      "training set size=211, test set size=24\n",
      "2-th fold: ch acc = 0.5833333134651184, en acc = 0.7083333134651184\n",
      "training set size=211, test set size=24\n",
      "3-th fold: ch acc = 0.6666666865348816, en acc = 0.7083333134651184\n",
      "training set size=211, test set size=24\n",
      "4-th fold: ch acc = 0.6666666865348816, en acc = 0.6666666865348816\n",
      "training set size=212, test set size=23\n",
      "5-th fold: ch acc = 0.5652173757553101, en acc = 0.695652186870575\n",
      "training set size=212, test set size=23\n",
      "6-th fold: ch acc = 0.6086956262588501, en acc = 0.6086956262588501\n",
      "training set size=212, test set size=23\n",
      "7-th fold: ch acc = 0.782608687877655, en acc = 0.6086956262588501\n",
      "training set size=212, test set size=23\n",
      "8-th fold: ch acc = 0.695652186870575, en acc = 0.695652186870575\n",
      "training set size=212, test set size=23\n",
      "9-th fold: ch acc = 0.6086956262588501, en acc = 0.739130437374115\n",
      "average ch acc = 0.6594202518463135, average en acc = 0.6639492511749268\n"
     ]
    }
   ],
   "source": [
    "# using 1 layer, dropout = None\n",
    "\n",
    "model_ch, model_en = train_and_test_k_fold_cross_val(filter_mode=\"value\", filter_val=0.3, \n",
    "                                                     hidden_num=1, dropout_p=None, lr=0.5, epoch_num=1000, debug_mode=False)"
   ]
  },
  {
   "cell_type": "code",
   "execution_count": 40,
   "metadata": {},
   "outputs": [],
   "source": [
    "def get_pred(model, X_test):\n",
    "    model.eval()\n",
    "    test_size, input_dim = X_test.shape\n",
    "    inputs = torch.tensor(X_test).float()\n",
    "    pred_vals, pred_labels  = model(inputs)\n",
    "    return pred_labels.detach().numpy().tolist()"
   ]
  },
  {
   "cell_type": "code",
   "execution_count": 41,
   "metadata": {},
   "outputs": [],
   "source": [
    "arr = data_reader.read()\n",
    "X = arr[:, :-2]\n",
    "Y = arr[:, -2:]\n",
    "\n",
    "pred_ch = get_pred(model_ch, X)\n",
    "pred_en = get_pred(model_en, X)\n",
    "very_diff_id_pred = set([i for i in range(len(pred_ch)) if pred_ch[i] != pred_en[i]])"
   ]
  },
  {
   "cell_type": "markdown",
   "metadata": {},
   "source": [
    "### compare to \"label_d_z\""
   ]
  },
  {
   "cell_type": "code",
   "execution_count": 42,
   "metadata": {},
   "outputs": [],
   "source": [
    "import pandas as pd\n",
    "df = pd.read_csv(\"../pol600withLabel.csv\", encoding=\"utf-8\", index_col=2)\n",
    "label_d_z = df[\"label_d_z\"]"
   ]
  },
  {
   "cell_type": "code",
   "execution_count": 43,
   "metadata": {},
   "outputs": [],
   "source": [
    "very_diff_id_label = set([i for i in range(len(label_d_z)) if label_d_z.get(i) == 1])"
   ]
  },
  {
   "cell_type": "code",
   "execution_count": 44,
   "metadata": {},
   "outputs": [
    {
     "name": "stdout",
     "output_type": "stream",
     "text": [
      "0.8263157894736842 0.625 0.7116953762466002\n"
     ]
    }
   ],
   "source": [
    "p = len(very_diff_id_pred - very_diff_id_label) / len(very_diff_id_pred)\n",
    "r = len(very_diff_id_label - very_diff_id_pred) / len(very_diff_id_label)\n",
    "f = 2*p*r / (p+r)\n",
    "print(p, r, f)"
   ]
  },
  {
   "cell_type": "code",
   "execution_count": 45,
   "metadata": {},
   "outputs": [
    {
     "data": {
      "text/plain": [
       "190"
      ]
     },
     "execution_count": 45,
     "metadata": {},
     "output_type": "execute_result"
    }
   ],
   "source": [
    "len(very_diff_id_pred)"
   ]
  },
  {
   "cell_type": "markdown",
   "metadata": {},
   "source": [
    "---"
   ]
  },
  {
   "cell_type": "markdown",
   "metadata": {},
   "source": [
    "## data filtered on percentile 30"
   ]
  },
  {
   "cell_type": "markdown",
   "metadata": {},
   "source": [
    "### 1 layer, no dropout"
   ]
  },
  {
   "cell_type": "code",
   "execution_count": 5,
   "metadata": {},
   "outputs": [
    {
     "name": "stdout",
     "output_type": "stream",
     "text": [
      "filtering data by percentile\n",
      "training set size=213, test set size=24\n",
      "0-th fold: ch acc = 0.75, en acc = 0.75\n",
      "training set size=213, test set size=24\n",
      "1-th fold: ch acc = 0.6666666865348816, en acc = 0.5\n",
      "training set size=213, test set size=24\n",
      "2-th fold: ch acc = 0.5416666865348816, en acc = 0.625\n",
      "training set size=213, test set size=24\n",
      "3-th fold: ch acc = 0.7916666865348816, en acc = 0.7083333134651184\n",
      "training set size=213, test set size=24\n",
      "4-th fold: ch acc = 0.6666666865348816, en acc = 0.7083333134651184\n",
      "training set size=213, test set size=24\n",
      "5-th fold: ch acc = 0.8333333134651184, en acc = 0.6666666865348816\n",
      "training set size=213, test set size=24\n",
      "6-th fold: ch acc = 0.75, en acc = 0.5\n",
      "training set size=214, test set size=23\n",
      "7-th fold: ch acc = 0.739130437374115, en acc = 0.6521739363670349\n",
      "training set size=214, test set size=23\n",
      "8-th fold: ch acc = 0.5652173757553101, en acc = 0.695652186870575\n",
      "training set size=214, test set size=23\n",
      "9-th fold: ch acc = 0.5652173757553101, en acc = 0.52173912525177\n",
      "average ch acc = 0.6869565844535828, average en acc = 0.6327897906303406\n"
     ]
    }
   ],
   "source": [
    "model_ch, model_en = train_and_test_k_fold_cross_val(filter_mode=\"percentile\", filter_val=30, \n",
    "                                                     hidden_num=1, dropout_p=None, lr=0.5, epoch_num=1000, debug_mode=False)"
   ]
  },
  {
   "cell_type": "markdown",
   "metadata": {},
   "source": [
    "### 3 layer, no dropout"
   ]
  },
  {
   "cell_type": "code",
   "execution_count": 6,
   "metadata": {},
   "outputs": [
    {
     "name": "stdout",
     "output_type": "stream",
     "text": [
      "filtering data by percentile\n",
      "training set size=213, test set size=24\n",
      "0-th fold: ch acc = 0.7083333134651184, en acc = 0.625\n",
      "training set size=213, test set size=24\n",
      "1-th fold: ch acc = 0.5, en acc = 0.5833333134651184\n",
      "training set size=213, test set size=24\n",
      "2-th fold: ch acc = 0.75, en acc = 0.7083333134651184\n",
      "training set size=213, test set size=24\n",
      "3-th fold: ch acc = 0.8333333134651184, en acc = 0.8333333134651184\n",
      "training set size=213, test set size=24\n",
      "4-th fold: ch acc = 0.625, en acc = 0.6666666865348816\n",
      "training set size=213, test set size=24\n",
      "5-th fold: ch acc = 0.625, en acc = 0.625\n",
      "training set size=213, test set size=24\n",
      "6-th fold: ch acc = 0.7916666865348816, en acc = 0.6666666865348816\n",
      "training set size=214, test set size=23\n",
      "7-th fold: ch acc = 0.782608687877655, en acc = 0.695652186870575\n",
      "training set size=214, test set size=23\n",
      "8-th fold: ch acc = 0.695652186870575, en acc = 0.739130437374115\n",
      "training set size=214, test set size=23\n",
      "9-th fold: ch acc = 0.695652186870575, en acc = 0.52173912525177\n",
      "average ch acc = 0.7007245421409607, average en acc = 0.6664854288101196\n"
     ]
    }
   ],
   "source": [
    "model_ch, model_en = train_and_test_k_fold_cross_val(filter_mode=\"percentile\", filter_val=30, \n",
    "                                                     hidden_num=3, dropout_p=None, lr=0.5, epoch_num=1000, debug_mode=False)"
   ]
  },
  {
   "cell_type": "markdown",
   "metadata": {},
   "source": [
    "### 1 layer, dropout = 0.1"
   ]
  },
  {
   "cell_type": "code",
   "execution_count": 7,
   "metadata": {},
   "outputs": [
    {
     "name": "stdout",
     "output_type": "stream",
     "text": [
      "filtering data by percentile\n",
      "training set size=213, test set size=24\n",
      "0-th fold: ch acc = 0.625, en acc = 0.625\n",
      "training set size=213, test set size=24\n",
      "1-th fold: ch acc = 0.5416666865348816, en acc = 0.4583333432674408\n",
      "training set size=213, test set size=24\n",
      "2-th fold: ch acc = 0.7083333134651184, en acc = 0.5833333134651184\n",
      "training set size=213, test set size=24\n",
      "3-th fold: ch acc = 0.7083333134651184, en acc = 0.5416666865348816\n",
      "training set size=213, test set size=24\n",
      "4-th fold: ch acc = 0.625, en acc = 0.75\n",
      "training set size=213, test set size=24\n",
      "5-th fold: ch acc = 0.6666666865348816, en acc = 0.7083333134651184\n",
      "training set size=213, test set size=24\n",
      "6-th fold: ch acc = 0.75, en acc = 0.6666666865348816\n",
      "training set size=214, test set size=23\n",
      "7-th fold: ch acc = 0.739130437374115, en acc = 0.6521739363670349\n",
      "training set size=214, test set size=23\n",
      "8-th fold: ch acc = 0.6086956262588501, en acc = 0.782608687877655\n",
      "training set size=214, test set size=23\n",
      "9-th fold: ch acc = 0.739130437374115, en acc = 0.52173912525177\n",
      "average ch acc = 0.6711956262588501, average en acc = 0.6289855241775513\n"
     ]
    }
   ],
   "source": [
    "model_ch, model_en = train_and_test_k_fold_cross_val(filter_mode=\"percentile\", filter_val=30, \n",
    "                                                     hidden_num=1, dropout_p=0.1, lr=0.5, epoch_num=1000, debug_mode=False)"
   ]
  },
  {
   "cell_type": "markdown",
   "metadata": {},
   "source": [
    "### 3 layer, dropout = 0.1"
   ]
  },
  {
   "cell_type": "code",
   "execution_count": 8,
   "metadata": {},
   "outputs": [
    {
     "name": "stdout",
     "output_type": "stream",
     "text": [
      "filtering data by percentile\n",
      "training set size=213, test set size=24\n",
      "0-th fold: ch acc = 0.625, en acc = 0.5833333134651184\n",
      "training set size=213, test set size=24\n",
      "1-th fold: ch acc = 0.5416666865348816, en acc = 0.5\n",
      "training set size=213, test set size=24\n",
      "2-th fold: ch acc = 0.75, en acc = 0.4583333432674408\n",
      "training set size=213, test set size=24\n",
      "3-th fold: ch acc = 0.75, en acc = 0.6666666865348816\n",
      "training set size=213, test set size=24\n",
      "4-th fold: ch acc = 0.7916666865348816, en acc = 0.7083333134651184\n",
      "training set size=213, test set size=24\n",
      "5-th fold: ch acc = 0.625, en acc = 0.7083333134651184\n",
      "training set size=213, test set size=24\n",
      "6-th fold: ch acc = 0.6666666865348816, en acc = 0.6666666865348816\n",
      "training set size=214, test set size=23\n",
      "7-th fold: ch acc = 0.5652173757553101, en acc = 0.6521739363670349\n",
      "training set size=214, test set size=23\n",
      "8-th fold: ch acc = 0.6086956262588501, en acc = 0.782608687877655\n",
      "training set size=214, test set size=23\n",
      "9-th fold: ch acc = 0.695652186870575, en acc = 0.5652173757553101\n",
      "average ch acc = 0.6619564890861511, average en acc = 0.6291666626930237\n"
     ]
    }
   ],
   "source": [
    "model_ch, model_en = train_and_test_k_fold_cross_val(filter_mode=\"percentile\", filter_val=30, \n",
    "                                                     hidden_num=3, dropout_p=0.1, lr=0.5, epoch_num=1000, debug_mode=False)"
   ]
  },
  {
   "cell_type": "markdown",
   "metadata": {},
   "source": [
    "### 10 layer, dropout = 0.1"
   ]
  },
  {
   "cell_type": "code",
   "execution_count": 9,
   "metadata": {},
   "outputs": [
    {
     "name": "stdout",
     "output_type": "stream",
     "text": [
      "filtering data by percentile\n",
      "training set size=213, test set size=24\n",
      "0-th fold: ch acc = 0.4583333432674408, en acc = 0.75\n",
      "training set size=213, test set size=24\n",
      "1-th fold: ch acc = 0.5833333134651184, en acc = 0.4583333432674408\n",
      "training set size=213, test set size=24\n",
      "2-th fold: ch acc = 0.5416666865348816, en acc = 0.2916666567325592\n",
      "training set size=213, test set size=24\n",
      "3-th fold: ch acc = 0.625, en acc = 0.6666666865348816\n",
      "training set size=213, test set size=24\n",
      "4-th fold: ch acc = 0.75, en acc = 0.6666666865348816\n",
      "training set size=213, test set size=24\n",
      "5-th fold: ch acc = 0.6666666865348816, en acc = 0.75\n",
      "training set size=213, test set size=24\n",
      "6-th fold: ch acc = 0.75, en acc = 0.7083333134651184\n",
      "training set size=214, test set size=23\n",
      "7-th fold: ch acc = 0.782608687877655, en acc = 0.695652186870575\n",
      "training set size=214, test set size=23\n",
      "8-th fold: ch acc = 0.695652186870575, en acc = 0.6086956262588501\n",
      "training set size=214, test set size=23\n",
      "9-th fold: ch acc = 0.6521739363670349, en acc = 0.5652173757553101\n",
      "average ch acc = 0.6505434513092041, average en acc = 0.6161231994628906\n"
     ]
    }
   ],
   "source": [
    "model_ch, model_en = train_and_test_k_fold_cross_val(filter_mode=\"percentile\", filter_val=30, \n",
    "                                                     hidden_num=10, dropout_p=0.1, lr=0.5, epoch_num=1000, debug_mode=False)"
   ]
  },
  {
   "cell_type": "markdown",
   "metadata": {},
   "source": [
    "### check \"very different\""
   ]
  },
  {
   "cell_type": "markdown",
   "metadata": {},
   "source": [
    "### get {id : (ch_label, en_label)}"
   ]
  },
  {
   "cell_type": "code",
   "execution_count": 10,
   "metadata": {},
   "outputs": [
    {
     "name": "stdout",
     "output_type": "stream",
     "text": [
      "filtering data by percentile\n",
      "training set size=213, test set size=24\n",
      "0-th fold: ch acc = 0.5, en acc = 0.5833333134651184\n",
      "training set size=213, test set size=24\n",
      "1-th fold: ch acc = 0.4583333432674408, en acc = 0.5833333134651184\n",
      "training set size=213, test set size=24\n",
      "2-th fold: ch acc = 0.5833333134651184, en acc = 0.6666666865348816\n",
      "training set size=213, test set size=24\n",
      "3-th fold: ch acc = 0.5833333134651184, en acc = 0.625\n",
      "training set size=213, test set size=24\n",
      "4-th fold: ch acc = 0.6666666865348816, en acc = 0.75\n",
      "training set size=213, test set size=24\n",
      "5-th fold: ch acc = 0.7083333134651184, en acc = 0.7083333134651184\n",
      "training set size=213, test set size=24\n",
      "6-th fold: ch acc = 0.7916666865348816, en acc = 0.5416666865348816\n",
      "training set size=214, test set size=23\n",
      "7-th fold: ch acc = 0.6521739363670349, en acc = 0.6086956262588501\n",
      "training set size=214, test set size=23\n",
      "8-th fold: ch acc = 0.695652186870575, en acc = 0.6521739363670349\n",
      "training set size=214, test set size=23\n",
      "9-th fold: ch acc = 0.6521739363670349, en acc = 0.6086956262588501\n",
      "average ch acc = 0.6291666626930237, average en acc = 0.6327897906303406\n"
     ]
    }
   ],
   "source": [
    "# using 1 layer, dropout = None\n",
    "\n",
    "model_ch, model_en = train_and_test_k_fold_cross_val(filter_mode=\"percentile\", filter_val=30, \n",
    "                                                     hidden_num=1, dropout_p=None, lr=0.5, epoch_num=1000, debug_mode=False)"
   ]
  },
  {
   "cell_type": "code",
   "execution_count": 11,
   "metadata": {},
   "outputs": [],
   "source": [
    "def get_pred(model, X_test):\n",
    "    model.eval()\n",
    "    test_size, input_dim = X_test.shape\n",
    "    inputs = torch.tensor(X_test).float()\n",
    "    pred_vals, pred_labels  = model(inputs)\n",
    "    return pred_labels.detach().numpy().tolist()"
   ]
  },
  {
   "cell_type": "code",
   "execution_count": 12,
   "metadata": {},
   "outputs": [],
   "source": [
    "arr = data_reader.read()\n",
    "X = arr[:, :-2]\n",
    "Y = arr[:, -2:]\n",
    "\n",
    "pred_ch = get_pred(model_ch, X)\n",
    "pred_en = get_pred(model_en, X)\n",
    "very_diff_id_pred = set([i for i in range(len(pred_ch)) if pred_ch[i] != pred_en[i]])"
   ]
  },
  {
   "cell_type": "markdown",
   "metadata": {},
   "source": [
    "### compare to \"label_d_z\""
   ]
  },
  {
   "cell_type": "code",
   "execution_count": 13,
   "metadata": {},
   "outputs": [],
   "source": [
    "import pandas as pd\n",
    "df = pd.read_csv(\"../pol600withLabel.csv\", encoding=\"utf-8\", index_col=2)\n",
    "label_d_z = df[\"label_d_z\"]"
   ]
  },
  {
   "cell_type": "code",
   "execution_count": 14,
   "metadata": {},
   "outputs": [],
   "source": [
    "very_diff_id_label = set([i for i in range(len(label_d_z)) if label_d_z.get(i) == 1])"
   ]
  },
  {
   "cell_type": "code",
   "execution_count": 15,
   "metadata": {},
   "outputs": [
    {
     "name": "stdout",
     "output_type": "stream",
     "text": [
      "0.825 0.6022727272727273 0.6962579617834396\n"
     ]
    }
   ],
   "source": [
    "p = len(very_diff_id_pred - very_diff_id_label) / len(very_diff_id_pred)\n",
    "r = len(very_diff_id_label - very_diff_id_pred) / len(very_diff_id_label)\n",
    "f = 2*p*r / (p+r)\n",
    "print(p, r, f)"
   ]
  },
  {
   "cell_type": "code",
   "execution_count": 16,
   "metadata": {},
   "outputs": [
    {
     "data": {
      "text/plain": [
       "200"
      ]
     },
     "execution_count": 16,
     "metadata": {},
     "output_type": "execute_result"
    }
   ],
   "source": [
    "len(very_diff_id_pred)"
   ]
  },
  {
   "cell_type": "code",
   "execution_count": null,
   "metadata": {},
   "outputs": [],
   "source": []
  }
 ],
 "metadata": {
  "kernelspec": {
   "display_name": "Python [conda env:Anaconda3]",
   "language": "python",
   "name": "conda-env-Anaconda3-py"
  },
  "language_info": {
   "codemirror_mode": {
    "name": "ipython",
    "version": 3
   },
   "file_extension": ".py",
   "mimetype": "text/x-python",
   "name": "python",
   "nbconvert_exporter": "python",
   "pygments_lexer": "ipython3",
   "version": "3.6.5"
  }
 },
 "nbformat": 4,
 "nbformat_minor": 2
}
