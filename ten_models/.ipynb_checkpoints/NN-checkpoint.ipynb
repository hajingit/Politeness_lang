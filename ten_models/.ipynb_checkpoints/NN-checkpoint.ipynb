{
 "cells": [
  {
   "cell_type": "code",
   "execution_count": 1,
   "metadata": {},
   "outputs": [],
   "source": [
    "import math\n",
    "import random\n",
    "import os\n",
    "from pathlib import Path \n",
    "import time\n",
    "from tqdm import tqdm\n",
    "\n",
    "from sklearn.model_selection import train_test_split\n",
    "\n",
    "import data_reader\n",
    "import pickle\n",
    "\n",
    "import torch\n",
    "import torch.nn as nn\n",
    "import torch.nn.functional as F\n",
    "import torch.optim as optim"
   ]
  },
  {
   "cell_type": "markdown",
   "metadata": {},
   "source": [
    "### define model"
   ]
  },
  {
   "cell_type": "code",
   "execution_count": 15,
   "metadata": {},
   "outputs": [],
   "source": [
    "class NNClassifier(nn.Module):\n",
    "    def __init__(self, hidden_num=1, dropout_p=None,\n",
    "                 input_dim=174, hidden_dim=128, class_num=2):\n",
    "        super(NNClassifier, self).__init__()\n",
    "        # loss\n",
    "        self.loss = nn.CrossEntropyLoss()\n",
    "        # hidden-hidden fcs\n",
    "        self.hiddens = [nn.Linear(input_dim, hidden_dim) for _ in range(hidden_num-1)]\n",
    "        # insert input-hidden fc\n",
    "        self.hiddens.insert(0, nn.Linear(input_dim, hidden_dim))\n",
    "        # dropout layers\n",
    "        self.dropout_p = dropout_p\n",
    "        if dropout_p is not None:\n",
    "            self.drops = [nn.Dropout(p=dropout_p) for _ in range(hidden_num)]\n",
    "        # output layer\n",
    "        self.out = nn.Linear(hidden_dim, class_num)\n",
    "        # dropout\n",
    "        \n",
    "        \n",
    "    def forward(self, x):\n",
    "        for i in range(len(self.hiddens)):\n",
    "            x = F.relu(self.hiddens[i](x))\n",
    "            if self.dropout_p is not None:\n",
    "                x = self.drops[i](x)\n",
    "        x = self.out(x)\n",
    "        x = x.squeeze()\n",
    "        val, idx = torch.max(x, dim=1)\n",
    "        return x, idx\n",
    "    \n",
    "    def compute_loss(self, pred_vec, gold_vec):\n",
    "        return self.loss(pred_vec, gold_vec)"
   ]
  },
  {
   "cell_type": "markdown",
   "metadata": {},
   "source": [
    "### wrap-up"
   ]
  },
  {
   "cell_type": "code",
   "execution_count": 16,
   "metadata": {},
   "outputs": [],
   "source": [
    "def make_a_try(X_train, X_test, Y_train, Y_test,\n",
    "               hidden_num, dropout_p, lr, epoch_num,\n",
    "               label_index, debug_mode=True):\n",
    "    debug_report_seg = epoch_num // 10\n",
    "    train_size, input_dim = X_train.shape\n",
    "    model = NNClassifier(input_dim=input_dim, dropout_p=dropout_p)\n",
    "    optimizer = optim.SGD(model.parameters(), lr=0.5)\n",
    "    #optim.Adam(model.parameters())\n",
    "    optimizer.zero_grad()\n",
    "    model.train()\n",
    "    start_train = time.time()\n",
    "    for epoch in range(epoch_num):\n",
    "        optimizer.zero_grad()\n",
    "        inputs = torch.tensor(X_train).float()\n",
    "        golds  = torch.tensor(Y_train[:,label_index]).long()\n",
    "        pred_vals, pred_labels  = model(inputs)\n",
    "\n",
    "        loss = model.compute_loss(pred_vals, golds)\n",
    "\n",
    "        if debug_mode and epoch % debug_report_seg == 0:\n",
    "            acc = golds.eq(pred_labels).sum().float() / train_size\n",
    "            print(\"epoch {}, loss = {}, acc = {}\".format(epoch, loss, acc))\n",
    "\n",
    "        loss.backward()\n",
    "        optimizer.step()\n",
    "\n",
    "    acc = golds.eq(pred_labels).sum().float() / train_size\n",
    "    print(\"training: loss = {}, acc = {}\".format(loss, acc))\n",
    "\n",
    "    model.eval()\n",
    "    test_size, input_dim = X_test.shape\n",
    "    inputs = torch.tensor(X_test).float()\n",
    "    golds  = torch.tensor(Y_test[:,label_index]).long()\n",
    "    pred_vals, pred_labels  = model(inputs)\n",
    "    loss = model.compute_loss(pred_vals, golds)\n",
    "    acc = golds.eq(pred_labels).sum().float() / test_size\n",
    "    print(\"test: loss = {}, acc = {}\".format(loss, acc))\n",
    "    \n",
    "    return model\n",
    "    "
   ]
  },
  {
   "cell_type": "markdown",
   "metadata": {},
   "source": [
    "### get data"
   ]
  },
  {
   "cell_type": "code",
   "execution_count": 24,
   "metadata": {},
   "outputs": [],
   "source": [
    "arr = data_reader.read()\n",
    "X = arr[:, :-2]\n",
    "Y = arr[:, -2:]\n",
    "X_train, X_test, Y_train, Y_test = \\\n",
    "train_test_split(X, Y, test_size=0.20)\n",
    "\n",
    "Y_train = (Y_train >= 0).astype(int)\n",
    "Y_test = (Y_test >= 0).astype(int)"
   ]
  },
  {
   "cell_type": "markdown",
   "metadata": {},
   "source": [
    "### 1 layer, no dropout"
   ]
  },
  {
   "cell_type": "code",
   "execution_count": 25,
   "metadata": {},
   "outputs": [
    {
     "name": "stdout",
     "output_type": "stream",
     "text": [
      "=== ch ===\n",
      "training: loss = 0.504767656326294, acc = 0.7562500238418579\n",
      "test: loss = 0.6335274577140808, acc = 0.6083333492279053\n",
      "=== en ===\n",
      "training: loss = 0.5216554999351501, acc = 0.7666666507720947\n",
      "test: loss = 0.6378623843193054, acc = 0.6416666507720947\n"
     ]
    }
   ],
   "source": [
    "print(\"=== ch ===\")\n",
    "model_ch = make_a_try(X_train, X_test, Y_train, Y_test,\n",
    "           hidden_num=1, dropout_p=None, lr=0.5, epoch_num=1000,\n",
    "           label_index=0, debug_mode=False)\n",
    "print(\"=== en ===\")\n",
    "model_en = make_a_try(X_train, X_test, Y_train, Y_test,\n",
    "           hidden_num=1, dropout_p=None, lr=0.5, epoch_num=1000,\n",
    "           label_index=1, debug_mode=False)"
   ]
  },
  {
   "cell_type": "markdown",
   "metadata": {},
   "source": [
    "### 3 layer, no dropout"
   ]
  },
  {
   "cell_type": "code",
   "execution_count": 26,
   "metadata": {},
   "outputs": [
    {
     "name": "stdout",
     "output_type": "stream",
     "text": [
      "=== ch ===\n",
      "training: loss = 0.50938481092453, acc = 0.7437499761581421\n",
      "test: loss = 0.6388960480690002, acc = 0.625\n",
      "=== en ===\n",
      "training: loss = 0.5255638360977173, acc = 0.75\n",
      "test: loss = 0.6120477914810181, acc = 0.6333333253860474\n"
     ]
    }
   ],
   "source": [
    "print(\"=== ch ===\")\n",
    "model_ch = make_a_try(X_train, X_test, Y_train, Y_test,\n",
    "           hidden_num=3, dropout_p=None, lr=0.5, epoch_num=1000,\n",
    "           label_index=0, debug_mode=False)\n",
    "print(\"=== en ===\")\n",
    "model_en = make_a_try(X_train, X_test, Y_train, Y_test,\n",
    "           hidden_num=3, dropout_p=None, lr=0.5, epoch_num=1000,\n",
    "           label_index=1, debug_mode=False)"
   ]
  },
  {
   "cell_type": "markdown",
   "metadata": {},
   "source": [
    "### 1 layer, dropout = 0.1"
   ]
  },
  {
   "cell_type": "code",
   "execution_count": 27,
   "metadata": {},
   "outputs": [
    {
     "name": "stdout",
     "output_type": "stream",
     "text": [
      "=== ch ===\n",
      "training: loss = 0.5388618111610413, acc = 0.7354166507720947\n",
      "test: loss = 0.6657676696777344, acc = 0.625\n",
      "=== en ===\n",
      "training: loss = 0.5558121800422668, acc = 0.7208333611488342\n",
      "test: loss = 0.6555418372154236, acc = 0.6416666507720947\n"
     ]
    }
   ],
   "source": [
    "print(\"=== ch ===\")\n",
    "model_ch = make_a_try(X_train, X_test, Y_train, Y_test,\n",
    "           hidden_num=1, dropout_p=0.1, lr=0.5, epoch_num=1000,\n",
    "           label_index=0, debug_mode=False)\n",
    "print(\"=== en ===\")\n",
    "model_en = make_a_try(X_train, X_test, Y_train, Y_test,\n",
    "           hidden_num=1, dropout_p=0.1, lr=0.5, epoch_num=1000,\n",
    "           label_index=1, debug_mode=False)"
   ]
  },
  {
   "cell_type": "markdown",
   "metadata": {},
   "source": [
    "### 3 layer, dropout = 0.1"
   ]
  },
  {
   "cell_type": "code",
   "execution_count": 30,
   "metadata": {},
   "outputs": [
    {
     "name": "stdout",
     "output_type": "stream",
     "text": [
      "=== ch ===\n",
      "training: loss = 0.5323885679244995, acc = 0.7250000238418579\n",
      "test: loss = 0.6230989098548889, acc = 0.6666666865348816\n",
      "=== en ===\n",
      "training: loss = 0.5378192663192749, acc = 0.7604166865348816\n",
      "test: loss = 0.6759698390960693, acc = 0.5833333134651184\n"
     ]
    }
   ],
   "source": [
    "print(\"=== ch ===\")\n",
    "model_ch = make_a_try(X_train, X_test, Y_train, Y_test,\n",
    "           hidden_num=3, dropout_p=0.1, lr=0.5, epoch_num=1000,\n",
    "           label_index=0, debug_mode=False)\n",
    "print(\"=== en ===\")\n",
    "model_en = make_a_try(X_train, X_test, Y_train, Y_test,\n",
    "           hidden_num=3, dropout_p=0.1, lr=0.5, epoch_num=1000,\n",
    "           label_index=1, debug_mode=False)"
   ]
  },
  {
   "cell_type": "markdown",
   "metadata": {},
   "source": [
    "### 10 layer, dropout = 0.1"
   ]
  },
  {
   "cell_type": "code",
   "execution_count": 31,
   "metadata": {},
   "outputs": [
    {
     "name": "stdout",
     "output_type": "stream",
     "text": [
      "=== ch ===\n",
      "training: loss = 0.5563423037528992, acc = 0.71875\n",
      "test: loss = 0.658924400806427, acc = 0.5583333373069763\n",
      "=== en ===\n",
      "training: loss = 0.5801178216934204, acc = 0.6875\n",
      "test: loss = 0.6768154501914978, acc = 0.6083333492279053\n"
     ]
    }
   ],
   "source": [
    "print(\"=== ch ===\")\n",
    "model_ch = make_a_try(X_train, X_test, Y_train, Y_test,\n",
    "           hidden_num=10, dropout_p=0.1, lr=0.5, epoch_num=1000,\n",
    "           label_index=0, debug_mode=False)\n",
    "print(\"=== en ===\")\n",
    "model_en = make_a_try(X_train, X_test, Y_train, Y_test,\n",
    "           hidden_num=10, dropout_p=0.1, lr=0.5, epoch_num=1000,\n",
    "           label_index=1, debug_mode=False)"
   ]
  },
  {
   "cell_type": "markdown",
   "metadata": {},
   "source": [
    "------\n",
    "## depricated, DO NOT USE"
   ]
  },
  {
   "cell_type": "markdown",
   "metadata": {},
   "source": [
    "### train"
   ]
  },
  {
   "cell_type": "code",
   "execution_count": 174,
   "metadata": {},
   "outputs": [
    {
     "name": "stdout",
     "output_type": "stream",
     "text": [
      "Training CH\n",
      "after training: loss = 0.516764223575592, acc = 0.7416666746139526\n"
     ]
    }
   ],
   "source": [
    "train_size, input_dim = X_train.shape\n",
    "\n",
    "one_layer_nn = NNClassifier(input_dim=input_dim)\n",
    "optimizer = optim.SGD(one_layer_nn.parameters(), lr=0.5)\n",
    "#optim.Adam(one_layer_nn.parameters())\n",
    "optimizer.zero_grad()\n",
    "\n",
    "\n",
    "#print(\"Training CH\")\n",
    "\n",
    "label_index = 0\n",
    "\n",
    "one_layer_nn.train()\n",
    "start_train = time.time()\n",
    "for epoch in range(1000):\n",
    "    \n",
    "    optimizer.zero_grad()\n",
    "    inputs = torch.tensor(X_train).float()\n",
    "    golds  = torch.tensor(Y_train[:,0]).long()\n",
    "    pred_vals, pred_labels  = one_layer_nn(inputs)\n",
    "    \n",
    "    loss = one_layer_nn.compute_loss(pred_vals, golds)\n",
    "\n",
    "#     if epoch % 100 == 0:\n",
    "#         acc = golds.eq(pred_labels).sum().float() / train_size\n",
    "#         print(\"epoch {}, loss = {}, acc = {}\".format(epoch, loss, acc))\n",
    "\n",
    "    loss.backward()\n",
    "    optimizer.step()\n",
    "\n",
    "acc = golds.eq(pred_labels).sum().float() / train_size\n",
    "print(\"after training: loss = {}, acc = {}\".format(loss, acc))\n",
    "\n",
    "#     if epoch == 900:\n",
    "#         #print(golds)\n",
    "#         #print(torch.cat((preds, preds.ge(0.0).float()), dim=1))\n",
    "#         print(golds.eq(preds.ge(0.0).float()).sum().float() / train_size)\n",
    "    \n",
    "    "
   ]
  },
  {
   "cell_type": "markdown",
   "metadata": {},
   "source": [
    "### test"
   ]
  },
  {
   "cell_type": "code",
   "execution_count": 175,
   "metadata": {},
   "outputs": [
    {
     "name": "stdout",
     "output_type": "stream",
     "text": [
      "tensor(0.6565, grad_fn=<NllLossBackward>) tensor(0.6083)\n"
     ]
    }
   ],
   "source": [
    "one_layer_nn.eval()\n",
    "\n",
    "test_size, input_dim = X_test.shape\n",
    "\n",
    "inputs = torch.tensor(X_test).float()\n",
    "golds  = torch.tensor(Y_test[:,0]).long()\n",
    "pred_vals, pred_labels  = one_layer_nn(inputs)\n",
    "\n",
    "loss = one_layer_nn.compute_loss(pred_vals, golds)\n",
    "acc = golds.eq(pred_labels).sum().float() / test_size\n",
    "\n",
    "print(loss, acc)"
   ]
  },
  {
   "cell_type": "code",
   "execution_count": null,
   "metadata": {},
   "outputs": [],
   "source": []
  },
  {
   "cell_type": "code",
   "execution_count": 4,
   "metadata": {},
   "outputs": [],
   "source": [
    "class DropOutNN(nn.Module):\n",
    "    def __init__(self, input_dim=174, hidden_dim=128, output_dim=1):\n",
    "        super(DropOutNN, self).__init__()\n",
    "        self.fc1 = nn.Linear(input_dim, hidden_dim)\n",
    "        self.drop = nn.Dropout(p=0.1)\n",
    "        self.fc2 = nn.Linear(hidden_dim, output_dim)\n",
    "        \n",
    "    def forward(self, x):\n",
    "        x = F.relu(self.fc1(x))\n",
    "        x = self.drop(x)\n",
    "        x = self.fc2(x)\n",
    "        return x\n",
    "\n",
    "    def num_flat_features(self, x):\n",
    "        size = x.size()[1:]  # all dimensions except the batch dimension\n",
    "        num_features = 1\n",
    "        for s in size:\n",
    "            num_features *= s\n",
    "        return num_features        "
   ]
  },
  {
   "cell_type": "code",
   "execution_count": 2,
   "metadata": {},
   "outputs": [],
   "source": [
    "class OneLayerNN(nn.Module):\n",
    "\n",
    "    def __init__(self, input_dim=174, hidden_dim=128, output_dim=1):\n",
    "        super(OneLayerNN, self).__init__()\n",
    "        # an affine operation: y = Wx + b\n",
    "        self.fc1 = nn.Linear(input_dim, hidden_dim)\n",
    "        self.fc2 = nn.Linear(hidden_dim, output_dim)\n",
    "\n",
    "    def forward(self, x):\n",
    "        x = F.relu(self.fc1(x))\n",
    "        x = self.fc2(x)\n",
    "        return x\n",
    "\n",
    "    def num_flat_features(self, x):\n",
    "        size = x.size()[1:]  # all dimensions except the batch dimension\n",
    "        num_features = 1\n",
    "        for s in size:\n",
    "            num_features *= s\n",
    "        return num_features"
   ]
  }
 ],
 "metadata": {
  "kernelspec": {
   "display_name": "Python [conda env:Anaconda3]",
   "language": "python",
   "name": "conda-env-Anaconda3-py"
  },
  "language_info": {
   "codemirror_mode": {
    "name": "ipython",
    "version": 3
   },
   "file_extension": ".py",
   "mimetype": "text/x-python",
   "name": "python",
   "nbconvert_exporter": "python",
   "pygments_lexer": "ipython3",
   "version": "3.6.5"
  }
 },
 "nbformat": 4,
 "nbformat_minor": 2
}
