{
 "cells": [
  {
   "cell_type": "code",
   "execution_count": 8,
   "metadata": {},
   "outputs": [],
   "source": [
    "import math\n",
    "import random\n",
    "import os\n",
    "from pathlib import Path \n",
    "import time\n",
    "from tqdm import tqdm\n",
    "\n",
    "from sklearn.model_selection import train_test_split\n",
    "\n",
    "import data_reader\n",
    "import pickle\n",
    "\n",
    "import torch\n",
    "import torch.nn as nn\n",
    "import torch.nn.functional as F\n",
    "import torch.optim as optim"
   ]
  },
  {
   "cell_type": "markdown",
   "metadata": {},
   "source": [
    "### define model"
   ]
  },
  {
   "cell_type": "code",
   "execution_count": 9,
   "metadata": {},
   "outputs": [],
   "source": [
    "class NNClassifier(nn.Module):\n",
    "    def __init__(self, hidden_num=1, dropout_p=None,\n",
    "                 input_dim=174, hidden_dim=128, class_num=2):\n",
    "        super(NNClassifier, self).__init__()\n",
    "        # loss\n",
    "        self.loss = nn.CrossEntropyLoss()\n",
    "        # hidden-hidden fcs\n",
    "        self.hiddens = [nn.Linear(input_dim, hidden_dim) for _ in range(hidden_num-1)]\n",
    "        # insert input-hidden fc\n",
    "        self.hiddens.insert(0, nn.Linear(input_dim, hidden_dim))\n",
    "        # dropout layers\n",
    "        self.dropout_p = dropout_p\n",
    "        if dropout_p is not None:\n",
    "            self.drops = [nn.Dropout(p=dropout_p) for _ in range(hidden_num)]\n",
    "        # output layer\n",
    "        self.out = nn.Linear(hidden_dim, class_num)\n",
    "        # dropout\n",
    "        \n",
    "        \n",
    "    def forward(self, x):\n",
    "        for i in range(len(self.hiddens)):\n",
    "            x = F.relu(self.hiddens[i](x))\n",
    "            if self.dropout_p is not None:\n",
    "                x = self.drops[i](x)\n",
    "        x = self.out(x)\n",
    "        x = x.squeeze()\n",
    "        val, idx = torch.max(x, dim=1)\n",
    "        return x, idx\n",
    "    \n",
    "    def compute_loss(self, pred_vec, gold_vec):\n",
    "        return self.loss(pred_vec, gold_vec)"
   ]
  },
  {
   "cell_type": "markdown",
   "metadata": {},
   "source": [
    "### wrap-up"
   ]
  },
  {
   "cell_type": "code",
   "execution_count": 10,
   "metadata": {},
   "outputs": [],
   "source": [
    "def make_a_try(X_train, X_test, Y_train, Y_test,\n",
    "               hidden_num, dropout_p, lr, epoch_num,\n",
    "               label_index, debug_mode=True):\n",
    "    debug_report_seg = epoch_num // 10\n",
    "    train_size, input_dim = X_train.shape\n",
    "    model = NNClassifier(input_dim=input_dim, dropout_p=dropout_p)\n",
    "    optimizer = optim.SGD(model.parameters(), lr=0.5)\n",
    "    #optim.Adam(model.parameters())\n",
    "    optimizer.zero_grad()\n",
    "    model.train()\n",
    "    start_train = time.time()\n",
    "    for epoch in range(epoch_num):\n",
    "        optimizer.zero_grad()\n",
    "        inputs = torch.tensor(X_train).float()\n",
    "        golds  = torch.tensor(Y_train[:,label_index]).long()\n",
    "        pred_vals, pred_labels  = model(inputs)\n",
    "        \n",
    "        if debug_mode:\n",
    "            print(golds)\n",
    "            debug_mode=False\n",
    "\n",
    "        loss = model.compute_loss(pred_vals, golds)\n",
    "\n",
    "        if debug_mode and epoch % debug_report_seg == 0:\n",
    "            acc = golds.eq(pred_labels).sum().float() / train_size\n",
    "            print(\"epoch {}, loss = {}, acc = {}\".format(epoch, loss, acc))\n",
    "\n",
    "        loss.backward()\n",
    "        optimizer.step()\n",
    "\n",
    "    acc = golds.eq(pred_labels).sum().float() / train_size\n",
    "    print(\"training: loss = {}, acc = {}\".format(loss, acc))\n",
    "\n",
    "    model.eval()\n",
    "    test_size, input_dim = X_test.shape\n",
    "    inputs = torch.tensor(X_test).float()\n",
    "    golds  = torch.tensor(Y_test[:,label_index]).long()\n",
    "    pred_vals, pred_labels  = model(inputs)\n",
    "    loss = model.compute_loss(pred_vals, golds)\n",
    "    acc = golds.eq(pred_labels).sum().float() / test_size\n",
    "    print(\"test: loss = {}, acc = {}\".format(loss, acc))\n",
    "    \n",
    "    return model\n",
    "    "
   ]
  },
  {
   "cell_type": "markdown",
   "metadata": {},
   "source": [
    "### get data"
   ]
  },
  {
   "cell_type": "code",
   "execution_count": 11,
   "metadata": {},
   "outputs": [],
   "source": [
    "arr = data_reader.read()\n",
    "X = arr[:, :-2]\n",
    "Y = arr[:, -2:]\n",
    "X_train, X_test, Y_train, Y_test = \\\n",
    "train_test_split(X, Y, test_size=0.20)\n",
    "\n",
    "Y_train = (Y_train >= 0).astype(int)\n",
    "Y_test = (Y_test >= 0).astype(int)"
   ]
  },
  {
   "cell_type": "markdown",
   "metadata": {},
   "source": [
    "### 1 layer, no dropout"
   ]
  },
  {
   "cell_type": "code",
   "execution_count": 12,
   "metadata": {},
   "outputs": [
    {
     "name": "stdout",
     "output_type": "stream",
     "text": [
      "=== ch ===\n",
      "tensor([1, 0, 1, 1, 0, 0, 1, 1, 1, 1, 0, 1, 0, 0, 1, 1, 0, 0, 0, 0, 1, 1, 0, 0,\n",
      "        0, 1, 1, 1, 1, 1, 1, 0, 1, 1, 1, 0, 0, 1, 0, 1, 0, 1, 0, 1, 0, 0, 1, 0,\n",
      "        1, 0, 0, 0, 0, 1, 0, 1, 1, 0, 0, 0, 1, 0, 1, 0, 0, 0, 1, 0, 0, 1, 0, 0,\n",
      "        1, 1, 0, 0, 0, 0, 1, 0, 1, 0, 1, 1, 1, 0, 0, 0, 1, 1, 0, 0, 0, 0, 1, 1,\n",
      "        0, 1, 0, 1, 1, 0, 1, 0, 1, 1, 1, 1, 1, 1, 1, 1, 1, 0, 0, 0, 1, 1, 0, 0,\n",
      "        0, 0, 0, 0, 1, 0, 1, 0, 0, 0, 1, 0, 1, 0, 0, 0, 1, 0, 0, 0, 1, 1, 1, 0,\n",
      "        0, 1, 1, 1, 1, 0, 1, 1, 1, 0, 1, 1, 0, 1, 0, 0, 0, 0, 1, 0, 0, 0, 1, 1,\n",
      "        1, 1, 1, 1, 1, 0, 1, 1, 1, 0, 1, 1, 1, 0, 0, 1, 0, 0, 0, 0, 0, 1, 0, 1,\n",
      "        0, 0, 1, 0, 1, 1, 0, 0, 1, 1, 0, 1, 1, 1, 1, 1, 0, 1, 1, 0, 0, 0, 0, 1,\n",
      "        0, 0, 0, 1, 1, 0, 0, 0, 1, 1, 0, 1, 0, 1, 1, 0, 0, 0, 0, 1, 0, 1, 0, 1,\n",
      "        0, 1, 1, 0, 0, 1, 0, 0, 0, 1, 1, 0, 0, 1, 1, 0, 1, 0, 0, 0, 1, 0, 1, 1,\n",
      "        1, 1, 1, 1, 0, 0, 0, 0, 1, 0, 1, 1, 1, 0, 0, 1, 0, 1, 0, 0, 1, 1, 1, 1,\n",
      "        0, 0, 1, 1, 1, 1, 0, 1, 0, 0, 1, 0, 1, 1, 0, 1, 1, 1, 1, 1, 1, 1, 0, 0,\n",
      "        0, 0, 0, 1, 0, 0, 0, 0, 1, 1, 1, 1, 1, 1, 0, 1, 1, 0, 0, 1, 0, 1, 1, 1,\n",
      "        0, 0, 0, 1, 1, 0, 0, 1, 1, 0, 0, 0, 1, 0, 1, 0, 1, 1, 1, 0, 0, 0, 1, 0,\n",
      "        1, 1, 1, 1, 1, 0, 1, 1, 1, 0, 1, 1, 1, 0, 0, 0, 1, 1, 1, 1, 1, 1, 0, 1,\n",
      "        1, 0, 0, 0, 0, 0, 1, 1, 1, 0, 0, 1, 0, 0, 1, 1, 0, 0, 0, 0, 1, 0, 1, 1,\n",
      "        0, 0, 0, 0, 0, 0, 1, 0, 0, 0, 0, 0, 0, 1, 1, 0, 1, 0, 0, 0, 0, 1, 0, 1,\n",
      "        0, 1, 1, 1, 1, 0, 0, 1, 1, 0, 0, 1, 1, 0, 0, 1, 1, 1, 0, 0, 0, 0, 1, 0,\n",
      "        1, 1, 1, 1, 1, 1, 0, 0, 0, 0, 0, 0, 1, 0, 0, 0, 0, 0, 1, 0, 1, 1, 0, 1])\n",
      "training: loss = 0.5083088278770447, acc = 0.7666666507720947\n",
      "test: loss = 0.6754599213600159, acc = 0.6166666746139526\n",
      "=== en ===\n",
      "training: loss = 0.490683913230896, acc = 0.7604166865348816\n",
      "test: loss = 0.6524554491043091, acc = 0.6499999761581421\n"
     ]
    }
   ],
   "source": [
    "print(\"=== ch ===\")\n",
    "model_ch = make_a_try(X_train, X_test, Y_train, Y_test,\n",
    "           hidden_num=1, dropout_p=None, lr=0.5, epoch_num=1000,\n",
    "           label_index=0, debug_mode=True)\n",
    "print(\"=== en ===\")\n",
    "model_en = make_a_try(X_train, X_test, Y_train, Y_test,\n",
    "           hidden_num=1, dropout_p=None, lr=0.5, epoch_num=1000,\n",
    "           label_index=1, debug_mode=False)"
   ]
  },
  {
   "cell_type": "markdown",
   "metadata": {},
   "source": [
    "### 3 layer, no dropout"
   ]
  },
  {
   "cell_type": "code",
   "execution_count": 6,
   "metadata": {},
   "outputs": [
    {
     "name": "stdout",
     "output_type": "stream",
     "text": [
      "=== ch ===\n",
      "training: loss = 0.48813948035240173, acc = 0.7583333253860474\n",
      "test: loss = 0.6759177446365356, acc = 0.6333333253860474\n",
      "=== en ===\n",
      "training: loss = 0.5077177882194519, acc = 0.7458333373069763\n",
      "test: loss = 0.7061546444892883, acc = 0.574999988079071\n"
     ]
    }
   ],
   "source": [
    "print(\"=== ch ===\")\n",
    "model_ch = make_a_try(X_train, X_test, Y_train, Y_test,\n",
    "           hidden_num=3, dropout_p=None, lr=0.5, epoch_num=1000,\n",
    "           label_index=0, debug_mode=False)\n",
    "print(\"=== en ===\")\n",
    "model_en = make_a_try(X_train, X_test, Y_train, Y_test,\n",
    "           hidden_num=3, dropout_p=None, lr=0.5, epoch_num=1000,\n",
    "           label_index=1, debug_mode=False)"
   ]
  },
  {
   "cell_type": "markdown",
   "metadata": {},
   "source": [
    "### 1 layer, dropout = 0.1"
   ]
  },
  {
   "cell_type": "code",
   "execution_count": 7,
   "metadata": {},
   "outputs": [
    {
     "name": "stdout",
     "output_type": "stream",
     "text": [
      "=== ch ===\n",
      "training: loss = 0.516624927520752, acc = 0.7541666626930237\n",
      "test: loss = 0.6964011788368225, acc = 0.6416666507720947\n",
      "=== en ===\n",
      "training: loss = 0.5272605419158936, acc = 0.7354166507720947\n",
      "test: loss = 0.7110181450843811, acc = 0.5916666388511658\n"
     ]
    }
   ],
   "source": [
    "print(\"=== ch ===\")\n",
    "model_ch = make_a_try(X_train, X_test, Y_train, Y_test,\n",
    "           hidden_num=1, dropout_p=0.1, lr=0.5, epoch_num=1000,\n",
    "           label_index=0, debug_mode=False)\n",
    "print(\"=== en ===\")\n",
    "model_en = make_a_try(X_train, X_test, Y_train, Y_test,\n",
    "           hidden_num=1, dropout_p=0.1, lr=0.5, epoch_num=1000,\n",
    "           label_index=1, debug_mode=False)"
   ]
  },
  {
   "cell_type": "markdown",
   "metadata": {},
   "source": [
    "### 3 layer, dropout = 0.1"
   ]
  },
  {
   "cell_type": "code",
   "execution_count": 8,
   "metadata": {},
   "outputs": [
    {
     "name": "stdout",
     "output_type": "stream",
     "text": [
      "=== ch ===\n",
      "training: loss = 0.5135113596916199, acc = 0.7645833492279053\n",
      "test: loss = 0.7103562951087952, acc = 0.6499999761581421\n",
      "=== en ===\n",
      "training: loss = 0.5278018712997437, acc = 0.7437499761581421\n",
      "test: loss = 0.6936649680137634, acc = 0.5833333134651184\n"
     ]
    }
   ],
   "source": [
    "print(\"=== ch ===\")\n",
    "model_ch = make_a_try(X_train, X_test, Y_train, Y_test,\n",
    "           hidden_num=3, dropout_p=0.1, lr=0.5, epoch_num=1000,\n",
    "           label_index=0, debug_mode=False)\n",
    "print(\"=== en ===\")\n",
    "model_en = make_a_try(X_train, X_test, Y_train, Y_test,\n",
    "           hidden_num=3, dropout_p=0.1, lr=0.5, epoch_num=1000,\n",
    "           label_index=1, debug_mode=False)"
   ]
  },
  {
   "cell_type": "markdown",
   "metadata": {},
   "source": [
    "### 10 layer, dropout = 0.1"
   ]
  },
  {
   "cell_type": "code",
   "execution_count": 9,
   "metadata": {},
   "outputs": [
    {
     "name": "stdout",
     "output_type": "stream",
     "text": [
      "=== ch ===\n",
      "training: loss = 0.5167195200920105, acc = 0.737500011920929\n",
      "test: loss = 0.6822354793548584, acc = 0.6166666746139526\n",
      "=== en ===\n",
      "training: loss = 0.5232189297676086, acc = 0.7583333253860474\n",
      "test: loss = 0.7480103373527527, acc = 0.6083333492279053\n"
     ]
    }
   ],
   "source": [
    "print(\"=== ch ===\")\n",
    "model_ch = make_a_try(X_train, X_test, Y_train, Y_test,\n",
    "           hidden_num=10, dropout_p=0.1, lr=0.5, epoch_num=1000,\n",
    "           label_index=0, debug_mode=False)\n",
    "print(\"=== en ===\")\n",
    "model_en = make_a_try(X_train, X_test, Y_train, Y_test,\n",
    "           hidden_num=10, dropout_p=0.1, lr=0.5, epoch_num=1000,\n",
    "           label_index=1, debug_mode=False)"
   ]
  },
  {
   "cell_type": "markdown",
   "metadata": {},
   "source": [
    "----"
   ]
  },
  {
   "cell_type": "markdown",
   "metadata": {},
   "source": [
    "## check \"very different\""
   ]
  },
  {
   "cell_type": "markdown",
   "metadata": {},
   "source": [
    "### get {id : (ch_label, en_label)}"
   ]
  },
  {
   "cell_type": "code",
   "execution_count": 10,
   "metadata": {},
   "outputs": [
    {
     "name": "stdout",
     "output_type": "stream",
     "text": [
      "=== training ch ===\n",
      "training: loss = 0.5242159962654114, acc = 0.7333333492279053\n",
      "test: loss = 0.7151191234588623, acc = 0.6166666746139526\n",
      "=== training en ===\n",
      "training: loss = 0.5276638865470886, acc = 0.7541666626930237\n",
      "test: loss = 0.6732989549636841, acc = 0.6083333492279053\n"
     ]
    }
   ],
   "source": [
    "# using 1 layer, dropout = 0.1\n",
    "\n",
    "print(\"=== training ch ===\")\n",
    "model_ch = make_a_try(X_train, X_test, Y_train, Y_test,\n",
    "           hidden_num=1, dropout_p=0.1, lr=0.5, epoch_num=1000,\n",
    "           label_index=0, debug_mode=False)\n",
    "print(\"=== training en ===\")\n",
    "model_en = make_a_try(X_train, X_test, Y_train, Y_test,\n",
    "           hidden_num=1, dropout_p=0.1, lr=0.5, epoch_num=1000,\n",
    "           label_index=1, debug_mode=False)"
   ]
  },
  {
   "cell_type": "code",
   "execution_count": 11,
   "metadata": {},
   "outputs": [],
   "source": [
    "def get_pred(model, X_test):\n",
    "    model.eval()\n",
    "    test_size, input_dim = X_test.shape\n",
    "    inputs = torch.tensor(X_test).float()\n",
    "    pred_vals, pred_labels  = model(inputs)\n",
    "    return pred_labels.detach().numpy().tolist()"
   ]
  },
  {
   "cell_type": "code",
   "execution_count": 12,
   "metadata": {},
   "outputs": [],
   "source": [
    "pred_ch = get_pred(model_ch, X)\n",
    "pred_en = get_pred(model_en, X)\n",
    "very_diff_id_pred = set([i for i in range(len(pred_ch)) if pred_ch[i] != pred_en[i]])"
   ]
  },
  {
   "cell_type": "markdown",
   "metadata": {},
   "source": [
    "### compare to \"label_d_z\""
   ]
  },
  {
   "cell_type": "code",
   "execution_count": 13,
   "metadata": {},
   "outputs": [],
   "source": [
    "import pandas as pd\n",
    "df = pd.read_csv(\"../pol600withLabel.csv\", encoding=\"utf-8\", index_col=2)\n",
    "label_d_z = df[\"label_d_z\"]"
   ]
  },
  {
   "cell_type": "code",
   "execution_count": 14,
   "metadata": {},
   "outputs": [],
   "source": [
    "very_diff_id_label = set([i for i in range(len(label_d_z)) if label_d_z.get(i) == 1])"
   ]
  },
  {
   "cell_type": "code",
   "execution_count": 15,
   "metadata": {},
   "outputs": [
    {
     "name": "stdout",
     "output_type": "stream",
     "text": [
      "0.8312236286919831 0.5454545454545454 0.6586792978545556\n"
     ]
    }
   ],
   "source": [
    "p = len(very_diff_id_pred - very_diff_id_label) / len(very_diff_id_pred)\n",
    "r = len(very_diff_id_label - very_diff_id_pred) / len(very_diff_id_label)\n",
    "f = 2*p*r / (p+r)\n",
    "print(p, r, f)"
   ]
  },
  {
   "cell_type": "code",
   "execution_count": 19,
   "metadata": {},
   "outputs": [
    {
     "data": {
      "text/plain": [
       "237"
      ]
     },
     "execution_count": 19,
     "metadata": {},
     "output_type": "execute_result"
    }
   ],
   "source": [
    "len(very_diff_id_pred)"
   ]
  },
  {
   "cell_type": "markdown",
   "metadata": {},
   "source": [
    "------\n",
    "## depricated, DO NOT USE"
   ]
  },
  {
   "cell_type": "markdown",
   "metadata": {},
   "source": [
    "### train"
   ]
  },
  {
   "cell_type": "code",
   "execution_count": 16,
   "metadata": {},
   "outputs": [
    {
     "name": "stdout",
     "output_type": "stream",
     "text": [
      "after training: loss = 0.5002903342247009, acc = 0.75\n"
     ]
    }
   ],
   "source": [
    "train_size, input_dim = X_train.shape\n",
    "\n",
    "one_layer_nn = NNClassifier(input_dim=input_dim)\n",
    "optimizer = optim.SGD(one_layer_nn.parameters(), lr=0.5)\n",
    "#optim.Adam(one_layer_nn.parameters())\n",
    "optimizer.zero_grad()\n",
    "\n",
    "\n",
    "#print(\"Training CH\")\n",
    "\n",
    "label_index = 0\n",
    "\n",
    "one_layer_nn.train()\n",
    "start_train = time.time()\n",
    "for epoch in range(1000):\n",
    "    \n",
    "    optimizer.zero_grad()\n",
    "    inputs = torch.tensor(X_train).float()\n",
    "    golds  = torch.tensor(Y_train[:,0]).long()\n",
    "    pred_vals, pred_labels  = one_layer_nn(inputs)\n",
    "    \n",
    "    loss = one_layer_nn.compute_loss(pred_vals, golds)\n",
    "\n",
    "#     if epoch % 100 == 0:\n",
    "#         acc = golds.eq(pred_labels).sum().float() / train_size\n",
    "#         print(\"epoch {}, loss = {}, acc = {}\".format(epoch, loss, acc))\n",
    "\n",
    "    loss.backward()\n",
    "    optimizer.step()\n",
    "\n",
    "acc = golds.eq(pred_labels).sum().float() / train_size\n",
    "print(\"after training: loss = {}, acc = {}\".format(loss, acc))\n",
    "\n",
    "#     if epoch == 900:\n",
    "#         #print(golds)\n",
    "#         #print(torch.cat((preds, preds.ge(0.0).float()), dim=1))\n",
    "#         print(golds.eq(preds.ge(0.0).float()).sum().float() / train_size)\n",
    "    \n",
    "    "
   ]
  },
  {
   "cell_type": "markdown",
   "metadata": {},
   "source": [
    "### test"
   ]
  },
  {
   "cell_type": "code",
   "execution_count": 175,
   "metadata": {},
   "outputs": [
    {
     "name": "stdout",
     "output_type": "stream",
     "text": [
      "tensor(0.6565, grad_fn=<NllLossBackward>) tensor(0.6083)\n"
     ]
    }
   ],
   "source": [
    "one_layer_nn.eval()\n",
    "\n",
    "test_size, input_dim = X_test.shape\n",
    "\n",
    "inputs = torch.tensor(X_test).float()\n",
    "golds  = torch.tensor(Y_test[:,0]).long()\n",
    "pred_vals, pred_labels  = one_layer_nn(inputs)\n",
    "\n",
    "loss = one_layer_nn.compute_loss(pred_vals, golds)\n",
    "acc = golds.eq(pred_labels).sum().float() / test_size\n",
    "\n",
    "print(loss, acc)"
   ]
  },
  {
   "cell_type": "code",
   "execution_count": null,
   "metadata": {},
   "outputs": [],
   "source": []
  },
  {
   "cell_type": "code",
   "execution_count": 4,
   "metadata": {},
   "outputs": [],
   "source": [
    "class DropOutNN(nn.Module):\n",
    "    def __init__(self, input_dim=174, hidden_dim=128, output_dim=1):\n",
    "        super(DropOutNN, self).__init__()\n",
    "        self.fc1 = nn.Linear(input_dim, hidden_dim)\n",
    "        self.drop = nn.Dropout(p=0.1)\n",
    "        self.fc2 = nn.Linear(hidden_dim, output_dim)\n",
    "        \n",
    "    def forward(self, x):\n",
    "        x = F.relu(self.fc1(x))\n",
    "        x = self.drop(x)\n",
    "        x = self.fc2(x)\n",
    "        return x\n",
    "\n",
    "    def num_flat_features(self, x):\n",
    "        size = x.size()[1:]  # all dimensions except the batch dimension\n",
    "        num_features = 1\n",
    "        for s in size:\n",
    "            num_features *= s\n",
    "        return num_features        "
   ]
  },
  {
   "cell_type": "code",
   "execution_count": 2,
   "metadata": {},
   "outputs": [],
   "source": [
    "class OneLayerNN(nn.Module):\n",
    "\n",
    "    def __init__(self, input_dim=174, hidden_dim=128, output_dim=1):\n",
    "        super(OneLayerNN, self).__init__()\n",
    "        # an affine operation: y = Wx + b\n",
    "        self.fc1 = nn.Linear(input_dim, hidden_dim)\n",
    "        self.fc2 = nn.Linear(hidden_dim, output_dim)\n",
    "\n",
    "    def forward(self, x):\n",
    "        x = F.relu(self.fc1(x))\n",
    "        x = self.fc2(x)\n",
    "        return x\n",
    "\n",
    "    def num_flat_features(self, x):\n",
    "        size = x.size()[1:]  # all dimensions except the batch dimension\n",
    "        num_features = 1\n",
    "        for s in size:\n",
    "            num_features *= s\n",
    "        return num_features"
   ]
  }
 ],
 "metadata": {
  "kernelspec": {
   "display_name": "Python [conda env:Anaconda3]",
   "language": "python",
   "name": "conda-env-Anaconda3-py"
  },
  "language_info": {
   "codemirror_mode": {
    "name": "ipython",
    "version": 3
   },
   "file_extension": ".py",
   "mimetype": "text/x-python",
   "name": "python",
   "nbconvert_exporter": "python",
   "pygments_lexer": "ipython3",
   "version": "3.6.5"
  }
 },
 "nbformat": 4,
 "nbformat_minor": 2
}
