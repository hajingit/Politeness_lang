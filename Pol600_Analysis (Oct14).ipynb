{
 "cells": [
  {
   "cell_type": "markdown",
   "metadata": {},
   "source": [
    "# 1. Data Cleaning"
   ]
  },
  {
   "cell_type": "code",
   "execution_count": 276,
   "metadata": {},
   "outputs": [],
   "source": [
    "import pandas as pd\n",
    "import numpy as np\n",
    "from scipy import stats\n",
    "from sklearn import linear_model\n",
    "import matplotlib.pyplot as plt\n",
    "import nltk as nltk\n",
    "from politeness.api_util import get_scores_strategies_token_indices\n",
    "\n",
    "%matplotlib inline\n",
    "\n",
    "# New Rating data \n",
    "codings=pd.read_csv('PolCodings600.csv', index_col=0, parse_dates=True)\n",
    "\n",
    "headers=list(codings.columns.values)\n",
    "en_headers=[]\n",
    "ch_headers=[]\n",
    "\n",
    "for h in headers:\n",
    "    if h.startswith('EN'):\n",
    "        en_headers.append(h)\n",
    "    elif h.startswith('CH'):\n",
    "        ch_headers.append(h)"
   ]
  },
  {
   "cell_type": "code",
   "execution_count": 227,
   "metadata": {},
   "outputs": [],
   "source": [
    "#calculating z scores by individuals \n",
    "\n",
    "en_headers_zscore=[]\n",
    "ch_headers_zscore=[]\n",
    "\n",
    "for col in en_headers:\n",
    "    col_zscore=col+'_zscore'\n",
    "    codings[col_zscore]=(codings[col]-codings[col].mean())/codings[col].std(ddof=0)\n",
    "    en_headers_zscore.append(col_zscore)\n",
    "    \n",
    "\n",
    "for col in ch_headers:\n",
    "    col_zscore=col+'_zscore'\n",
    "    codings[col_zscore]=(codings[col]-codings[col].mean())/codings[col].std(ddof=0)\n",
    "    ch_headers_zscore.append(col_zscore)\n",
    "\n",
    "# codings.columns.values"
   ]
  },
  {
   "cell_type": "code",
   "execution_count": 228,
   "metadata": {},
   "outputs": [
    {
     "name": "stdout",
     "output_type": "stream",
     "text": [
      "(600,)\n",
      "(600,)\n",
      "[  9.   2.   1.  -1.   2.   3.   0.  nan  nan  nan  nan  nan  nan  nan  nan\n",
      "  nan  nan  nan  nan  nan  nan  nan  nan  nan  nan  nan  nan  nan  nan  nan\n",
      "  nan]\n",
      "[ 1.1412692   0.70613313  0.17653847 -0.47671629  0.38633163  0.80630353\n",
      " -0.25182203         nan         nan         nan         nan         nan\n",
      "         nan         nan         nan         nan         nan         nan\n",
      "         nan         nan         nan         nan         nan         nan\n",
      "         nan         nan         nan         nan         nan         nan\n",
      "         nan]\n",
      "[ 9.  2.  1. -1.  2.  3.  0.]\n",
      "[ 1.1412692   0.70613313  0.17653847 -0.47671629  0.38633163  0.80630353\n",
      " -0.25182203]\n",
      "2.28571428571\n",
      "0.355433947845\n"
     ]
    }
   ],
   "source": [
    "#Get rid of Nan in EN\n",
    "en=codings[en_headers].values\n",
    "en_z=codings[en_headers_zscore].values\n",
    "nonanen=[]\n",
    "nonanen_z=[]\n",
    "\n",
    "for i in range(600):\n",
    "    l= en[i][~np.isnan(en[i])]\n",
    "    k= en_z[i][~np.isnan(en_z[i])]\n",
    "    nonanen.append(l)\n",
    "    nonanen_z.append(k)\n",
    "    \n",
    "print(np.shape(nonanen))\n",
    "print(np.shape(nonanen_z))\n",
    "\n",
    "print(en[599])\n",
    "print(en_z[599])\n",
    "\n",
    "print(nonanen[599])\n",
    "print(nonanen_z[599])\n",
    "\n",
    "ena=np.nanmean(en,axis=1)\n",
    "ena_z=np.nanmean(en_z,axis=1)\n",
    "\n",
    "print(ena[599])\n",
    "print(ena_z[599])\n"
   ]
  },
  {
   "cell_type": "code",
   "execution_count": 73,
   "metadata": {},
   "outputs": [
    {
     "name": "stdout",
     "output_type": "stream",
     "text": [
      "(600,)\n",
      "(600,)\n",
      "[  3.   6.  -1.  nan   6.   4.  nan  -2.   6.  nan  nan  nan  nan  nan  nan\n",
      "  nan  nan  nan  nan  nan  nan]\n",
      "[ 3.  6. -1.  6.  4. -2.  6.]\n",
      "[ 0.36727058  0.48671924 -0.39722043  1.19119403 -0.36141662 -0.39203583\n",
      "  0.8092635 ]\n",
      "3.14285714286\n",
      "0.243396354403\n"
     ]
    }
   ],
   "source": [
    "#Get rid of Nan in CH\n",
    "ch=codings[ch_headers].values\n",
    "ch_z=codings[ch_headers_zscore].values\n",
    "nonanch=[]\n",
    "nonanch_z=[]\n",
    "# print(ch)\n",
    "# print(ch_z)\n",
    "for i in range(600):\n",
    "    l= ch[i][~np.isnan(ch[i])]\n",
    "    k= ch_z[i][~np.isnan(ch_z[i])]\n",
    "    nonanch.append(l)\n",
    "    nonanch_z.append(k)\n",
    "    \n",
    "print(np.shape(nonanen))\n",
    "print(np.shape(nonanen_z))\n",
    "\n",
    "print(ch[599])\n",
    "print(nonanch[599])\n",
    "print(nonanch_z[599])\n",
    "\n",
    "cha=np.nanmean(ch,axis=1)\n",
    "cha_z=np.nanmean(ch_z,axis=1)\n",
    "\n",
    "print(cha[599])\n",
    "print(cha_z[599])"
   ]
  },
  {
   "cell_type": "code",
   "execution_count": 281,
   "metadata": {},
   "outputs": [
    {
     "name": "stdout",
     "output_type": "stream",
     "text": [
      "{'index': 599, 'num': 1300, 'id': 630746, 'request': 'Sorry, I did not know there has been a category before. Can you delete it?', 'en_rating': [9.0, 2.0, 1.0, -1.0, 2.0, 3.0, 0.0], 'ch_rating': [3.0, 6.0, -1.0, 6.0, 4.0, -2.0, 6.0], 'en_mean': 2.2857142857142856, 'ch_mean': 3.1428571428571428, 'en_ratings_z': [1.1412691950107938, 0.7061331255134362, 0.17653847459604144, -0.4767162886801545, 0.3863316285371476, 0.8063035298362654, -0.2518220298952885], 'ch_ratings_z': [0.36727057949754255, 0.48671923704137837, -0.3972204255491021, 1.1911940321013335, -0.36141661533098524, -0.3920358258599696, 0.8092634989177617], 'en_mean_z': 0.35543394784546306, 'ch_mean_z': 0.24339635440256555, 'api': {'score_polite': 0.57644036669539978, 'score_impolite': 0.42355963330460011, 'strategies': ['Apologizing', '1st person', '2nd person', 'INDICATIVE', 'HASNEGATIVE'], 'sentences': [{'tokens': ['Sorry', ',', 'I', 'did', 'not', 'know', 'there', 'has', 'been', 'a', 'category', 'before', '.'], 'involved_index': {0, 1, 3, 4, 5, 6, 7, 8, 9, 10, 11, 12}, 'impolite_index': set(), 'polite_index': []}, {'tokens': ['Can', 'you', 'delete', 'it', '?'], 'involved_index': {1, 2, 3, 4}, 'impolite_index': set(), 'polite_index': []}]}}\n"
     ]
    }
   ],
   "source": [
    "# Dict\n",
    "pol600=[]\n",
    "\n",
    "for i in range(600):\n",
    "    temp={'index':i, \n",
    "          'num': codings.iloc[i]['Num'], \n",
    "          'id': codings.iloc[i]['Id'],\n",
    "          'request':  codings.iloc[i]['Request'], \n",
    "          'en_rating':nonanen[i].tolist(),\n",
    "          'ch_rating':nonanch[i].tolist(), \n",
    "          'en_mean':ena[i],\n",
    "          'ch_mean':cha[i],\n",
    "          'en_ratings_z':nonanen_z[i].tolist(),\n",
    "          'ch_ratings_z':nonanch_z[i].tolist(),\n",
    "          'en_mean_z':ena_z[i],\n",
    "          'ch_mean_z':cha_z[i],\n",
    "          'api':get_scores_strategies_token_indices(codings.iloc[i]['Request'])\n",
    "         }\n",
    "    pol600.append(temp)\n",
    "\n",
    "print(pol600[599])"
   ]
  },
  {
   "cell_type": "code",
   "execution_count": 279,
   "metadata": {},
   "outputs": [
    {
     "data": {
      "text/plain": [
       "{'score_impolite': 0.5,\n",
       " 'score_polite': 0.5,\n",
       " 'sentences': [{'impolite_index': set(),\n",
       "   'involved_index': {0, 1, 2},\n",
       "   'polite_index': [],\n",
       "   'tokens': ['HI', 'howare', 'you', '?']}],\n",
       " 'strategies': ['2nd person', 'Indirect (greeting)']}"
      ]
     },
     "execution_count": 279,
     "metadata": {},
     "output_type": "execute_result"
    }
   ],
   "source": [
    "get_scores_strategies_token_indices(\"HI how are you?\")"
   ]
  },
  {
   "cell_type": "markdown",
   "metadata": {},
   "source": [
    "### 1-1. Brining the noramalized rating scores from wikipedia.annotated.csv"
   ]
  },
  {
   "cell_type": "code",
   "execution_count": 389,
   "metadata": {},
   "outputs": [
    {
     "name": "stdout",
     "output_type": "stream",
     "text": [
      "['Id', 'Request', 'Score1', 'Score2', 'Score3', 'Score4', 'Score5', 'TurkId1', 'TurkId2', 'TurkId3', 'TurkId4', 'TurkId5', 'Normalized Score']\n",
      "{'index': 599, 'num': 1300, 'id': 630746, 'request': 'Sorry, I did not know there has been a category before. Can you delete it?', 'en_rating': [9.0, 2.0, 1.0, -1.0, 2.0, 3.0, 0.0], 'ch_rating': [3.0, 6.0, -1.0, 6.0, 4.0, -2.0, 6.0], 'en_mean': 2.2857142857142856, 'ch_mean': 3.1428571428571428, 'en_ratings_z': [1.1412691950107938, 0.7061331255134362, 0.17653847459604144, -0.4767162886801545, 0.3863316285371476, 0.8063035298362654, -0.2518220298952885], 'ch_ratings_z': [0.36727057949754255, 0.48671923704137837, -0.3972204255491021, 1.1911940321013335, -0.36141661533098524, -0.3920358258599696, 0.8092634989177617], 'en_mean_z': 0.35543394784546306, 'ch_mean_z': 0.24339635440256555, 'api': {'score_polite': 0.57644036669539978, 'score_impolite': 0.42355963330460011, 'strategies': ['Apologizing', '1st person', '2nd person', 'INDICATIVE', 'HASNEGATIVE'], 'sentences': [{'tokens': ['Sorry', ',', 'I', 'did', 'not', 'know', 'there', 'has', 'been', 'a', 'category', 'before', '.'], 'involved_index': {0, 1, 3, 4, 5, 6, 7, 8, 9, 10, 11, 12}, 'impolite_index': set(), 'polite_index': []}, {'tokens': ['Can', 'you', 'delete', 'it', '?'], 'involved_index': {1, 2, 3, 4}, 'impolite_index': set(), 'polite_index': []}]}, 'normalize_score': 1.035613132494894}\n"
     ]
    }
   ],
   "source": [
    "origi_codings=pd.read_csv('wikipedia.annotated.csv', index_col=0, parse_dates=True)\n",
    "headers=list(origi_codings.columns.values)\n",
    "print(headers)\n",
    "\n",
    "norm_scores=[]\n",
    "api_scores=[]\n",
    "\n",
    "for i in range(600):\n",
    "    id=pol600[i]['id']\n",
    "#     print(pol600[i]['request'])\n",
    "    k=origi_codings.loc[origi_codings['Id']==id]['Normalized Score']\n",
    "#     k=origi_codings.loc[origi_codings['Id']==id]['Request']\n",
    "    pol600[i]['normalize_score']=float(k.values)\n",
    "    norm_scores.append(float(k.values))\n",
    "    api_scores.append(pol600[i]['api']['score_polite'])\n",
    "\n",
    "print(pol600[599])"
   ]
  },
  {
   "cell_type": "markdown",
   "metadata": {},
   "source": [
    "# 2. Preliminary Data Analysis\n",
    "\n",
    "### 2-1. Mean differences"
   ]
  },
  {
   "cell_type": "code",
   "execution_count": 284,
   "metadata": {},
   "outputs": [
    {
     "name": "stdout",
     "output_type": "stream",
     "text": [
      "En mean, std -0.00616545957314 0.709875966628\n",
      "(Original) EN mean, std 0.00105726093189 0.75026969659\n",
      "Ch mean, std -0.0137332594024 0.631500954141\n"
     ]
    },
    {
     "data": {
      "image/png": "[encoded data removed]",
      "text/plain": [
       "<matplotlib.figure.Figure at 0x119adaac8>"
      ]
     },
     "metadata": {},
     "output_type": "display_data"
    }
   ],
   "source": [
    "#Mean of means (all z scores)\n",
    "print(\"En mean, std\", np.average(ena_z), np.std(ena_z))\n",
    "print(\"(Original) EN mean, std\",np.average(norm_scores), np.std(norm_scores))\n",
    "print(\"Ch mean, std\",np.average(cha_z), np.std(cha_z))\n",
    "\n",
    "plt.bar(1, np.average(ena_z), 0.4)\n",
    "plt.bar(2, np.average(norm_scores), 0.4)\n",
    "plt.bar(3, np.average(cha_z), 0.4)\n",
    "plt.grid(axis='y')\n",
    "plt.xticks((1,2,3), ('EN', 'EN(Original)','CH'))\n",
    "plt.ylim(-0.05,0.05)\n",
    "plt.title('Mean by Language Groups (Z_score)')\n",
    "plt.show()"
   ]
  },
  {
   "cell_type": "code",
   "execution_count": 285,
   "metadata": {},
   "outputs": [
    {
     "name": "stdout",
     "output_type": "stream",
     "text": [
      "T-tests\n",
      "Ttest_relResult(statistic=0.31618752904945058, pvalue=0.75197032009616738)\n",
      "Ttest_indResult(statistic=0.19494277969571705, pvalue=0.84547079771060885)\n",
      "KruskalResult(statistic=0.19417221759613312, pvalue=0.65946656766756351)\n",
      "Ttest_relResult(statistic=-0.3805264051878543, pvalue=0.70368960293903315)\n",
      "Ttest_indResult(statistic=-0.17114606367102839, pvalue=0.8641378181667444)\n",
      "KruskalResult(statistic=0.0012474049399315845, pvalue=0.97182567574031209)\n",
      "\n",
      "ANOVAs\n",
      "F_onewayResult(statistic=0.067067454295751894, pvalue=0.93513446113211363)\n"
     ]
    }
   ],
   "source": [
    "print(\"T-tests\")\n",
    "print(stats.ttest_rel(ena_z, cha_z))\n",
    "print(stats.ttest_ind(ena_z,cha_z))\n",
    "print(stats.kruskal(ena_z,cha_z))\n",
    "\n",
    "print(stats.ttest_rel(ena_z, norm_scores))\n",
    "print(stats.ttest_ind(ena_z, norm_scores))\n",
    "print(stats.kruskal(ena_z,norm_scores))\n",
    "\n",
    "\n",
    "print()\n",
    "print(\"ANOVAs\")\n",
    "print(stats.stats.f_oneway(ena_z, norm_scores, cha_z))\n"
   ]
  },
  {
   "cell_type": "markdown",
   "metadata": {},
   "source": [
    "* No meaningful difference in means (z scores)"
   ]
  },
  {
   "cell_type": "code",
   "execution_count": 262,
   "metadata": {},
   "outputs": [
    {
     "data": {
      "image/png": "[encoded data removed]",
      "text/plain": [
       "<matplotlib.figure.Figure at 0x11b82ba90>"
      ]
     },
     "metadata": {},
     "output_type": "display_data"
    }
   ],
   "source": [
    "plt.hist(ena_z, histtype='step', rwidth=0.9, label=\"EN\")\n",
    "# plt.hist(norm_scores, histtype='step', rwidth=0.9, label=\"EN(Original)\")\n",
    "plt.hist(cha_z, histtype='step', rwidth=0.9, label=\"CH\")\n",
    "plt.legend()\n",
    "plt.title(\"Distribution of mean ratings by Language Groups (Z score)\")\n",
    "plt.xlabel(\"Mean Ratings for each message\")\n",
    "plt.ylabel(\"Frequency\")\n",
    "plt.show()"
   ]
  },
  {
   "cell_type": "markdown",
   "metadata": {},
   "source": [
    "### 2-2. Correlation"
   ]
  },
  {
   "cell_type": "code",
   "execution_count": 266,
   "metadata": {},
   "outputs": [
    {
     "name": "stdout",
     "output_type": "stream",
     "text": [
      "LinregressResult(slope=0.55521596487438185, intercept=-0.010310097816618411, rvalue=0.62412331631130213, pvalue=4.2723058607686825e-66, stderr=0.028423211052505389)\n"
     ]
    },
    {
     "data": {
      "text/plain": [
       "<matplotlib.text.Text at 0x119656438>"
      ]
     },
     "execution_count": 266,
     "metadata": {},
     "output_type": "execute_result"
    },
    {
     "data": {
      "image/png": "[encoded data removed]",
      "text/plain": [
       "<matplotlib.figure.Figure at 0x11a2c3ba8>"
      ]
     },
     "metadata": {},
     "output_type": "display_data"
    }
   ],
   "source": [
    "# Correlation between mean ratings by Language Groups (Z score)\n",
    "plt.figure(figsize=(6,6))\n",
    "\n",
    "#EN vs. CH\n",
    "plt.scatter(ena_z, cha_z)\n",
    "print(stats.linregress(ena_z,cha_z))\n",
    "slope,intercept, rvalue=stats.linregress(ena_z,cha_z)[:3]\n",
    "plt.ylim(-2.8,2.8)\n",
    "plt.xlim(-2.8,2.8)\n",
    "plt.xlabel(\"EN_Z\")\n",
    "plt.ylabel(\"CH_Z\")\n",
    "\n",
    "plt.plot(ena_z, slope*ena_z+intercept, 'r')\n",
    "plt.title(\"Correlation between En and Ch means (Z score) \\n r squared={}**\".format(round(rvalue**2, 4)))\n"
   ]
  },
  {
   "cell_type": "code",
   "execution_count": 293,
   "metadata": {},
   "outputs": [
    {
     "name": "stdout",
     "output_type": "stream",
     "text": [
      "LinregressResult(slope=0.84439817870130796, intercept=0.0062633637663051626, rvalue=0.79893667043742922, pvalue=3.6038031588354357e-134, stderr=0.025993138030149444)\n",
      "600\n"
     ]
    },
    {
     "data": {
      "text/plain": [
       "<matplotlib.text.Text at 0x113614668>"
      ]
     },
     "execution_count": 293,
     "metadata": {},
     "output_type": "execute_result"
    },
    {
     "data": {
      "image/png": "[encoded data removed]",
      "text/plain": [
       "<matplotlib.figure.Figure at 0x119a54860>"
      ]
     },
     "metadata": {},
     "output_type": "display_data"
    }
   ],
   "source": [
    "# Correlation between mean ratings by Language Groups (Z score)\n",
    "\n",
    "plt.figure(figsize=(6,6))\n",
    "\n",
    "plt.scatter(ena_z,norm_scores)\n",
    "print(stats.linregress(ena_z,norm_scores))\n",
    "slope,intercept, rvalue=stats.linregress(ena_z,norm_scores)[:3]\n",
    "plt.ylim(-2.8,2.8)\n",
    "plt.xlim(-2.8,2.8)\n",
    "plt.xlabel(\"EN_Z\")\n",
    "plt.ylabel(\"EN_Normalized (Original)\")\n",
    "\n",
    "print(len(x))\n",
    "plt.plot(ena_z, slope*ena_z+intercept, 'r')\n",
    "plt.title(\"Correlation between En and EN means (Z score) \\n r squared={}**\".format(round(rvalue**2, 4)))\n"
   ]
  },
  {
   "cell_type": "markdown",
   "metadata": {},
   "source": [
    "# 3. Identifying Discrepancy Set"
   ]
  },
  {
   "cell_type": "markdown",
   "metadata": {},
   "source": [
    "### 3-1. Extract the messages that showed big differences in ratings between differnt language groups\n",
    "\n",
    "Procedure\n",
    "- Examine the mean differences between each pair of the language groups (e.g., En vs. Ch)\n",
    "- Convert the differences to z scores (Stardarized)\n",
    "- Find outliers which are situated in both ends (about 10~20% of messages)"
   ]
  },
  {
   "cell_type": "code",
   "execution_count": 299,
   "metadata": {
    "collapsed": true
   },
   "outputs": [],
   "source": [
    "# En vs. Ch\n",
    "a= ena_z-cha_z\n",
    "mean_y = np.mean(a)\n",
    "stdev_y = np.std(a)\n",
    "z_scores = [(y - mean_y) / stdev_y for y in a]\n",
    "enchp=z_scores\n",
    "# print(enchp)"
   ]
  },
  {
   "cell_type": "code",
   "execution_count": 300,
   "metadata": {},
   "outputs": [
    {
     "data": {
      "text/plain": [
       "<matplotlib.text.Text at 0x114806048>"
      ]
     },
     "execution_count": 300,
     "metadata": {},
     "output_type": "execute_result"
    },
    {
     "data": {
      "image/png": "[encoded data removed]",
      "text/plain": [
       "<matplotlib.figure.Figure at 0x11596b3c8>"
      ]
     },
     "metadata": {},
     "output_type": "display_data"
    }
   ],
   "source": [
    "# Distribution Plot of mean differences \n",
    "\n",
    "plt.hist(enchp, histtype='step', rwidth=0.9, label=\"EN-CH\")\n",
    "# plt.hist(kochp, histtype='step', rwidth=0.9, label=\"KO-CH\")\n",
    "\n",
    "plt.legend()\n",
    "plt.title(\"Distribution of differences between ratings by Language groups\")\n",
    "plt.xlabel(\"Stadarized Mean differnce for each message\")\n",
    "plt.ylabel(\"Frequency\")"
   ]
  },
  {
   "cell_type": "markdown",
   "metadata": {},
   "source": [
    "### 3-2. 10% from each end (600 X 10% X 2 = 120 sentences) ~ different_set"
   ]
  },
  {
   "cell_type": "code",
   "execution_count": 314,
   "metadata": {},
   "outputs": [
    {
     "name": "stdout",
     "output_type": "stream",
     "text": [
      "[2, 3, 4, 6, 8, 15, 17, 20, 27, 28, 29, 32, 34, 40, 45, 46, 48, 49, 55, 59, 60, 61, 64, 71, 73, 76, 83, 107, 123, 128, 141, 143, 150, 151, 152, 163, 167, 169, 172, 173, 181, 184, 197, 199, 201, 203, 206, 207, 209, 210, 211, 216, 217, 218, 220, 227, 234, 246, 251, 254, 255, 259, 263, 264, 265, 266, 267, 271, 272, 280, 282, 285, 290, 293, 306, 307, 311, 317, 321, 327, 331, 335, 340, 342, 367, 375, 401, 404, 406, 413, 414, 429, 435, 441, 456, 463, 477, 480, 481, 484, 485, 490, 492, 509, 510, 512, 515, 519, 522, 547, 550, 551, 555, 558, 574, 575, 577, 582, 584, 596]\n",
      "120\n"
     ]
    }
   ],
   "source": [
    "label_d=[]\n",
    "different_set=[]\n",
    "for i in range(len(z_scores)):\n",
    "    if z_scores[i] < -1.28:\n",
    "        label_d.append(1)\n",
    "        different_set.append(i)\n",
    "    elif z_scores[i]>1.28:\n",
    "        label_d.append(1)\n",
    "        different_set.append(i)\n",
    "\n",
    "    else:\n",
    "        label_d.append(0)\n",
    "\n",
    "# print(label_d)\n",
    "print(different_set)\n",
    "print(sum(label_d))\n"
   ]
  },
  {
   "cell_type": "markdown",
   "metadata": {},
   "source": [
    "### 3-3. Among 120 msgs, only the messages have different direction (i.e., en>0, ch < 0//  en< 0, ch >0) ~ diff_direction -> total 67 messages left"
   ]
  },
  {
   "cell_type": "code",
   "execution_count": 330,
   "metadata": {},
   "outputs": [
    {
     "name": "stdout",
     "output_type": "stream",
     "text": [
      "En_mean_z:  -0.107089890339\n",
      "Ch_mean_z:  0.781230599551\n",
      "May I also ask how CheckUser became involved in the matter? To justify such a use of computer records, surely someone needs to invoke a due process of some kind for the action to be justified?\n",
      "Politeness Score:  0.415204182322\n",
      "['Factuality', '1st person', 'HASHEDGE']\n",
      "=================================\n",
      "En_mean_z:  0.217791722641\n",
      "Ch_mean_z:  -0.607046192608\n",
      "Regarding <url>, <url> says not to redlink in See also (asking people to also see something non-existing would be strange). Are you planning an article or misspelled an existing article?\n",
      "Politeness Score:  0.562952681801\n",
      "['2nd person', 'HASNEGATIVE']\n",
      "=================================\n",
      "En_mean_z:  0.229083557449\n",
      "Ch_mean_z:  -1.33588167102\n",
      "I think we're going to just have to agree to disagree on whether it is a sub genre or fusion then! Can we at least agree to leave the three genres on Dookie as they are?\n",
      "Politeness Score:  0.462449784941\n",
      "['Hedges', '1st person pl.', '1st person start', 'HASHEDGE', 'HASNEGATIVE']\n",
      "=================================\n",
      "En_mean_z:  1.22795433273\n",
      "Ch_mean_z:  -0.333154171389\n",
      "Out of curiosity what are you testing? How are things going?\n",
      "Politeness Score:  0.5\n",
      "['2nd person', 'Direct question']\n",
      "=================================\n",
      "En_mean_z:  -0.279490788135\n",
      "Ch_mean_z:  0.876222483121\n",
      "Hi. I'm not disputing your reversion of my edit, but would you please point to any other article that has a reading list that is 100% from a single author?\n",
      "Politeness Score:  0.686518975356\n",
      "['Please', '1st person', '1st person start', '2nd person', 'Indirect (greeting)', 'SUBJUNCTIVE']\n",
      "=================================\n",
      "En_mean_z:  0.115859386717\n",
      "Ch_mean_z:  -0.655670288499\n",
      "I see. What about \"Main Church\"?\n",
      "Politeness Score:  0.259589385134\n",
      "['1st person start', 'Direct question']\n",
      "=================================\n",
      "En_mean_z:  0.646802523005\n",
      "Ch_mean_z:  -0.379522192437\n",
      "I'm trying to keep Minority Report as a Good Article and the <url> requested for copyediting - but didn't give examples to cleanup. Can you give me some input on what to rewrite?\n",
      "Politeness Score:  0.680319931054\n",
      "['1st person start', '2nd person', 'INDICATIVE', 'HASPOSITIVE']\n",
      "=================================\n",
      "En_mean_z:  0.334055836678\n",
      "Ch_mean_z:  -0.723542918205\n",
      "Molte grazie, just one last thing, if this is the only source then how I'm supposed to cite it there. Do you have any better way?\n",
      "Politeness Score:  0.737286591339\n",
      "['Hedges', '1st person', '2nd person', 'HASHEDGE', 'HASPOSITIVE']\n",
      "=================================\n",
      "En_mean_z:  0.446567591431\n",
      "Ch_mean_z:  -0.654682907658\n",
      "What do you think? And how does one go about establishing this project group?\n",
      "Politeness Score:  0.506067887957\n",
      "['Hedges', '2nd person', 'Direct question', 'Direct start', 'HASHEDGE']\n",
      "=================================\n",
      "En_mean_z:  1.13942848079\n",
      "Ch_mean_z:  -0.00257851710134\n",
      "I'm curious: how do you make those beautiful coats of arms? Do you have a script that generates them from the heraldic descriptions, or do you make them by hand?\n",
      "Politeness Score:  0.722257425995\n",
      "['1st person start', '2nd person', 'HASPOSITIVE']\n",
      "=================================\n",
      "En_mean_z:  0.306244673279\n",
      "Ch_mean_z:  -1.13151851167\n",
      "Unfortunately, I have no clue what you mean. Can you point me to a page that has such a feature?\n",
      "Politeness Score:  0.718607896039\n",
      "['1st person', '2nd person', 'INDICATIVE', 'HASNEGATIVE']\n",
      "=================================\n",
      "En_mean_z:  0.54633183117\n",
      "Ch_mean_z:  -0.628994224377\n",
      "Thanks for the heads up. He doesn't know any english?\n",
      "Politeness Score:  0.612966807293\n",
      "['Gratitude']\n",
      "=================================\n",
      "En_mean_z:  -0.0401832853777\n",
      "Ch_mean_z:  1.04470521024\n",
      "Sorry, what? Could you be more specific please?\n",
      "Politeness Score:  0.402731551779\n",
      "['Please', 'Apologizing', '2nd person', 'Direct question', 'SUBJUNCTIVE', 'HASNEGATIVE']\n",
      "=================================\n",
      "En_mean_z:  0.148545095555\n",
      "Ch_mean_z:  -0.850241625605\n",
      "How does it feel being wikifamous??\n",
      "Politeness Score:  0.404276269055\n",
      "['Hedges', 'Direct question', 'HASHEDGE']\n",
      "=================================\n",
      "En_mean_z:  0.145167351484\n",
      "Ch_mean_z:  -1.17467977961\n",
      "just wondering how the chapters were going. you think they are notable enough to have their own article?\n",
      "Politeness Score:  0.522762337331\n",
      "['Hedges', '2nd person start', 'HASHEDGE', 'HASPOSITIVE']\n",
      "=================================\n",
      "En_mean_z:  0.981139764519\n",
      "Ch_mean_z:  -0.261149922487\n",
      "Hello. Regarding <url>, could you tell me what supports this being a free image?\n",
      "Politeness Score:  0.623730852517\n",
      "['2nd person', 'Indirect (greeting)', 'SUBJUNCTIVE', 'HASPOSITIVE']\n",
      "=================================\n",
      "En_mean_z:  0.656553110629\n",
      "Ch_mean_z:  -0.647693836746\n",
      "You might be just the person I need- <url> has just been repeatedly vandalised and with ? German - in there - wonder what you would do with the vandal?\n",
      "Politeness Score:  0.586104626889\n",
      "['1st person', '2nd person', '2nd person start', 'HASHEDGE', 'HASPOSITIVE']\n",
      "=================================\n",
      "En_mean_z:  0.157522953357\n",
      "Ch_mean_z:  -0.668280767068\n",
      "I just did some edits on it. Feedback?\n",
      "Politeness Score:  0.481864500283\n",
      "['1st person start']\n",
      "=================================\n",
      "En_mean_z:  -0.696920213181\n",
      "Ch_mean_z:  0.16574020484\n",
      "To be quite frank it doesn't matter that the quotes don't appear any other place on the internet, the point is that they violate policy by being here and you could always set up a personal website to host them where all you'd have to worry about is fair use and not Wikipedia's stricter requirements. Are there more of these quote/source pages than <url>, <url> and <url>?\n",
      "Politeness Score:  0.181871562991\n",
      "['Hedges', 'Factuality', '2nd person', 'HASHEDGE', 'HASPOSITIVE', 'HASNEGATIVE']\n",
      "=================================\n",
      "En_mean_z:  0.512917403072\n",
      "Ch_mean_z:  -0.458606640272\n",
      "Oh dear. Does that mean it's too difficult a read for Wiki?\n",
      "Politeness Score:  0.460421388235\n",
      "['HASNEGATIVE']\n",
      "=================================\n",
      "En_mean_z:  -1.13857850051\n",
      "Ch_mean_z:  0.84823821858\n",
      "Is there any way I could talk you into being more conservative with creation of new articles? Do you agree that some of what you're creating here would be seen as obviously deletable material by most editors?\n",
      "Politeness Score:  0.731526165998\n",
      "['1st person', '2nd person', 'HASNEGATIVE']\n",
      "=================================\n",
      "En_mean_z:  -0.0413508553681\n",
      "Ch_mean_z:  0.74233553356\n",
      "By chance, I have indef blocked <person> over your 31-hour block. Would you like me to keep indef block or change it back to 31 hours?\n",
      "Politeness Score:  0.67434533119\n",
      "['1st person', '2nd person', 'SUBJUNCTIVE', 'HASPOSITIVE']\n",
      "=================================\n",
      "En_mean_z:  1.12996456187\n",
      "Ch_mean_z:  -0.180515865465\n",
      "The copyediting is being done as I speak. Anything else you can think of?\n",
      "Politeness Score:  0.658529384497\n",
      "['Hedges', '1st person', '2nd person', 'HASHEDGE']\n",
      "=================================\n",
      "En_mean_z:  0.177661948636\n",
      "Ch_mean_z:  -1.08481531747\n",
      "See the page <url>, and in particular the section <url>. Does that make sense?\n",
      "Politeness Score:  0.447491398888\n",
      "[]\n",
      "=================================\n",
      "En_mean_z:  0.129916226087\n",
      "Ch_mean_z:  -0.743110341541\n",
      "Hey,saw you had a page in the works in your sandbox. Are you planning to move it to mainspace soon?\n",
      "Politeness Score:  0.741336468405\n",
      "['2nd person', 'Indirect (greeting)', 'HASPOSITIVE']\n",
      "=================================\n",
      "En_mean_z:  0.805767620188\n",
      "Ch_mean_z:  -0.276733587583\n",
      "Thanks. As for the previous edits, should I make a note on the User Page that it's my account?\n",
      "Politeness Score:  0.74756154595\n",
      "['Gratitude', '1st person', 'HASHEDGE']\n",
      "=================================\n",
      "En_mean_z:  0.31771178943\n",
      "Ch_mean_z:  -0.577237240612\n",
      "Were you the person who originally put FoxTrot up for peer review? If you are, can you help me find the original request for peer review, so someone can resubmit a request and have the article reviewed again?\n",
      "Politeness Score:  0.51979331561\n",
      "['2nd person', 'INDICATIVE']\n",
      "=================================\n",
      "En_mean_z:  -1.06630725305\n",
      "Ch_mean_z:  0.0902485370724\n",
      "Well, if Mattisse has caused me to CU innocent editors, then it's time for her to be blocked from editing her own talk page. MC, do you think I should withdraw the CU or let it ride?\n"
     ]
    },
    {
     "name": "stdout",
     "output_type": "stream",
     "text": [
      "Politeness Score:  0.590378727243\n",
      "['Hedges', '1st person', '2nd person', 'HASHEDGE', 'HASPOSITIVE']\n",
      "=================================\n",
      "En_mean_z:  0.726764024585\n",
      "Ch_mean_z:  -0.230666713398\n",
      "I will have to hunt out my albums and take a look. Do you mean something like a photographer's credit?\n",
      "Politeness Score:  0.651528975729\n",
      "['1st person', '1st person start', '2nd person', 'HASPOSITIVE']\n",
      "=================================\n",
      "En_mean_z:  1.35135849209\n",
      "Ch_mean_z:  -0.195173053535\n",
      "Thanks for adding that ref to <url>. I don't suppose your copy of Conway's says anything about the roles and fates of ''Schleswig-Holstein'' or ''Schleisen''?\n",
      "Politeness Score:  0.480586357408\n",
      "['Gratitude', '1st person start', '2nd person', 'HASHEDGE']\n",
      "=================================\n",
      "En_mean_z:  -0.434724182861\n",
      "Ch_mean_z:  0.340047465342\n",
      "Yes, I appreciate that my edits were not the best, but they are currently the best available in Wikipedia for guiding readers in understanding there the emergence of the legal systems of the United Kingdom. Do You have a better suggestion?\n",
      "Politeness Score:  0.625527093959\n",
      "['Gratitude', '1st person', '2nd person', 'Direct start', 'HASPOSITIVE']\n",
      "=================================\n",
      "En_mean_z:  -0.737994473937\n",
      "Ch_mean_z:  0.658449605426\n",
      "I don't think I'll have the time to keep the flies off it all week but I'll have a go (I might get around to incorporating Caitlin Moran's detailed reviews too). Could you not semi it as well?\n",
      "Politeness Score:  0.749424649745\n",
      "['Hedges', '1st person', '1st person start', '2nd person', 'Direct start', 'SUBJUNCTIVE', 'HASHEDGE', 'HASPOSITIVE']\n",
      "=================================\n",
      "En_mean_z:  -0.679881828542\n",
      "Ch_mean_z:  0.26485052866\n",
      "\"* <url>: 87/88 Quarterfinal (winfall viktory in the second round against former leader of the <url> <url>)\"? Is there a misetake?\n",
      "Politeness Score:  0.31653244203\n",
      "[]\n",
      "=================================\n",
      "En_mean_z:  0.968252087479\n",
      "Ch_mean_z:  -0.194921699509\n",
      "E-mail me at <url> (just get rid of the spaces in between the letters and numbers) whenever you feel like it. By the way are you a member on any Iranian football forums online?\n",
      "Politeness Score:  0.69131789666\n",
      "['Hedges', '2nd person', 'HASHEDGE', 'HASPOSITIVE']\n",
      "=================================\n",
      "En_mean_z:  0.547218163799\n",
      "Ch_mean_z:  -0.624604234694\n",
      "Hi, I think that you do a fantastic job on DELSORT. However, I was just wondering if, when you add to Schools, whether you would be good enough to add them to the appropriate section, please?\n",
      "Politeness Score:  0.896355958342\n",
      "['Please', 'Hedges', '1st person', '2nd person', 'Indirect (greeting)', 'HASHEDGE', 'HASPOSITIVE']\n",
      "=================================\n",
      "En_mean_z:  0.820759103508\n",
      "Ch_mean_z:  -0.72152959437\n",
      "How can I join, by the way? And is there a Welcoming Comittee userbox?\n",
      "Politeness Score:  0.447951371276\n",
      "['1st person', 'Direct question', 'Direct start']\n",
      "=================================\n",
      "En_mean_z:  1.11111190937\n",
      "Ch_mean_z:  -0.330395655539\n",
      "Hello <name>! Since you are experienced in ''botovodstvo'', could you help us with the issue <url>?\n",
      "Politeness Score:  0.668798226554\n",
      "['1st person pl.', '2nd person', 'Indirect (greeting)', 'SUBJUNCTIVE', 'HASNEGATIVE']\n",
      "=================================\n",
      "En_mean_z:  1.03473738943\n",
      "Ch_mean_z:  -0.268065442293\n",
      "I might have just done a wrong revert on this art - what do you think? Small cf Singapores Changi maybe - but, ...?\n",
      "Politeness Score:  0.652725829628\n",
      "['Hedges', '1st person start', '2nd person', 'Direct start', 'HASHEDGE', 'HASNEGATIVE']\n",
      "=================================\n",
      "En_mean_z:  -0.752633418093\n",
      "Ch_mean_z:  0.111316211962\n",
      "url' is fooling around with the Rubinstein and Horowitz articles again.  Is there a way to get him banned?\n",
      "Politeness Score:  0.524293018171\n",
      "['HASHEDGE']\n",
      "=================================\n",
      "En_mean_z:  -0.52484138687\n",
      "Ch_mean_z:  0.400780966926\n",
      "I reverted 'url' as it complicated my normal routine archiving of all the discussions on my talk page.  Could you please refrain from this kind of edit in future?\n",
      "Politeness Score:  0.780635187499\n",
      "['Please', '1st person', '1st person start', '2nd person', 'SUBJUNCTIVE', 'HASNEGATIVE']\n",
      "=================================\n",
      "En_mean_z:  -0.228412628435\n",
      "Ch_mean_z:  0.539505223021\n",
      "I'm interested in why you reduced the columns from 5 to 2? Could you reply on my talk page please?\n",
      "Politeness Score:  0.75061486219\n",
      "['Please', '1st person', '1st person start', '2nd person', 'SUBJUNCTIVE']\n",
      "=================================\n",
      "En_mean_z:  -0.494221609864\n",
      "Ch_mean_z:  0.420653531576\n",
      "Can you please explain what the two fields you added to the table at 'url' are supposed to mean?  What \"reaction\"?\n",
      "Politeness Score:  0.335792393305\n",
      "['Please', '2nd person', 'Direct question', 'INDICATIVE', 'HASHEDGE']\n",
      "=================================\n",
      "En_mean_z:  -0.637753199889\n",
      "Ch_mean_z:  0.469709538611\n",
      "I've noticed that you're engaged in several edit wars, with Meliniki, regarding minor alterations to multiple Greek language articles. Perhaps you should consider discussing the changes on Meliniki's 'url' instead?\n",
      "Politeness Score:  0.461061998509\n",
      "['1st person start', '2nd person', 'HASHEDGE']\n",
      "=================================\n",
      "En_mean_z:  -0.0577146475354\n",
      "Ch_mean_z:  0.773159051194\n",
      "Hey, I noticed you protected the article 'url' from being recreated. Will you be able to reverse that If I recreate the article with sourced, factual, real world content?\n",
      "Politeness Score:  0.756843002904\n",
      "['1st person', '2nd person', 'Indirect (greeting)', 'INDICATIVE']\n",
      "=================================\n",
      "En_mean_z:  -0.560797387694\n",
      "Ch_mean_z:  0.190532556813\n",
      "Hi, welcome to Wikipedia.  Could you explain in your 'url' just '''''what''''' a Universiade is?\n",
      "Politeness Score:  0.5\n",
      "['2nd person', 'Indirect (greeting)', 'SUBJUNCTIVE', 'HASPOSITIVE']\n",
      "=================================\n",
      "En_mean_z:  -0.363863516925\n",
      "Ch_mean_z:  0.605797213091\n",
      "pls see my comments on your revert on the talk page.  Perhaps you'll consider undoing my revert?\n",
      "Politeness Score:  0.574804435572\n",
      "['1st person', '2nd person', 'HASHEDGE', 'HASNEGATIVE']\n",
      "=================================\n",
      "En_mean_z:  -0.220278550011\n",
      "Ch_mean_z:  0.761309468322\n",
      "Do you mean article edits with sock puppets? Could you give me more precise examples?\n",
      "Politeness Score:  0.670359304266\n",
      "['2nd person', 'SUBJUNCTIVE', 'HASPOSITIVE', 'HASNEGATIVE']\n",
      "=================================\n",
      "En_mean_z:  -0.0847637642773\n",
      "Ch_mean_z:  0.839580694786\n",
      "at the end of the <nowiki><head> </head></nowiki>. Could that be fixed again, please?\n",
      "Politeness Score:  0.555484253892\n",
      "['Please']\n",
      "=================================\n",
      "En_mean_z:  -0.632493426994\n",
      "Ch_mean_z:  0.244930861386\n",
      "I feel 'url' is a personal attack against me. Can you please remove it for me per 'url'?\n",
      "Politeness Score:  0.730384560553\n",
      "['Please', 'Hedges', '1st person start', '2nd person', 'INDICATIVE', 'HASHEDGE', 'HASNEGATIVE']\n",
      "=================================\n",
      "En_mean_z:  0.588211134871\n",
      "Ch_mean_z:  -0.253004806662\n",
      "Hi, I hadn't realized that you had made a revert on redirecting this.  Could you see my comments on 'url'?\n",
      "Politeness Score:  0.71501838759\n",
      "['1st person', '2nd person', 'Indirect (greeting)', 'SUBJUNCTIVE', 'HASNEGATIVE']\n",
      "=================================\n",
      "En_mean_z:  -0.113522816494\n",
      "Ch_mean_z:  0.727536442894\n",
      "I note that you've edited since this was brought up here. Could you please respond?\n",
      "Politeness Score:  0.650567307519\n",
      "['Please', '1st person start', '2nd person', 'SUBJUNCTIVE']\n",
      "=================================\n",
      "En_mean_z:  0.53146872673\n",
      "Ch_mean_z:  -0.402586363829\n",
      "You deleted this, but somehow it still shows up on the parent category's page 'url'.  Is this normal and/or can you fix this?\n",
      "Politeness Score:  0.461906337145\n",
      "['2nd person', '2nd person start', 'INDICATIVE']\n",
      "=================================\n",
      "En_mean_z:  -0.525080449631\n",
      "Ch_mean_z:  0.765201576026\n",
      "I never received any notification of any deletion proposal, lest I would have contested. Is there any way to find the original proposal and/or artical, or has it just been sent to oblivion?\n",
      "Politeness Score:  0.672026603097\n",
      "['1st person', '1st person start']\n",
      "=================================\n",
      "En_mean_z:  -0.359823773752\n",
      "Ch_mean_z:  0.847724965047\n",
      "Are you there? I just posted YAP, Yet Another Plea, on 'url', might you wish to pitch in with something technical or at least magisterial?\n"
     ]
    },
    {
     "name": "stdout",
     "output_type": "stream",
     "text": [
      "Politeness Score:  0.563069086517\n",
      "['1st person start', '2nd person', 'HASHEDGE', 'HASNEGATIVE']\n",
      "=================================\n",
      "En_mean_z:  -0.435166266775\n",
      "Ch_mean_z:  0.667168392987\n",
      "This is starting to almost feel like harassment. Perhaps we should take this to a mediation committee?\n",
      "Politeness Score:  0.553598682417\n",
      "['1st person pl.', 'HASHEDGE', 'HASPOSITIVE', 'HASNEGATIVE']\n",
      "=================================\n",
      "En_mean_z:  0.800208548576\n",
      "Ch_mean_z:  -0.336340363122\n",
      "Hi, I noticed on 'url' you mentioned its Alexa traffic rank.  How do you find out the Alexa traffic rank of something?\n",
      "Politeness Score:  0.587206608204\n",
      "['1st person', '2nd person', 'Indirect (greeting)', 'Direct question']\n",
      "=================================\n",
      "En_mean_z:  -0.6038449642\n",
      "Ch_mean_z:  0.153610580056\n",
      "I presume you haven't obliterated them completely, because that would be to be editorialise enormously. Where have you put them instead?\n",
      "Politeness Score:  0.454898487565\n",
      "['1st person start', '2nd person', 'HASNEGATIVE']\n",
      "=================================\n",
      "En_mean_z:  -0.033797343669\n",
      "Ch_mean_z:  0.878742841423\n",
      "I must be missing something here.  Would you mind clarifying for me the nature of your extensive work on 'url'?\n",
      "Politeness Score:  0.668864617229\n",
      "['1st person start', '2nd person', 'SUBJUNCTIVE', 'HASPOSITIVE']\n",
      "=================================\n",
      "En_mean_z:  -0.745169954253\n",
      "Ch_mean_z:  0.170592171761\n",
      "He's still at it, and stating that we can't stop him as he has not got a static IP. Can you at least block him for now?\n",
      "Politeness Score:  0.5\n",
      "['1st person pl.', '2nd person', 'INDICATIVE', 'HASNEGATIVE']\n",
      "=================================\n",
      "En_mean_z:  -0.644442039541\n",
      "Ch_mean_z:  0.331517159678\n",
      "So do I, because, inspite of my 100s of friends and supporters, I'm feeling a little beleaguered and lonely here. If I can hang on in here, can't you at least keep me company?\n",
      "Politeness Score:  0.345015041061\n",
      "['1st person', '2nd person', 'Direct start', 'HASNEGATIVE']\n",
      "=================================\n",
      "En_mean_z:  0.374565944951\n",
      "Ch_mean_z:  -0.428186090463\n",
      "Also, how does the \"revert all edits\" function work?  Mainly, what do I put in the box for the secondary confirmation?\n",
      "Politeness Score:  0.552776180213\n",
      "['1st person', 'Direct question', 'HASHEDGE', 'HASPOSITIVE', 'HASNEGATIVE']\n",
      "=================================\n",
      "En_mean_z:  -0.104727075235\n",
      "Ch_mean_z:  1.16143653604\n",
      "I would specifically appreciate an outside view at the thread 'url'.  What do you feel is the appropriate action?\n",
      "Politeness Score:  0.58271199805\n",
      "['Hedges', 'Gratitude', '1st person start', '2nd person', 'Direct question', 'HASHEDGE', 'HASPOSITIVE']\n",
      "=================================\n",
      "En_mean_z:  -0.863798399609\n",
      "Ch_mean_z:  0.390339300694\n",
      "I thought I'd asked you nicely on 'url' not to make further attempts at getting your point into the article without trying to find consensus. Could you please address my points on the talkpage before having further tries in the article itself?\n",
      "Politeness Score:  0.80464874934\n",
      "['Please', 'Hedges', '1st person', '1st person start', '2nd person', 'SUBJUNCTIVE', 'HASHEDGE', 'HASPOSITIVE']\n",
      "=================================\n",
      "En_mean_z:  -1.04049277091\n",
      "Ch_mean_z:  0.130262354652\n",
      "I don't see any of that in his deletion log.  Would you please find out which one it was as evidence so you're not blindly accusing an admin of deleting something they didn't delete?\n",
      "Politeness Score:  0.49300119114\n",
      "['Please', '1st person start', '2nd person', 'SUBJUNCTIVE', 'HASNEGATIVE']\n",
      "=================================\n",
      "En_mean_z:  -0.484764739079\n",
      "Ch_mean_z:  0.42749033314\n",
      "Hi, I made on comment on the image page about this being different than Sbarro3 image.  Please... comment?\n",
      "Politeness Score:  0.779500801566\n",
      "['Please start', '1st person', 'Indirect (greeting)']\n",
      "=================================\n",
      "En_mean_z:  -0.54357432762\n",
      "Ch_mean_z:  0.656586858035\n",
      "If it's not clear, I am asking for a '''quote from your source''' which supports the statement which you inserted into the article with your reference. Can you please supply a quote?\n",
      "Politeness Score:  0.462753543267\n",
      "['Please', '1st person', '2nd person', 'INDICATIVE', 'HASPOSITIVE']\n",
      "=================================\n",
      "En_mean_z:  -0.75024059885\n",
      "Ch_mean_z:  0.171453301372\n",
      "So the nomination was made by your sock. Could you explain why you choose to use a sock?\n",
      "Politeness Score:  0.361173547838\n",
      "['2nd person', 'Direct start', 'SUBJUNCTIVE']\n",
      "=================================\n"
     ]
    }
   ],
   "source": [
    "from politeness.api_util import get_scores_strategies_token_indices\n",
    "\n",
    "diff_direction=[]\n",
    "diff_direction_label=[]\n",
    "diff_strategies=[]\n",
    "for i in range(600):\n",
    "    if i not in different_set:\n",
    "        diff_direction_label.append(0)\n",
    "    elif i in different_set:\n",
    "        e=pol600[i]['en_mean_z']\n",
    "        c=pol600[i]['ch_mean_z']\n",
    "        if (e>0 and c<0) or (e<0 and c>0):\n",
    "            diff_direction.append(i)\n",
    "            diff_direction_label.append(1)\n",
    "\n",
    "            print(\"En_mean_z: \", e) \n",
    "            print(\"Ch_mean_z: \",c)\n",
    "            print(pol600[i]['request'])\n",
    "                \n",
    "            t=get_scores_strategies_token_indices(pol600[i]['request'])\n",
    "            print(\"Politeness Score: \", t['score_polite'])\n",
    "            print(t['strategies'])\n",
    "            print(\"=================================\")\n",
    "            diff_strategies.append(t['strategies'])\n",
    "        else:\n",
    "            diff_direction_label.append(0)\n",
    "\n",
    "            "
   ]
  },
  {
   "cell_type": "code",
   "execution_count": 331,
   "metadata": {},
   "outputs": [],
   "source": [
    "# print(len(diff_direction))\n",
    "# print(diff_direction_label)\n",
    "# print(sum(diff_direction_label))\n",
    "# print(len(diff_direction_label))\n",
    "codings['different_label_set']=diff_direction_label"
   ]
  },
  {
   "cell_type": "code",
   "execution_count": 338,
   "metadata": {},
   "outputs": [
    {
     "name": "stdout",
     "output_type": "stream",
     "text": [
      "[4, 17, 20, 29, 34, 40, 45, 46, 48, 59, 60, 61, 71, 73, 76, 83, 107, 123, 151, 152, 167, 169, 173, 184, 206, 207, 216, 218, 220, 227, 234, 246, 254, 263, 265, 267, 272, 282, 311, 321, 327, 340, 342, 404, 406, 413, 414, 429, 435, 456, 463, 477, 480, 490, 492, 509, 510, 512, 519, 522, 547, 551, 555, 558, 575, 582, 584]\n",
      "67\n"
     ]
    }
   ],
   "source": [
    "print(diff_direction)\n",
    "print(len(diff_direction))"
   ]
  },
  {
   "cell_type": "markdown",
   "metadata": {},
   "source": [
    "### 3-4. Strategies found in differernt_direction_set"
   ]
  },
  {
   "cell_type": "code",
   "execution_count": 349,
   "metadata": {},
   "outputs": [
    {
     "name": "stdout",
     "output_type": "stream",
     "text": [
      "[('2nd person', 49), ('1st person', 27), ('HASHEDGE', 26), ('HASPOSITIVE', 23), ('1st person start', 22), ('HASNEGATIVE', 21), ('SUBJUNCTIVE', 16), ('Hedges', 15), ('Please', 12), ('Direct question', 10), ('Indirect (greeting)', 10), ('INDICATIVE', 9), ('Direct start', 7), ('Gratitude', 5), ('1st person pl.', 4), ('2nd person start', 3), ('Factuality', 2), ('Apologizing', 1), ('Please start', 1)]\n"
     ]
    }
   ],
   "source": [
    "def concatList(data):\n",
    "    results = []\n",
    "    for rec in data:\n",
    "        if type(rec) == list:\n",
    "            results += rec\n",
    "            results = concatList(results)\n",
    "        else:\n",
    "            results.append(rec)\n",
    "    return results\n",
    "\n",
    "concatList(diff_strategies)    \n",
    "from collections import Counter\n",
    "t=Counter(concatList(diff_strategies))\n",
    "print(t.most_common())\n",
    "t1=t.most_common()\n"
   ]
  },
  {
   "cell_type": "code",
   "execution_count": 352,
   "metadata": {},
   "outputs": [
    {
     "name": "stdout",
     "output_type": "stream",
     "text": [
      "('2nd person', '1st person', 'HASHEDGE', 'HASPOSITIVE', '1st person start', 'HASNEGATIVE', 'SUBJUNCTIVE', 'Hedges', 'Please', 'Direct question', 'Indirect (greeting)', 'INDICATIVE', 'Direct start', 'Gratitude', '1st person pl.', '2nd person start', 'Factuality', 'Apologizing', 'Please start') (49, 27, 26, 23, 22, 21, 16, 15, 12, 10, 10, 9, 7, 5, 4, 3, 2, 1, 1)\n"
     ]
    },
    {
     "data": {
      "image/png": "[encoded data removed]",
      "text/plain": [
       "<matplotlib.figure.Figure at 0x11ddfa3c8>"
      ]
     },
     "metadata": {},
     "output_type": "display_data"
    }
   ],
   "source": [
    "plt.figure(figsize=(20,5))\n",
    "\n",
    "labels, values=zip(*t1)\n",
    "plt.bar(np.arange(len(labels))+0.12, values, label=\"EN<CH\")\n",
    "plt.title(\"Different_direction set\")\n",
    "plt.xticks(np.arange(len(labels)),labels, rotation=45)\n",
    "plt.ylim(0, 72)\n",
    "print(labels, values)\n",
    "plt.show()\n"
   ]
  },
  {
   "cell_type": "markdown",
   "metadata": {},
   "source": [
    "### 3-5. Simple Classifier to detect 'different_label_set'"
   ]
  },
  {
   "cell_type": "code",
   "execution_count": 340,
   "metadata": {
    "collapsed": true
   },
   "outputs": [],
   "source": [
    "from sklearn import linear_model\n",
    "from sklearn import model_selection, preprocessing, linear_model, naive_bayes, metrics, svm\n",
    "from sklearn.feature_extraction.text import TfidfVectorizer, CountVectorizer\n",
    "\n",
    "train_x, valid_x, train_y, valid_y = model_selection.train_test_split(codings['Request'], codings['different_label_set'])"
   ]
  },
  {
   "cell_type": "code",
   "execution_count": 353,
   "metadata": {
    "collapsed": true
   },
   "outputs": [],
   "source": [
    "# label encode the target variable \n",
    "encoder = preprocessing.LabelEncoder()\n",
    "train_y = encoder.fit_transform(train_y)\n",
    "valid_y = encoder.fit_transform(valid_y)"
   ]
  },
  {
   "cell_type": "code",
   "execution_count": 343,
   "metadata": {
    "collapsed": true
   },
   "outputs": [],
   "source": [
    "# create a count vectorizer object \n",
    "count_vect = CountVectorizer(analyzer='word', token_pattern=r'\\w{1,}')\n",
    "count_vect.fit(codings['Request'])\n",
    "\n",
    "# transform the training and validation data using count vectorizer object\n",
    "xtrain_count =  count_vect.transform(train_x)\n",
    "xvalid_count =  count_vect.transform(valid_x)"
   ]
  },
  {
   "cell_type": "code",
   "execution_count": 345,
   "metadata": {
    "collapsed": true
   },
   "outputs": [],
   "source": [
    "# word level tf-idf\n",
    "tfidf_vect = TfidfVectorizer(analyzer='word', token_pattern=r'\\w{1,}', max_features=5000)\n",
    "tfidf_vect.fit(codings['Request'])\n",
    "xtrain_tfidf =  tfidf_vect.transform(train_x)\n",
    "xvalid_tfidf =  tfidf_vect.transform(valid_x)\n",
    "\n",
    "# ngram level tf-idf \n",
    "tfidf_vect_ngram = TfidfVectorizer(analyzer='word', token_pattern=r'\\w{1,}', ngram_range=(1,3), max_features=5000)\n",
    "tfidf_vect_ngram.fit(codings['Request'])\n",
    "xtrain_tfidf_ngram =  tfidf_vect_ngram.transform(train_x)\n",
    "xvalid_tfidf_ngram =  tfidf_vect_ngram.transform(valid_x)"
   ]
  },
  {
   "cell_type": "code",
   "execution_count": 347,
   "metadata": {
    "collapsed": true
   },
   "outputs": [],
   "source": [
    "def train_model(classifier, feature_vector_train, label, feature_vector_valid, is_neural_net=False):\n",
    "    # fit the training dataset on the classifier\n",
    "    classifier.fit(feature_vector_train, label)\n",
    "    \n",
    "    # predict the labels on validation dataset\n",
    "    predictions = classifier.predict(feature_vector_valid)\n",
    "    \n",
    "    if is_neural_net:\n",
    "        predictions = predictions.argmax(axis=-1)\n",
    "    \n",
    "    return metrics.accuracy_score(predictions, valid_y)"
   ]
  },
  {
   "cell_type": "code",
   "execution_count": 350,
   "metadata": {},
   "outputs": [
    {
     "name": "stdout",
     "output_type": "stream",
     "text": [
      "NB, Count Vectors:  0.793333333333\n",
      "NB, WordLevel TF-IDF:  0.826666666667\n",
      "NB, N-Gram Vectors:  0.826666666667\n",
      "LR, Count Vectors:  0.826666666667\n",
      "LR, WordLevel TF-IDF:  0.826666666667\n",
      "LR, N-Gram Vectors:  0.826666666667\n"
     ]
    }
   ],
   "source": [
    "# # Naive Bayes on Count Vectors\n",
    "accuracy = train_model(naive_bayes.MultinomialNB(), xtrain_count, train_y, xvalid_count)\n",
    "print(\"NB, Count Vectors: \", accuracy)\n",
    "\n",
    "# Naive Bayes on Word Level TF IDF Vectors\n",
    "accuracy = train_model(naive_bayes.MultinomialNB(), xtrain_tfidf, train_y, xvalid_tfidf)\n",
    "print(\"NB, WordLevel TF-IDF: \", accuracy)\n",
    "\n",
    "# Naive Bayes on Ngram Level TF IDF Vectors\n",
    "accuracy = train_model(naive_bayes.MultinomialNB(), xtrain_tfidf_ngram, train_y, xvalid_tfidf_ngram)\n",
    "print(\"NB, N-Gram Vectors: \", accuracy)\n",
    "\n",
    "# Linear Classifier on Count Vectors\n",
    "accuracy = train_model(linear_model.LogisticRegression(), xtrain_count, train_y, xvalid_count)\n",
    "print(\"LR, Count Vectors: \", accuracy)\n",
    "\n",
    "# Linear Classifier on Word Level TF IDF Vectors\n",
    "accuracy = train_model(linear_model.LogisticRegression(), xtrain_tfidf, train_y, xvalid_tfidf)\n",
    "print(\"LR, WordLevel TF-IDF: \", accuracy)\n",
    "\n",
    "# Linear Classifier on Ngram Level TF IDF Vectors\n",
    "accuracy = train_model(linear_model.LogisticRegression(), xtrain_tfidf_ngram, train_y, xvalid_tfidf_ngram)\n",
    "print(\"LR, N-Gram Vectors: \", accuracy)\n"
   ]
  },
  {
   "cell_type": "code",
   "execution_count": 351,
   "metadata": {},
   "outputs": [
    {
     "name": "stdout",
     "output_type": "stream",
     "text": [
      "SVM, N-Gram Vectors:  0.826666666667\n",
      "SVM, Count Vectors:  0.8\n"
     ]
    }
   ],
   "source": [
    "# SVM on Ngram Level TF IDF Vectors\n",
    "accuracy = train_model(svm.LinearSVC(), xtrain_tfidf_ngram, train_y, xvalid_tfidf_ngram)\n",
    "print(\"SVM, N-Gram Vectors: \", accuracy)\n",
    "\n",
    "# SVM on Count Vectors\n",
    "accuracy = train_model(svm.LinearSVC(), xtrain_count, train_y, xvalid_count)\n",
    "print(\"SVM, Count Vectors: \", accuracy)"
   ]
  },
  {
   "cell_type": "markdown",
   "metadata": {},
   "source": [
    "# 4. Categorizing by Strategies"
   ]
  },
  {
   "cell_type": "code",
   "execution_count": 390,
   "metadata": {},
   "outputs": [],
   "source": [
    "import json\n",
    "import pprint\n",
    "    \n",
    "with open(\"zscore_sort_in_strategies.json\") as fin:\n",
    "    t = fin.read()\n",
    "\n",
    "data = json.loads(t)\n",
    "# pprint.pprint(data)"
   ]
  },
  {
   "cell_type": "code",
   "execution_count": 359,
   "metadata": {},
   "outputs": [
    {
     "name": "stdout",
     "output_type": "stream",
     "text": [
      "20\n",
      "dict_keys(['2nd person', 'HASHEDGE', 'HASPOSITIVE', 'Direct question', 'Factuality', 'SUBJUNCTIVE', 'HASNEGATIVE', '1st person', 'Hedges', 'Deference', '1st person pl.', '1st person start', 'Gratitude', 'Direct start', 'Indirect (greeting)', 'Please', 'Apologizing', 'INDICATIVE', '2nd person start', 'Please start'])\n"
     ]
    }
   ],
   "source": [
    "print(len(data))\n",
    "print(data.keys())"
   ]
  },
  {
   "cell_type": "code",
   "execution_count": 370,
   "metadata": {},
   "outputs": [],
   "source": [
    "data_np = {}\n",
    "for strategy, sentences in data.items():\n",
    "#     print(strategy, sentences)\n",
    "    temp_data = np.zeros((len(sentences), 2))\n",
    "#     print(temp_data)\n",
    "    for i, sentence in enumerate(sentences):\n",
    "        temp_data[i][0] = sentence[\"ch_mean\"]\n",
    "        temp_data[i][1] = sentence[\"en_mean\"]\n",
    "#         print(temp_data)\n",
    "    data_np[strategy] = temp_data\n",
    "# print(data_np.items())"
   ]
  },
  {
   "cell_type": "markdown",
   "metadata": {},
   "source": [
    "### 4-1. T-Tests and Correlations between EN and CH ratings in each strategy"
   ]
  },
  {
   "cell_type": "code",
   "execution_count": 376,
   "metadata": {},
   "outputs": [
    {
     "name": "stdout",
     "output_type": "stream",
     "text": [
      "2nd person\n",
      "EN mean:  0.025 CH mean:  0.051\n",
      "Ttest_indResult(statistic=0.56812604879814033, pvalue=0.57009977840848802)\n",
      "(0.61061951885641363, 8.7940606868442352e-45)\n",
      "==================================\n",
      "HASHEDGE\n",
      "EN mean:  0.022 CH mean:  0.028\n",
      "Ttest_indResult(statistic=0.10041503574333355, pvalue=0.92006539545548172)\n",
      "(0.54510317319352386, 7.108121416222303e-17)\n",
      "==================================\n",
      "HASPOSITIVE\n",
      "EN mean:  0.074 CH mean:  0.078\n",
      "Ttest_indResult(statistic=0.05964340829905148, pvalue=0.95246310037116078)\n",
      "(0.64456027813713856, 2.4576271212683712e-31)\n",
      "==================================\n",
      "Direct question\n",
      "EN mean:  -0.278 CH mean:  -0.32\n",
      "Ttest_indResult(statistic=-0.50255345274566565, pvalue=0.61572784371730704)\n",
      "(0.61164751688831731, 4.4870108865798416e-14)\n",
      "==================================\n",
      "Factuality\n",
      "EN mean:  -0.483 CH mean:  -0.196\n",
      "Ttest_indResult(statistic=1.3464321537624344, pvalue=0.18476057764906692)\n",
      "(0.61864613834590854, 0.0012705249470196236)\n",
      "==================================\n",
      "SUBJUNCTIVE\n",
      "EN mean:  0.079 CH mean:  0.381\n",
      "Ttest_indResult(statistic=2.8284098495059387, pvalue=0.0052272576221571018)\n",
      "(0.66167486179689128, 2.246524734344877e-12)\n",
      "==================================\n",
      "HASNEGATIVE\n",
      "EN mean:  -0.116 CH mean:  -0.055\n",
      "Ttest_indResult(statistic=0.81757706419250309, pvalue=0.41410836674172757)\n",
      "(0.66556948600790167, 6.2161393114232201e-26)\n",
      "==================================\n",
      "1st person\n",
      "EN mean:  0.074 CH mean:  0.086\n",
      "Ttest_indResult(statistic=0.185447724516527, pvalue=0.85296451511943172)\n",
      "(0.61224490417696997, 8.1429992304832093e-24)\n",
      "==================================\n",
      "Hedges\n",
      "EN mean:  0.067 CH mean:  0.002\n",
      "Ttest_indResult(statistic=-0.69248748925135617, pvalue=0.48947671935891957)\n",
      "(0.5678285690981475, 1.6062985505040014e-09)\n",
      "==================================\n",
      "Deference\n",
      "EN mean:  0.978 CH mean:  0.495\n",
      "Ttest_indResult(statistic=-1.8516142102899535, pvalue=0.08262631151071545)\n",
      "(0.48756672231058162, 0.18306499501011245)\n",
      "==================================\n",
      "1st person pl.\n",
      "EN mean:  0.125 CH mean:  0.038\n",
      "Ttest_indResult(statistic=-0.49803628259506322, pvalue=0.61970085331740754)\n",
      "(0.73197553361079515, 1.1080857205581205e-08)\n",
      "==================================\n",
      "1st person start\n",
      "EN mean:  0.086 CH mean:  0.108\n",
      "Ttest_indResult(statistic=0.34009157367172727, pvalue=0.73398591379713884)\n",
      "(0.59498063285710323, 1.0275959641038864e-18)\n",
      "==================================\n",
      "Gratitude\n",
      "EN mean:  0.844 CH mean:  0.723\n",
      "Ttest_indResult(statistic=-0.90459780589075611, pvalue=0.36929648357594624)\n",
      "(0.1235526717465073, 0.50785115301596084)\n",
      "==================================\n",
      "Direct start\n",
      "EN mean:  -0.231 CH mean:  -0.206\n",
      "Ttest_indResult(statistic=0.20183533582262239, pvalue=0.84032640886187571)\n",
      "(0.73093593909444299, 1.4316267767742493e-13)\n",
      "==================================\n",
      "Indirect (greeting)\n",
      "EN mean:  0.389 CH mean:  0.252\n",
      "Ttest_indResult(statistic=-1.3544787523266555, pvalue=0.1782161172169113)\n",
      "(0.4047619059300212, 0.0014738327667651115)\n",
      "==================================\n",
      "Please\n",
      "EN mean:  -0.128 CH mean:  0.212\n",
      "Ttest_indResult(statistic=2.0621674958554039, pvalue=0.042011702003533283)\n",
      "(0.72358036442523144, 9.1283562372525704e-09)\n",
      "==================================\n",
      "Apologizing\n",
      "EN mean:  0.555 CH mean:  0.528\n",
      "Ttest_indResult(statistic=-0.11423961647188755, pvalue=0.90971980794404061)\n",
      "(0.80326335809425287, 5.9611296123879651e-05)\n",
      "==================================\n",
      "INDICATIVE\n",
      "EN mean:  0.027 CH mean:  -0.002\n",
      "Ttest_indResult(statistic=-0.29761840081283858, pvalue=0.76641749734736464)\n",
      "(0.60521171099507876, 1.1181546291958198e-08)\n",
      "==================================\n",
      "2nd person start\n",
      "EN mean:  -0.091 CH mean:  -0.187\n",
      "Ttest_indResult(statistic=-0.51778512963048362, pvalue=0.60639346755522539)\n",
      "(0.7607707205881018, 2.7694360224569978e-07)\n",
      "==================================\n",
      "Please start\n",
      "EN mean:  -0.821 CH mean:  -0.724\n",
      "Ttest_indResult(statistic=0.25879590993537693, pvalue=0.80104171212782205)\n",
      "(-0.1563658131468563, 0.76736287326101171)\n",
      "==================================\n"
     ]
    }
   ],
   "source": [
    "from scipy.stats import pearsonr\n",
    "\n",
    "for strategy, arr in data_np.items():\n",
    "    ttest_result = stats.ttest_ind(arr[:, 0], arr[:, 1])\n",
    "    print(f\"{strategy}\")\n",
    "    print(\"EN mean: \", np.mean(arr[:, 1]).round(3), \"CH mean: \", np.mean(arr[:, 0]).round(3))\n",
    "    print(ttest_result)\n",
    "    corr=stats.pearsonr(arr[:, 0], arr[:, 1])\n",
    "    print(corr)\n",
    "    print(\"==================================\")"
   ]
  },
  {
   "cell_type": "code",
   "execution_count": 383,
   "metadata": {},
   "outputs": [
    {
     "data": {
      "image/png": "[encoded data removed]",
      "text/plain": [
       "<matplotlib.figure.Figure at 0x11fffd780>"
      ]
     },
     "metadata": {},
     "output_type": "display_data"
    }
   ],
   "source": [
    "fig, ax = plt.subplots()\n",
    "\n",
    "fig.set_size_inches((15, 8))\n",
    "\n",
    "plt.xticks(rotation=70)\n",
    "\n",
    "keys = []\n",
    "ch_vals = []\n",
    "en_vals = []\n",
    "for strategy, arr in data_np.items():\n",
    "    keys.append(strategy)\n",
    "    ch_vals.append(arr[:, 0].mean())\n",
    "    en_vals.append(arr[:, 1].mean())\n",
    "\n",
    "ch_vals = np.array(ch_vals)\n",
    "en_vals = np.array(en_vals)\n",
    "y_pos = np.arange(len(keys))\n",
    "ax.bar(y_pos+0.12, en_vals, width=0.2, align='edge', alpha=0.5, label=\"EN\")\n",
    "ax.bar(y_pos-0.12, ch_vals, width=0.2, align='edge', alpha=0.5, label=\"CH\")\n",
    "\n",
    "ax.set_xticks(y_pos - 0.2)\n",
    "ax.set_xticklabels(keys)\n",
    "ax.set_ylabel('mean')\n",
    "ax.legend()\n",
    "\n",
    "plt.show()"
   ]
  },
  {
   "cell_type": "code",
   "execution_count": 388,
   "metadata": {},
   "outputs": [
    {
     "name": "stdout",
     "output_type": "stream",
     "text": [
      "based on t test\n",
      "SUBJUNCTIVE\n",
      "EN mean of means 0.0790239535272\n",
      "CH mean of means 0.380661094117\n",
      "t test p value 0.00522725762216\n",
      "\n",
      "based on t test\n",
      "Deference\n",
      "EN mean of means 0.97761565778\n",
      "CH mean of means 0.494953796268\n",
      "t test p value 0.0826263115107\n",
      "\n",
      "based on correlation\n",
      "Deference\n",
      "EN mean of means 0.97761565778\n",
      "CH mean of means 0.494953796268\n",
      "correlation p value 0.18306499501\n",
      "\n",
      "based on correlation\n",
      "Gratitude\n",
      "EN mean of means 0.844300632876\n",
      "CH mean of means 0.722626225602\n",
      "correlation p value 0.507851153016\n",
      "\n",
      "based on t test\n",
      "Please\n",
      "EN mean of means -0.128382678956\n",
      "CH mean of means 0.211516687845\n",
      "t test p value 0.0420117020035\n",
      "\n",
      "based on correlation\n",
      "Please start\n",
      "EN mean of means -0.820683469375\n",
      "CH mean of means -0.723561659455\n",
      "correlation p value 0.767362873261\n",
      "\n",
      "['SUBJUNCTIVE', 'Deference', 'Deference', 'Gratitude', 'Please', 'Please start']\n"
     ]
    }
   ],
   "source": [
    "diff_strategy=[]\n",
    "\n",
    "for strategy, arr in data_np.items():\n",
    "    stat, pvalue = stats.ttest_ind(arr[:, 0], arr[:, 1])\n",
    "    rscore,pvalue2=stats.pearsonr(arr[:, 0], arr[:, 1])\n",
    "    \n",
    "#     print(pvalue)\n",
    "    if pvalue < 0.1:\n",
    "        print(\"based on t test\")\n",
    "        print(f\"{strategy}\")\n",
    "        diff_strategy.append(strategy)\n",
    "        print(\"EN mean of means\", np.mean(arr[:, 1]))\n",
    "        print(\"CH mean of means\", np.mean(arr[:, 0]))\n",
    "        print(\"t test p value\", pvalue)\n",
    "        print(\"\")\n",
    "    if pvalue2 > 0.05:\n",
    "        print(\"based on correlation\")\n",
    "        print(f\"{strategy}\")\n",
    "        diff_strategy.append(strategy)\n",
    "        print(\"EN mean of means\", np.mean(arr[:, 1]))\n",
    "        print(\"CH mean of means\", np.mean(arr[:, 0]))\n",
    "        print(\"correlation p value\", pvalue2)\n",
    "        print(\"\")\n",
    "\n",
    "print(diff_strategy)\n",
    "    "
   ]
  },
  {
   "cell_type": "code",
   "execution_count": 387,
   "metadata": {},
   "outputs": [
    {
     "data": {
      "image/png": "[encoded data removed]",
      "text/plain": [
       "<matplotlib.figure.Figure at 0x117063c18>"
      ]
     },
     "metadata": {},
     "output_type": "display_data"
    }
   ],
   "source": [
    "fig, ax = plt.subplots()\n",
    "\n",
    "fig.set_size_inches((15, 8))\n",
    "\n",
    "plt.xticks(rotation=70)\n",
    "\n",
    "keys = []\n",
    "ch_vals = []\n",
    "en_vals = []\n",
    "for strategy, arr in data_np.items():\n",
    "    if strategy in diff_strategy:\n",
    "        keys.append(strategy)\n",
    "        ch_vals.append(arr[:, 0].mean())\n",
    "        en_vals.append(arr[:, 1].mean())\n",
    "\n",
    "ch_vals = np.array(ch_vals)\n",
    "en_vals = np.array(en_vals)\n",
    "y_pos = np.arange(len(keys))\n",
    "ax.bar(y_pos-0.2, ch_vals, width=0.2, align='edge', alpha=0.5, label=\"CH\")\n",
    "ax.bar(y_pos+0.2, en_vals, width=0.2, align='edge', alpha=0.5, label=\"EN\")\n",
    "ax.set_xticks(y_pos - 0.2)\n",
    "ax.set_xticklabels(keys)\n",
    "ax.set_ylabel('mean')\n",
    "ax.legend()\n",
    "\n",
    "plt.show()"
   ]
  },
  {
   "cell_type": "code",
   "execution_count": null,
   "metadata": {
    "collapsed": true
   },
   "outputs": [],
   "source": []
  }
 ],
 "metadata": {
  "kernelspec": {
   "display_name": "Python 3",
   "language": "python",
   "name": "python3"
  },
  "language_info": {
   "codemirror_mode": {
    "name": "ipython",
    "version": 3
   },
   "file_extension": ".py",
   "mimetype": "text/x-python",
   "name": "python",
   "nbconvert_exporter": "python",
   "pygments_lexer": "ipython3",
   "version": "3.6.6"
  }
 },
 "nbformat": 4,
 "nbformat_minor": 2
}
