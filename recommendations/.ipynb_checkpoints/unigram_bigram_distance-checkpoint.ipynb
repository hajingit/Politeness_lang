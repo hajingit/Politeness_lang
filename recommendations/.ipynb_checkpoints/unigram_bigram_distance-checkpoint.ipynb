{
 "cells": [
  {
   "cell_type": "code",
   "execution_count": 14,
   "metadata": {},
   "outputs": [],
   "source": [
    "import pandas as pd\n",
    "import numpy as np\n",
    "\n",
    "import nltk\n",
    "\n",
    "from collections import Counter\n",
    "from functools import reduce\n",
    "\n",
    "import string"
   ]
  },
  {
   "cell_type": "markdown",
   "metadata": {},
   "source": [
    "### wrap-up for each request"
   ]
  },
  {
   "cell_type": "code",
   "execution_count": 46,
   "metadata": {},
   "outputs": [],
   "source": [
    "class Request:\n",
    "    \n",
    "    stops = nltk.corpus.stopwords.words(\"english\") + list(string.punctuation)\n",
    "    \n",
    "    @staticmethod\n",
    "    def tokenize(text):\n",
    "        return [i for i in nltk.word_tokenize(text.lower()) if i not in Request.stops]\n",
    "    \n",
    "    @staticmethod\n",
    "    def unigram(tokens):\n",
    "        return Counter(tokens)\n",
    "    \n",
    "    @staticmethod\n",
    "    def bigram(tokens):\n",
    "        while len(tokens) < 2:\n",
    "            tokens.append(\"\")\n",
    "        return Counter(((tokens[i], tokens[i+1]) for i in range(len(tokens-1))))\n",
    "    \n",
    "    def __init__(self, rid, text, score, ngram_mode):\n",
    "        assert ngram_mode in {\"unigram\", \"bigram\"}, \"illegal ngram mode\"\n",
    "        self._rid = rid\n",
    "        self._text = text\n",
    "        self._score = score\n",
    "        if ngram_mode == \"unigram\":\n",
    "            self._ngram = Request.unigram(Request.tokenize(text))\n",
    "        else:\n",
    "            self._ngram = Request.bigram(Request.tokenize(text))\n",
    "            \n",
    "    def distance(self, right):\n",
    "        assert isinstance(right, Request), f\"wrong operand for Request.distance({type(right)})\"\n",
    "        keys = set(self._ngram.keys())\n",
    "        keys.update(right._ngram.keys())\n",
    "        return reduce(lambda x,y : x+y, map(lambda k : (self._ngram.get(k, 0) - right._ngram.get(k, 0))**2, keys))"
   ]
  },
  {
   "cell_type": "markdown",
   "metadata": {},
   "source": [
    "### read dataset"
   ]
  },
  {
   "cell_type": "code",
   "execution_count": 47,
   "metadata": {},
   "outputs": [],
   "source": [
    "df_stack = pd.read_csv(\"Stanford_politeness_corpus/stack-exchange.annotated.csv\", index_col=1)\n",
    "df_wiki = pd.read_csv(\"Stanford_politeness_corpus/wikipedia.annotated.csv\", index_col=1)"
   ]
  },
  {
   "cell_type": "code",
   "execution_count": 48,
   "metadata": {},
   "outputs": [],
   "source": [
    "df = pd.concat([df_stack, df_wiki])"
   ]
  },
  {
   "cell_type": "code",
   "execution_count": 49,
   "metadata": {},
   "outputs": [
    {
     "name": "stdout",
     "output_type": "stream",
     "text": [
      "10956\n",
      "Index(['Community', 'Request', 'Score1', 'Score2', 'Score3', 'Score4',\n",
      "       'Score5', 'TurkId1', 'TurkId2', 'TurkId3', 'TurkId4', 'TurkId5',\n",
      "       'Normalized Score'],\n",
      "      dtype='object')\n"
     ]
    }
   ],
   "source": [
    "print(len(df))\n",
    "print(df.columns)"
   ]
  },
  {
   "cell_type": "markdown",
   "metadata": {},
   "source": [
    "### build requests and find closest"
   ]
  },
  {
   "cell_type": "code",
   "execution_count": 50,
   "metadata": {},
   "outputs": [],
   "source": [
    "unigram_requests = [Request(k, v[\"Request\"], v[\"Normalized Score\"], \"unigram\") for k, v in df[[\"Request\", \"Normalized Score\"]].to_dict(\"index\").items()]"
   ]
  },
  {
   "cell_type": "code",
   "execution_count": 62,
   "metadata": {},
   "outputs": [],
   "source": [
    "new_req = Request(rid=-1, text=\"Please tackle the <url> of <url>.\", score=0, ngram_mode=\"unigram\")"
   ]
  },
  {
   "cell_type": "code",
   "execution_count": 63,
   "metadata": {},
   "outputs": [],
   "source": [
    "ret = min(unigram_requests, key=new_req.distance)"
   ]
  },
  {
   "cell_type": "code",
   "execution_count": 64,
   "metadata": {},
   "outputs": [
    {
     "data": {
      "text/plain": [
       "'<url>???'"
      ]
     },
     "execution_count": 64,
     "metadata": {},
     "output_type": "execute_result"
    }
   ],
   "source": [
    "ret._text"
   ]
  },
  {
   "cell_type": "code",
   "execution_count": null,
   "metadata": {},
   "outputs": [],
   "source": []
  }
 ],
 "metadata": {
  "kernelspec": {
   "display_name": "Python [default]",
   "language": "python",
   "name": "python3"
  },
  "language_info": {
   "codemirror_mode": {
    "name": "ipython",
    "version": 3
   },
   "file_extension": ".py",
   "mimetype": "text/x-python",
   "name": "python",
   "nbconvert_exporter": "python",
   "pygments_lexer": "ipython3",
   "version": "3.6.5"
  }
 },
 "nbformat": 4,
 "nbformat_minor": 2
}
