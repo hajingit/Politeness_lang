{
 "cells": [
  {
   "cell_type": "code",
   "execution_count": null,
   "metadata": {
    "collapsed": true
   },
   "outputs": [],
   "source": [
    "from politeness.test_documents import TEST_DOCUMENTS, TEST_TEXTS\n",
    "from politeness.api_util import get_scores_strategies_token_indices\n",
    "\n",
    "#for text in TEST_TEXTS:\n",
    "#  print(get_scores_and_strategies(text))\n",
    "\n",
    "import numpy as np\n",
    "import pandas as pd\n",
    "import json\n",
    "\n",
    "df = pd.read_csv(\"PolCodings600.csv\", encoding=\"utf-8\")\n",
    "\n",
    "result = {}\n",
    "\n",
    "for i, row in df.iterrows():\n",
    "  Num = row[\"Num\"]\n",
    "  Request = row[\"Request\"]\n",
    "  ret = get_scores_strategies_token_indices(Request)\n",
    "  en_mean = np.asscalar(np.nanmean(np.array((row[\"EN1\":\"EN31\"]).values, dtype=np.float32)))\n",
    "  ch_mean = np.asscalar(np.nanmean(np.array((row[\"CH1\":\"CH21\"]).values, dtype=np.float32)))\n",
    "  for s in ret[\"strategies\"]:\n",
    "    if s not in result:\n",
    "      result[s] = []\n",
    "    result[s].append(\n",
    "      {\n",
    "        \"Num\": Num,\n",
    "        \"Request\": Request,\n",
    "        \"en_mean\": en_mean,\n",
    "        \"ch_mean\": ch_mean,\n",
    "      }\n",
    "    )\n",
    "  if i % 20 == 0:\n",
    "    print(i)\n",
    "\n",
    "with open(\"sort_in_strategies.json\", \"w\", encoding=\"utf-8\") as fout:\n",
    "  json.dump(result, fout)\n",
    "\n",
    "import pprint\n",
    "\n",
    "pprint.pprint(result)"
   ]
  }
 ],
 "metadata": {
  "kernelspec": {
   "display_name": "Python 3",
   "language": "python",
   "name": "python3"
  },
  "language_info": {
   "codemirror_mode": {
    "name": "ipython",
    "version": 3
   },
   "file_extension": ".py",
   "mimetype": "text/x-python",
   "name": "python",
   "nbconvert_exporter": "python",
   "pygments_lexer": "ipython3",
   "version": "3.6.6"
  }
 },
 "nbformat": 4,
 "nbformat_minor": 2
}
